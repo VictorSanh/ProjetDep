{
 "cells": [
  {
   "cell_type": "markdown",
   "metadata": {},
   "source": [
    "# Chaines de Markhov"
   ]
  },
  {
   "cell_type": "code",
   "execution_count": 73,
   "metadata": {
    "collapsed": false
   },
   "outputs": [
    {
     "name": "stdout",
     "output_type": "stream",
     "text": [
      "11.2\n"
     ]
    }
   ],
   "source": [
    "%matplotlib inline\n",
    "import matplotlib.pyplot as plt\n",
    "import pandas as pd\n",
    "import scipy\n",
    "import numpy as np\n",
    "from scipy import stats\n",
    "import pysal\n",
    "\n",
    "\n",
    "table = pd.read_csv('Databases/swaphist.csv', delimiter = \";\")\n",
    "table['Date'] = pd.to_datetime(table['Date'],dayfirst=True)\n",
    "#table = scipy.delete(table,table.shape[0]-1,0)\n",
    "print(min(table['1to5']))\n",
    "np.array(table['1to5'].quantile([k/5 for k in range(0, 5)]))\n",
    "output = pd.read_csv('Databases/testOutput.csv', delimiter = \";\")"
   ]
  },
  {
   "cell_type": "markdown",
   "metadata": {},
   "source": [
    "# Définition des fonctions"
   ]
  },
  {
   "cell_type": "markdown",
   "metadata": {},
   "source": [
    "### Calcul de la matrice de transition"
   ]
  },
  {
   "cell_type": "code",
   "execution_count": 29,
   "metadata": {
    "collapsed": false
   },
   "outputs": [],
   "source": [
    "#Calcule la place de l'élément dans un des n groupes\n",
    "'''def place(elem,table,freq):\n",
    "    xmin = min(table)\n",
    "    xmax = max(table)\n",
    "    delta = (xmax-xmin)/freq\n",
    "    if table[elem]==xmax : freq-1\n",
    "    else : return int((table[elem]-xmin)/delta)\n",
    "    #return min(int((table[elem]-xmin)/delta),freq-1)'''\n",
    "\n",
    "def place(elem, table, freq, quantiles):\n",
    "    k = 0\n",
    "    #print(\"elem : \",elem, \" - valeur : \",table[elem], \" - quantile : \", quantiles[k])\n",
    "    #print(\"elem : \",elem)\n",
    "    #print(table.size,table[elem])\n",
    "    #print(\"table : \",table[elem])\n",
    "    #print(\" - quant : \",quantiles[k])\n",
    "    while k<freq and table[elem]>=quantiles[k]:\n",
    "        k += 1\n",
    "    return k-1\n",
    "\n",
    "def placement(table, freq):\n",
    "    quantiles = np.array(table.quantile([k/freq for k in range(0, freq)]))\n",
    "    liste = []\n",
    "    for elem in table :\n",
    "        k=1\n",
    "        while k<freq and elem>=quantiles[k]:\n",
    "            k += 1\n",
    "        liste.append(k-1)\n",
    "    return np.array(liste)\n",
    "\n",
    "#Calcule la matrice de passage (fréquence de passage d'un groupe à l'autre)\n",
    "def matrice(table, freq):\n",
    "    #trans = np.zeros((freq,freq))\n",
    "    trans = np.zeros((freq,freq))\n",
    "    n = table.size\n",
    "    places = placement(table, freq)\n",
    "    #quantiles = np.array(table.quantile([k/freq for k in range(0, freq)]))\n",
    "    for i in range(0,n-1):\n",
    "        #trans[(place(i,table,freq, quantiles),place(i+1,table,freq, quantiles))] += 1\n",
    "        trans[places[i],places[i+1]] += 1\n",
    "    #for i in range(0,freq):\n",
    "    for i in range(0,freq):\n",
    "        sum_ligne = np.sum(trans[i])\n",
    "        #Certains intervalles ne sont jamais visités. \n",
    "        if sum_ligne == 0 : \n",
    "            trans[(i,i)] = 0\n",
    "        else :\n",
    "            #for j in range(0,freq):\n",
    "            for j in range(0,freq):\n",
    "                trans[(i,j)] = trans[(i,j)]/sum_ligne\n",
    "    return trans\n",
    "\n",
    "\n",
    "\n",
    "#La matrice de transition est-elle bien stochastique ?\n",
    "'''test = matrice(table['1to5'],20)\n",
    "print(test)\n",
    "for i in range(0,test.shape[0]):\n",
    "    #print(sum(test[i]))\n",
    "    if(sum(test[i])!=1.0): print(sum(test[i]))\n",
    "'''\n",
    "\n",
    "colors = ['RED','GREEN','BLUE','BLACK','ORANGE','PINK','BROWN','YELLOW','CYAN']\n",
    "#fig, ax = plt.subplots()\n",
    "#ax.plot_date(table['Date'], table['1to5'],'-',color='BLACK')\n",
    "#ax.plot_date(table['Date'],20,'-',color='RED')\n",
    "#fig.autofmt_xdate()"
   ]
  },
  {
   "cell_type": "markdown",
   "metadata": {},
   "source": [
    "Les matrices de transitions ne sont pas stochastiques car certains intervalles de valeurs ne sont jamais visités : typiquement, les valeurs élevés atteintes durant le pic de 2008-2013. Les variations sont très importantes lors de cette période et les volatilités font des sauts importants d'une semaine à l'autre.\n",
    "\n",
    "Il faudra prendre cela en compte lorsque l'on conduira les tests. En effet, les tests doivent être effectués sur des matrices stochastiques. On supprimera donc les colonnes et lignes vides."
   ]
  },
  {
   "cell_type": "markdown",
   "metadata": {},
   "source": [
    "### Fonctions auxiliaires pour le calcul des statistiques de test"
   ]
  },
  {
   "cell_type": "code",
   "execution_count": 7,
   "metadata": {
    "collapsed": false
   },
   "outputs": [],
   "source": [
    "#Une fonction pour supprimer les colonnes et lignes qui ne contiennent que des zeros\n",
    "def zero(mat):\n",
    "    liste = []\n",
    "    for i in range(0,mat.shape[0]-1):\n",
    "        if(sum(mat[i])==0): liste.append(i)\n",
    "    mat = scipy.delete(mat,liste,0)\n",
    "    liste = []\n",
    "    for i in range(0,mat.shape[1]-1): \n",
    "        if(sum(mat[:,i])==0): liste.append(i)\n",
    "    mat = scipy.delete(mat,liste,1)\n",
    "    return mat"
   ]
  },
  {
   "cell_type": "code",
   "execution_count": 55,
   "metadata": {
    "collapsed": false
   },
   "outputs": [],
   "source": [
    "def A(table,i,freq,T):\n",
    "    a=0\n",
    "    delta = table.size/T\n",
    "    tmp=0\n",
    "    for t in range(0,T):\n",
    "        sous_table = table[int(t*delta): int((t+1)*delta)]\n",
    "        sous_table.index = range(sous_table.shape[0])\n",
    "        #tmp =+ n(sous_table,i,freq)\n",
    "        if n(sous_table,i,freq)!=0 : a+=1\n",
    "    return a\n",
    "\n",
    "def B(MT,i):\n",
    "    B = []\n",
    "    for j in range(0,MT.shape[1]):\n",
    "        if MT[i,j]!=0 : B.append(j)\n",
    "    return B\n",
    "\n",
    "#elements de table appartenant à la i-ème classe\n",
    "def n(sous_table,i,freq):\n",
    "    tot = 0\n",
    "    quantiles = np.array(sous_table.quantile([k/freq for k in range(0, freq)]))\n",
    "    for elem in range(0,sous_table.size) :\n",
    "        if place(elem,sous_table,freq,quantiles)==i : tot += 1\n",
    "    return tot\n",
    "\n",
    "def d(table,i,T,freq):\n",
    "    delta = table.size/freq\n",
    "    di = []\n",
    "    for t in range(0,T):\n",
    "        sous_table = table[int(t*delta): int((t+1)*delta)]\n",
    "        sous_table.index = range(sous_table.shape[0])\n",
    "        if n(sous_table,i,T)>0 : di.append(t)\n",
    "    return di\n",
    "\n",
    "def stat(table, MT, sous_table, sous_MT, T):\n",
    "    dg_lbt = 0\n",
    "    tmp = 0\n",
    "    for i in range(0,MT.shape[0]):\n",
    "        #print(\"i : \",i)\n",
    "        ni = n(sous_table,i, T)\n",
    "        if ni>0 :\n",
    "            Bi = B(MT,i)\n",
    "            for j in Bi:\n",
    "                tmp += ni*(sous_MT[i,j]-MT[i,j])**2/MT[i,j]\n",
    "                #if MT[i,j]!=0 : stat += ni*(sous_MT[i,j]-MT[i,j])**2/MT[i,j]\n",
    "    return tmp"
   ]
  },
  {
   "cell_type": "code",
   "execution_count": 32,
   "metadata": {
    "collapsed": true
   },
   "outputs": [],
   "source": [
    "#Les matrices de transition de la table est-elle homogène ?\n",
    "def homog(table, freq=50, T=5):\n",
    "    for i,elem in enumerate(table):\n",
    "        if i>0:\n",
    "            Q,p = homog_temp(table[elem].values,freq,T)\n",
    "            m1 = homog_int(table[elem].values,freq,T)\n",
    "            m2 = homog_reg(table[elem].values,freq,T)\n",
    "            print(\"p-valeur : \",p, \" - résultat du test par intervalles : \",m1,\" - résultat du test par régions : \",m2)\n",
    "            rep = p>0.05 and m1>0.5 and m2>0.5\n",
    "            if rep : print(\"La série de valeur pour le swaption \",elem,\" est homogène\")\n",
    "            else : print(\"La série de valeur pour le swaption \",elem,\" n'est pas homogène\")\n",
    "    return 0"
   ]
  },
  {
   "cell_type": "markdown",
   "metadata": {},
   "source": [
    "## Les matrices de transition sont elles bien homogènes ?"
   ]
  },
  {
   "cell_type": "markdown",
   "metadata": {},
   "source": [
    "Pour que la matrice de transition calculée à partir des fréquences de transition ait un sens, il fait s'assurer qu'elle est bien homogène en temps. On va donc mener plusieurs test pour vérifier cette hypothèse lourde."
   ]
  },
  {
   "cell_type": "markdown",
   "metadata": {},
   "source": [
    "### Test d'homogénéité des intervalles par rapport à la matrice de transition globale"
   ]
  },
  {
   "cell_type": "markdown",
   "metadata": {},
   "source": [
    "On subdivise notre série de valeurs en un nombre $T$ d'intervalles. On vérifie que, si on calcule la matrice de transition sur chacun des intervalles, on retrouve bien la matrice de transition calculée sur toutes les valeurs de la série par un test du khi-2.\n",
    "\n",
    "\n",
    "Notre hypothèse nulle est donc : $H_0 = \\{\\forall t, \\le T, \\forall i,j, p_{i,j} (t) = p_{i,j}\\}$"
   ]
  },
  {
   "cell_type": "code",
   "execution_count": 54,
   "metadata": {
    "collapsed": false
   },
   "outputs": [],
   "source": [
    "def homog_temp(table, freq, T=5):\n",
    "    N = table.size\n",
    "    Q = 0\n",
    "    delta = N/T\n",
    "    MT = matrice(table, freq)\n",
    "    for t in range(0,T):\n",
    "        sous_table = table[int(t*delta): int((t+1)*delta)]\n",
    "        sous_table.index = range(sous_table.shape[0])\n",
    "        sous_MT = matrice(sous_table, freq)\n",
    "        Q += stat(table,MT,sous_table,sous_MT,T)\n",
    "    \n",
    "    dg_lib = 0\n",
    "    for i in range(0, MT.shape[0]):\n",
    "        ai = A(table,i,freq,T)\n",
    "        if ai>0 : dg_lib += (len(B(MT,i))-1)*(ai-1)\n",
    "    print(\"Degrés de liberté : \",dg_lib)\n",
    "    return Q, 1-stats.chi2.cdf(Q,dg_lib)"
   ]
  },
  {
   "cell_type": "markdown",
   "metadata": {},
   "source": [
    "### Test d'homogénéité par intervalle"
   ]
  },
  {
   "cell_type": "markdown",
   "metadata": {
    "collapsed": false
   },
   "source": [
    "On subdivise notre série de valeurs en un nombre $T$ d'intervalles. On va effectuer $T$ tests pour vérifier si chacune des $T$ matrices de transitions sont bien les mêmes que la matrice de transition globale.\n",
    "\n",
    "\n",
    "Notre hypothèse nulle est donc, pour chacun des intervalles $ 0\\le t <T$ : $H_0^t = \\{\\forall i,j, p_{i,j} (t) = p_{i,j}\\}$"
   ]
  },
  {
   "cell_type": "code",
   "execution_count": 51,
   "metadata": {
    "collapsed": false
   },
   "outputs": [],
   "source": [
    "def homog_int(table, freq, T=5):\n",
    "    N = table.size\n",
    "    Q = 0\n",
    "    delta = N/T\n",
    "    moy = 0\n",
    "    MT = matrice(table, freq)\n",
    "    for i in range(0,freq):\n",
    "        Q = 0\n",
    "        Di = d(table,i,T,freq)\n",
    "        Bi = B(MT,i)\n",
    "        for t in Di:\n",
    "            ni = n(table,i,T)\n",
    "            sous_table = table[int(t*delta): int((t+1)*delta)]\n",
    "            sous_table.index = range(sous_table.shape[0])\n",
    "            sous_MT = matrice(sous_table,freq)\n",
    "            for j in Bi:\n",
    "                Q += ni*(MT[i,j]-sous_MT[i,j])**2/MT[i,j]\n",
    "        dg_lib = (len(Di)-1)*(len(Bi)-1)\n",
    "        p = 1-stats.chi2.cdf(Q,dg_lib)\n",
    "\n",
    "        print(\"Q : \",Q, \" - dg de lbte : \",dg_lib)\n",
    "        print(\"p-valeur du test sur le \",t,\"-ième intervalle : \",p)\n",
    "        if p>0.05 : moy += 1\n",
    "    \n",
    "    print(moy,\" intervalles de temps sur \",T,\" sont homogènes\")    \n",
    "    return moy/T\n",
    "\n",
    "\n",
    "    ''' for i in range(0,T):\n",
    "        sous_table = table[int(t*delta): int((t+1)*delta)]\n",
    "        sous_table.index = range(sous_table.shape[0])\n",
    "        sous_MT = matrice(sous_table, freq)\n",
    "        Q = stat(table,MT,sous_table,sous_MT,freq)\n",
    "        dg_lib = (len(B(MT,i))-1)*n(table,i,freq)\n",
    "        #for i in range(0, MT.shape[0]-1):\n",
    "            #print(B(MT,i),A(table,i,freq,T))\n",
    "            #dg_lib += (len(B(MT,i))-1)*(A(table,i,freq,T)-1)\n",
    "        p = 1-stats.chi2.cdf(Q,dg_lib)'''"
   ]
  },
  {
   "cell_type": "markdown",
   "metadata": {},
   "source": [
    "### Test région contre région"
   ]
  },
  {
   "cell_type": "markdown",
   "metadata": {},
   "source": [
    "On subdivise toujours notre série de valeurs en un nombre $T$ d'intervalles. Pour finir, on vérifie si les matrices de transitions de deux périodes sont identiques.\n",
    "\n",
    "Notre hypothèse nulle est donc, pour chacun des intervalles $ 0\\le t,u <T$ : $H_0^{t,u} = \\{\\forall i,j, p_{i,j}^t (t) = p_{i,j}^u\\}$"
   ]
  },
  {
   "cell_type": "code",
   "execution_count": 12,
   "metadata": {
    "collapsed": false
   },
   "outputs": [],
   "source": [
    "def homog_reg(table, freq, T=5):\n",
    "    N = table.size\n",
    "    Q = 0\n",
    "    delta = N/T\n",
    "    moy = 0\n",
    "    t,u = 0,0\n",
    "    for t in range(0,T):\n",
    "        for u in range(t+1,T):\n",
    "            sous_table1 = table[int(t*delta): int((t+1)*delta)]\n",
    "            sous_table2 = table[int(u*delta): int((u+1)*delta)]\n",
    "            sous_table1.index = range(int((t+1)*delta)-int(t*delta))\n",
    "            sous_table2.index = range(int((u+1)*delta)-int(u*delta))\n",
    "            sous_MT1 = matrice(sous_table1, freq)\n",
    "            sous_MT2 = matrice(sous_table2, freq)\n",
    "            Q = stat(sous_table1,sous_MT1,sous_table2,sous_MT2,T)\n",
    "            dg_lib = \n",
    "            MT = matrice(sous_table1, freq)\n",
    "            #for i in range(0, MT.shape[0]-1):\n",
    "                #dg_lib += max((len(B(MT,i))-1)*(A(table,i,freq,T)-1),0)\n",
    "            p = 1-stats.chi2.cdf(Q,dg_lib)\n",
    "            print(\"Q : \",Q,\" - dg lib : \",dg_lib)\n",
    "            print(\"p-valeur du test entre le \",t+1,\"-ième et le \",u+1,\"-ième intervalle : \",p)\n",
    "            if p>0.05 : moy += 1\n",
    "    \n",
    "    print(moy,\" paires d'intervalles de temps sur \",T,\" intervalles sont homogènes\")    \n",
    "    return 2*moy/(T*(T-1))"
   ]
  },
  {
   "cell_type": "markdown",
   "metadata": {
    "collapsed": true
   },
   "source": [
    "## Deux matrices de transition sont-elles égales ?"
   ]
  },
  {
   "cell_type": "markdown",
   "metadata": {},
   "source": [
    "Maintenant, on peut tester si deux matrices de transition sont égales. On appliquera la statistique de test précédement définie aux deux matrices.\n",
    "\n",
    "Notre hypothèse nulle est donc, si on note $(p_{i,j}^0)$ et $(p_{i,j}^1)$ les coefficents de chacune des deux matrices de transition : $H_0 = \\{\\forall i,j, p_{i,j}^0 = p_{i,j}^1\\}$"
   ]
  },
  {
   "cell_type": "code",
   "execution_count": 13,
   "metadata": {
    "collapsed": false
   },
   "outputs": [],
   "source": [
    "def egales(table1, table2, freq=10):\n",
    "    MT1 = matrice(table1, freq)\n",
    "    MT2 = matrice(table2, freq)\n",
    "    Q = stat(table1,MT1,table2,MT2,freq)\n",
    "    \n",
    "    dg_lib = 0\n",
    "    for i in range(0, MT1.shape[0]-1):\n",
    "        dg_lib += (len(B(MT1,i))-1)\n",
    "    return Q, 1-stats.chi2.cdf(Q,dg_lib)\n"
   ]
  },
  {
   "cell_type": "markdown",
   "metadata": {},
   "source": [
    "# Tests sur toute la période 2001-2016"
   ]
  },
  {
   "cell_type": "markdown",
   "metadata": {},
   "source": [
    "## Homogénéité"
   ]
  },
  {
   "cell_type": "code",
   "execution_count": 70,
   "metadata": {
    "collapsed": false
   },
   "outputs": [
    {
     "name": "stdout",
     "output_type": "stream",
     "text": [
      "Degrés de liberté :  420\n"
     ]
    },
    {
     "data": {
      "text/plain": [
       "(992.65539335059418, 0.0)"
      ]
     },
     "execution_count": 70,
     "metadata": {},
     "output_type": "execute_result"
    }
   ],
   "source": [
    "homog_temp(table['10to5'],25)"
   ]
  },
  {
   "cell_type": "code",
   "execution_count": 67,
   "metadata": {
    "collapsed": false,
    "scrolled": true
   },
   "outputs": [
    {
     "name": "stdout",
     "output_type": "stream",
     "text": [
      "Q :  96.0068000638  - dg de lbte :  4\n",
      "p-valeur du test sur le  4 -ième intervalle :  0.0\n",
      "Q :  1349.88695652  - dg de lbte :  16\n",
      "p-valeur du test sur le  4 -ième intervalle :  0.0\n",
      "Q :  502.620039683  - dg de lbte :  12\n",
      "p-valeur du test sur le  4 -ième intervalle :  0.0\n",
      "Q :  243.60831608  - dg de lbte :  8\n",
      "p-valeur du test sur le  4 -ième intervalle :  0.0\n",
      "Q :  438.424789359  - dg de lbte :  16\n",
      "p-valeur du test sur le  4 -ième intervalle :  0.0\n",
      "Q :  0  - dg de lbte :  -4\n",
      "p-valeur du test sur le  4 -ième intervalle :  nan\n",
      "Q :  0  - dg de lbte :  -4\n",
      "p-valeur du test sur le  4 -ième intervalle :  nan\n",
      "Q :  0  - dg de lbte :  -3\n",
      "p-valeur du test sur le  4 -ième intervalle :  nan\n",
      "Q :  0  - dg de lbte :  -2\n",
      "p-valeur du test sur le  4 -ième intervalle :  nan\n",
      "Q :  0  - dg de lbte :  -4\n",
      "p-valeur du test sur le  4 -ième intervalle :  nan\n",
      "Q :  0  - dg de lbte :  -2\n",
      "p-valeur du test sur le  4 -ième intervalle :  nan\n",
      "Q :  0  - dg de lbte :  -4\n",
      "p-valeur du test sur le  4 -ième intervalle :  nan\n",
      "Q :  0  - dg de lbte :  -3\n",
      "p-valeur du test sur le  4 -ième intervalle :  nan\n",
      "Q :  0  - dg de lbte :  -2\n",
      "p-valeur du test sur le  4 -ième intervalle :  nan\n",
      "Q :  0  - dg de lbte :  -3\n",
      "p-valeur du test sur le  4 -ième intervalle :  nan\n",
      "Q :  0  - dg de lbte :  -3\n",
      "p-valeur du test sur le  4 -ième intervalle :  nan\n",
      "Q :  0  - dg de lbte :  -4\n",
      "p-valeur du test sur le  4 -ième intervalle :  nan\n",
      "Q :  0  - dg de lbte :  -3\n",
      "p-valeur du test sur le  4 -ième intervalle :  nan\n",
      "Q :  0  - dg de lbte :  -3\n",
      "p-valeur du test sur le  4 -ième intervalle :  nan\n",
      "Q :  0  - dg de lbte :  -1\n",
      "p-valeur du test sur le  4 -ième intervalle :  nan\n",
      "0  intervalles de temps sur  5  sont homogènes\n"
     ]
    },
    {
     "data": {
      "text/plain": [
       "0.0"
      ]
     },
     "execution_count": 67,
     "metadata": {},
     "output_type": "execute_result"
    }
   ],
   "source": [
    "homog_int(table['1to5'],20,T=5)"
   ]
  },
  {
   "cell_type": "code",
   "execution_count": 71,
   "metadata": {
    "collapsed": false
   },
   "outputs": [
    {
     "name": "stdout",
     "output_type": "stream",
     "text": [
      "Q :  82.7386096414  - dg lib :  220\n",
      "p-valeur du test entre le  1 -ième et le  2 -ième intervalle :  1.0\n",
      "Q :  79.5867313195  - dg lib :  220\n",
      "p-valeur du test entre le  1 -ième et le  3 -ième intervalle :  1.0\n",
      "Q :  64.6239067055  - dg lib :  220\n",
      "p-valeur du test entre le  1 -ième et le  4 -ième intervalle :  1.0\n",
      "Q :  67.4459426628  - dg lib :  220\n",
      "p-valeur du test entre le  1 -ième et le  5 -ième intervalle :  1.0\n",
      "Q :  56.9054705215  - dg lib :  212\n",
      "p-valeur du test entre le  2 -ième et le  3 -ième intervalle :  1.0\n",
      "Q :  67.8656462585  - dg lib :  212\n",
      "p-valeur du test entre le  2 -ième et le  4 -ième intervalle :  1.0\n",
      "Q :  83.3396164021  - dg lib :  212\n",
      "p-valeur du test entre le  2 -ième et le  5 -ième intervalle :  1.0\n",
      "Q :  63.7738095238  - dg lib :  248\n",
      "p-valeur du test entre le  3 -ième et le  4 -ième intervalle :  1.0\n",
      "Q :  75.6359126984  - dg lib :  248\n",
      "p-valeur du test entre le  3 -ième et le  5 -ième intervalle :  1.0\n",
      "Q :  102.047949735  - dg lib :  252\n",
      "p-valeur du test entre le  4 -ième et le  5 -ième intervalle :  1.0\n",
      "10  paires d'intervalles de temps sur  5  intervalles sont homogènes\n"
     ]
    },
    {
     "data": {
      "text/plain": [
       "1.0"
      ]
     },
     "execution_count": 71,
     "metadata": {},
     "output_type": "execute_result"
    }
   ],
   "source": [
    "homog_reg(table['1to5'],20)"
   ]
  },
  {
   "cell_type": "markdown",
   "metadata": {},
   "source": [
    "Comme on pouvait s'y attendre, les matrices de transition sur la période 2001-2016 ne sont homogène dans le temps pour aucun des swaptions. Nous allons donc restreindre notre études à de plus petits intervalles."
   ]
  },
  {
   "cell_type": "markdown",
   "metadata": {},
   "source": [
    "# Test sur la période 2001-2008"
   ]
  },
  {
   "cell_type": "code",
   "execution_count": 58,
   "metadata": {
    "collapsed": false
   },
   "outputs": [],
   "source": [
    "tab1 = table[0:302]"
   ]
  },
  {
   "cell_type": "code",
   "execution_count": 59,
   "metadata": {
    "collapsed": false,
    "scrolled": false
   },
   "outputs": [
    {
     "name": "stdout",
     "output_type": "stream",
     "text": [
      "Q :  27.5  - dg lib :  96\n",
      "p-valeur du test entre le  1 -ième et le  2 -ième intervalle :  0.999999999999\n",
      "Q :  28.6206349206  - dg lib :  96\n",
      "p-valeur du test entre le  1 -ième et le  3 -ième intervalle :  0.999999999998\n",
      "Q :  27.5888095238  - dg lib :  96\n",
      "p-valeur du test entre le  1 -ième et le  4 -ième intervalle :  0.999999999999\n",
      "Q :  25.3080357143  - dg lib :  96\n",
      "p-valeur du test entre le  1 -ième et le  5 -ième intervalle :  1.0\n",
      "Q :  32.9728835979  - dg lib :  100\n",
      "p-valeur du test entre le  2 -ième et le  3 -ième intervalle :  0.999999999976\n",
      "Q :  29.6792063492  - dg lib :  100\n",
      "p-valeur du test entre le  2 -ième et le  4 -ième intervalle :  0.999999999999\n",
      "Q :  24.9538690476  - dg lib :  100\n",
      "p-valeur du test entre le  2 -ième et le  5 -ième intervalle :  1.0\n",
      "Q :  37.6271428571  - dg lib :  100\n",
      "p-valeur du test entre le  3 -ième et le  4 -ième intervalle :  0.99999999815\n",
      "Q :  38.8333333333  - dg lib :  100\n",
      "p-valeur du test entre le  3 -ième et le  5 -ième intervalle :  0.999999995008\n",
      "Q :  23.0148809524  - dg lib :  80\n",
      "p-valeur du test entre le  4 -ième et le  5 -ième intervalle :  0.999999999953\n",
      "10  paires d'intervalles de temps sur  5  intervalles sont homogènes\n"
     ]
    },
    {
     "data": {
      "text/plain": [
       "1.0"
      ]
     },
     "execution_count": 59,
     "metadata": {},
     "output_type": "execute_result"
    }
   ],
   "source": [
    "homog_reg(tab1['1to5'],10)"
   ]
  },
  {
   "cell_type": "code",
   "execution_count": 60,
   "metadata": {
    "collapsed": false,
    "scrolled": true
   },
   "outputs": [
    {
     "name": "stdout",
     "output_type": "stream",
     "text": [
      "Q :  623.979166667  - dg de lbte :  12\n",
      "p-valeur du test sur le  4 -ième intervalle :  0.0\n",
      "Q :  282.708333333  - dg de lbte :  12\n",
      "p-valeur du test sur le  4 -ième intervalle :  0.0\n",
      "Q :  427.5  - dg de lbte :  20\n",
      "p-valeur du test sur le  4 -ième intervalle :  0.0\n",
      "Q :  405.57037037  - dg de lbte :  12\n",
      "p-valeur du test sur le  4 -ième intervalle :  0.0\n",
      "Q :  248.888888889  - dg de lbte :  8\n",
      "p-valeur du test sur le  4 -ième intervalle :  0.0\n",
      "Q :  0  - dg de lbte :  -3\n",
      "p-valeur du test sur le  4 -ième intervalle :  nan\n",
      "Q :  0  - dg de lbte :  -2\n",
      "p-valeur du test sur le  4 -ième intervalle :  nan\n",
      "Q :  0  - dg de lbte :  -4\n",
      "p-valeur du test sur le  4 -ième intervalle :  nan\n",
      "Q :  0  - dg de lbte :  -4\n",
      "p-valeur du test sur le  4 -ième intervalle :  nan\n",
      "Q :  0  - dg de lbte :  -4\n",
      "p-valeur du test sur le  4 -ième intervalle :  nan\n",
      "Q :  0  - dg de lbte :  -3\n",
      "p-valeur du test sur le  4 -ième intervalle :  nan\n",
      "Q :  0  - dg de lbte :  -4\n",
      "p-valeur du test sur le  4 -ième intervalle :  nan\n",
      "Q :  0  - dg de lbte :  -6\n",
      "p-valeur du test sur le  4 -ième intervalle :  nan\n",
      "Q :  0  - dg de lbte :  -4\n",
      "p-valeur du test sur le  4 -ième intervalle :  nan\n",
      "Q :  0  - dg de lbte :  -5\n",
      "p-valeur du test sur le  4 -ième intervalle :  nan\n",
      "Q :  0  - dg de lbte :  -6\n",
      "p-valeur du test sur le  4 -ième intervalle :  nan\n",
      "Q :  0  - dg de lbte :  -5\n",
      "p-valeur du test sur le  4 -ième intervalle :  nan\n",
      "Q :  0  - dg de lbte :  -4\n",
      "p-valeur du test sur le  4 -ième intervalle :  nan\n",
      "Q :  0  - dg de lbte :  -4\n",
      "p-valeur du test sur le  4 -ième intervalle :  nan\n",
      "Q :  0  - dg de lbte :  -3\n",
      "p-valeur du test sur le  4 -ième intervalle :  nan\n",
      "0  intervalles de temps sur  5  sont homogènes\n"
     ]
    },
    {
     "data": {
      "text/plain": [
       "0.0"
      ]
     },
     "execution_count": 60,
     "metadata": {},
     "output_type": "execute_result"
    }
   ],
   "source": [
    "homog_int(tab1['1to5'],20)"
   ]
  },
  {
   "cell_type": "code",
   "execution_count": 39,
   "metadata": {
    "collapsed": false
   },
   "outputs": [
    {
     "name": "stdout",
     "output_type": "stream",
     "text": [
      "Degrés de liberté :  108\n"
     ]
    },
    {
     "data": {
      "text/plain": [
       "(287.75323400433223, 0.0)"
      ]
     },
     "execution_count": 39,
     "metadata": {},
     "output_type": "execute_result"
    }
   ],
   "source": [
    "homog_temp(tab1['1to5'],10,T=5)"
   ]
  },
  {
   "cell_type": "markdown",
   "metadata": {
    "collapsed": true
   },
   "source": [
    "## Test sur la période 2008-2014"
   ]
  },
  {
   "cell_type": "code",
   "execution_count": 61,
   "metadata": {
    "collapsed": true
   },
   "outputs": [],
   "source": [
    "tab2 = table[302:615]\n",
    "tab2.index = range(tab2.shape[0])"
   ]
  },
  {
   "cell_type": "code",
   "execution_count": 62,
   "metadata": {
    "collapsed": false,
    "scrolled": false
   },
   "outputs": [
    {
     "name": "stdout",
     "output_type": "stream",
     "text": [
      "Q :  46.0666666667  - dg lib :  124\n",
      "p-valeur du test entre le  1 -ième et le  2 -ième intervalle :  0.999999999986\n",
      "Q :  42.75  - dg lib :  124\n",
      "p-valeur du test entre le  1 -ième et le  3 -ième intervalle :  0.999999999999\n",
      "Q :  45.9166666667  - dg lib :  124\n",
      "p-valeur du test entre le  1 -ième et le  4 -ième intervalle :  0.999999999987\n",
      "Q :  46.9166666667  - dg lib :  124\n",
      "p-valeur du test entre le  1 -ième et le  5 -ième intervalle :  0.99999999997\n",
      "Q :  49.25  - dg lib :  144\n",
      "p-valeur du test entre le  2 -ième et le  3 -ième intervalle :  1.0\n",
      "Q :  49.8888888889  - dg lib :  144\n",
      "p-valeur du test entre le  2 -ième et le  4 -ième intervalle :  1.0\n",
      "Q :  53.6666666667  - dg lib :  144\n",
      "p-valeur du test entre le  2 -ième et le  5 -ième intervalle :  1.0\n",
      "Q :  38.8611111111  - dg lib :  136\n",
      "p-valeur du test entre le  3 -ième et le  4 -ième intervalle :  1.0\n",
      "Q :  51.4166666667  - dg lib :  136\n",
      "p-valeur du test entre le  3 -ième et le  5 -ième intervalle :  0.999999999997\n",
      "Q :  50.4166666667  - dg lib :  136\n",
      "p-valeur du test entre le  4 -ième et le  5 -ième intervalle :  0.999999999999\n",
      "10  paires d'intervalles de temps sur  5  intervalles sont homogènes\n"
     ]
    },
    {
     "data": {
      "text/plain": [
       "1.0"
      ]
     },
     "execution_count": 62,
     "metadata": {},
     "output_type": "execute_result"
    }
   ],
   "source": [
    "homog_reg(tab2['1to5'],20)"
   ]
  },
  {
   "cell_type": "code",
   "execution_count": 63,
   "metadata": {
    "collapsed": false
   },
   "outputs": [
    {
     "name": "stdout",
     "output_type": "stream",
     "text": [
      "Q :  141.75  - dg de lbte :  4\n",
      "p-valeur du test sur le  4 -ième intervalle :  0.0\n",
      "Q :  273.259259259  - dg de lbte :  8\n",
      "p-valeur du test sur le  4 -ième intervalle :  0.0\n",
      "Q :  239.859375  - dg de lbte :  8\n",
      "p-valeur du test sur le  4 -ième intervalle :  0.0\n",
      "Q :  728.611111111  - dg de lbte :  20\n",
      "p-valeur du test sur le  4 -ième intervalle :  0.0\n",
      "Q :  751.238095238  - dg de lbte :  12\n",
      "p-valeur du test sur le  4 -ième intervalle :  0.0\n",
      "Q :  0  - dg de lbte :  -5\n",
      "p-valeur du test sur le  4 -ième intervalle :  nan\n",
      "Q :  0  - dg de lbte :  -3\n",
      "p-valeur du test sur le  4 -ième intervalle :  nan\n",
      "Q :  0  - dg de lbte :  -6\n",
      "p-valeur du test sur le  4 -ième intervalle :  nan\n",
      "Q :  0  - dg de lbte :  -5\n",
      "p-valeur du test sur le  4 -ième intervalle :  nan\n",
      "Q :  0  - dg de lbte :  -4\n",
      "p-valeur du test sur le  4 -ième intervalle :  nan\n",
      "Q :  0  - dg de lbte :  -3\n",
      "p-valeur du test sur le  4 -ième intervalle :  nan\n",
      "Q :  0  - dg de lbte :  -3\n",
      "p-valeur du test sur le  4 -ième intervalle :  nan\n",
      "Q :  0  - dg de lbte :  -4\n",
      "p-valeur du test sur le  4 -ième intervalle :  nan\n",
      "Q :  0  - dg de lbte :  -3\n",
      "p-valeur du test sur le  4 -ième intervalle :  nan\n",
      "Q :  0  - dg de lbte :  -4\n",
      "p-valeur du test sur le  4 -ième intervalle :  nan\n",
      "Q :  0  - dg de lbte :  -4\n",
      "p-valeur du test sur le  4 -ième intervalle :  nan\n",
      "Q :  0  - dg de lbte :  -4\n",
      "p-valeur du test sur le  4 -ième intervalle :  nan\n",
      "Q :  0  - dg de lbte :  -5\n",
      "p-valeur du test sur le  4 -ième intervalle :  nan\n",
      "Q :  0  - dg de lbte :  -2\n",
      "p-valeur du test sur le  4 -ième intervalle :  nan\n",
      "Q :  0  - dg de lbte :  -3\n",
      "p-valeur du test sur le  4 -ième intervalle :  nan\n",
      "0  intervalles de temps sur  5  sont homogènes\n"
     ]
    },
    {
     "data": {
      "text/plain": [
       "0.0"
      ]
     },
     "execution_count": 63,
     "metadata": {},
     "output_type": "execute_result"
    }
   ],
   "source": [
    "homog_int(tab2['1to5'],20)"
   ]
  },
  {
   "cell_type": "code",
   "execution_count": 64,
   "metadata": {
    "collapsed": false
   },
   "outputs": [
    {
     "name": "stdout",
     "output_type": "stream",
     "text": [
      "Degrés de liberté :  92\n"
     ]
    },
    {
     "data": {
      "text/plain": [
       "(288.81166974625489, 0.0)"
      ]
     },
     "execution_count": 64,
     "metadata": {},
     "output_type": "execute_result"
    }
   ],
   "source": [
    "homog_temp(tab2['1to5'],10,T=5)"
   ]
  },
  {
   "cell_type": "code",
   "execution_count": 78,
   "metadata": {
    "collapsed": false
   },
   "outputs": [
    {
     "data": {
      "text/plain": [
       "(82.787312201168447, 1.4181538510182889e-07)"
      ]
     },
     "execution_count": 78,
     "metadata": {},
     "output_type": "execute_result"
    }
   ],
   "source": [
    "egales(tab1['EUPG15'],tab1['EUPG110'])"
   ]
  },
  {
   "cell_type": "code",
   "execution_count": 79,
   "metadata": {
    "collapsed": false
   },
   "outputs": [
    {
     "data": {
      "text/plain": [
       "(128.09824627058561, 4.2188474935755949e-15)"
      ]
     },
     "execution_count": 79,
     "metadata": {},
     "output_type": "execute_result"
    }
   ],
   "source": [
    "egales(tab1['EUPG15'],tab1['EUPG1020'])"
   ]
  },
  {
   "cell_type": "code",
   "execution_count": 80,
   "metadata": {
    "collapsed": false
   },
   "outputs": [
    {
     "data": {
      "text/plain": [
       "(76.000065374172422, 7.3049121787072124e-06)"
      ]
     },
     "execution_count": 80,
     "metadata": {},
     "output_type": "execute_result"
    }
   ],
   "source": [
    "egales(tab1['EUPG55'],tab1['EUPG110'])"
   ]
  },
  {
   "cell_type": "markdown",
   "metadata": {
    "collapsed": true
   },
   "source": [
    "# Output"
   ]
  },
  {
   "cell_type": "code",
   "execution_count": 180,
   "metadata": {
    "collapsed": false,
    "scrolled": true
   },
   "outputs": [],
   "source": [
    "\n",
    "#print(table)\n",
    "table['Date'] = pd.to_datetime(table['Date'],dayfirst=True)\n",
    "dates = table['Date'][table['Date'].dt.year==2011]\n",
    "\n",
    "resultat= np.zeros((51,9))\n"
   ]
  },
  {
   "cell_type": "code",
   "execution_count": 181,
   "metadata": {
    "collapsed": false
   },
   "outputs": [],
   "source": [
    "for elem in range(0,9) :\n",
    "    for i in range(0,51):\n",
    "        tmp = np.mean(np.array(output[table.columns[elem+1]][output.Timestep.values==i]))\n",
    "        resultat.itemset((i,elem),tmp)\n"
   ]
  },
  {
   "cell_type": "code",
   "execution_count": 182,
   "metadata": {
    "collapsed": false,
    "scrolled": true
   },
   "outputs": [
    {
     "data": {
      "text/html": [
       "<div>\n",
       "<table border=\"1\" class=\"dataframe\">\n",
       "  <thead>\n",
       "    <tr style=\"text-align: right;\">\n",
       "      <th></th>\n",
       "      <th>1to5</th>\n",
       "      <th>1to10</th>\n",
       "      <th>1to20</th>\n",
       "      <th>5to5</th>\n",
       "      <th>5to10</th>\n",
       "      <th>5to20</th>\n",
       "      <th>10to5</th>\n",
       "      <th>10to10</th>\n",
       "      <th>10to20</th>\n",
       "    </tr>\n",
       "  </thead>\n",
       "  <tbody>\n",
       "    <tr>\n",
       "      <th>2011-01-13</th>\n",
       "      <td>0.020798</td>\n",
       "      <td>0.026592</td>\n",
       "      <td>0.027796</td>\n",
       "      <td>0.031553</td>\n",
       "      <td>0.032543</td>\n",
       "      <td>0.029327</td>\n",
       "      <td>0.033713</td>\n",
       "      <td>0.030608</td>\n",
       "      <td>0.026938</td>\n",
       "    </tr>\n",
       "    <tr>\n",
       "      <th>2011-01-20</th>\n",
       "      <td>0.024078</td>\n",
       "      <td>0.029180</td>\n",
       "      <td>0.029410</td>\n",
       "      <td>0.033992</td>\n",
       "      <td>0.033907</td>\n",
       "      <td>0.030556</td>\n",
       "      <td>0.033811</td>\n",
       "      <td>0.030926</td>\n",
       "      <td>0.027887</td>\n",
       "    </tr>\n",
       "    <tr>\n",
       "      <th>2011-01-27</th>\n",
       "      <td>0.027194</td>\n",
       "      <td>0.031329</td>\n",
       "      <td>0.030669</td>\n",
       "      <td>0.035692</td>\n",
       "      <td>0.034669</td>\n",
       "      <td>0.031323</td>\n",
       "      <td>0.033459</td>\n",
       "      <td>0.030898</td>\n",
       "      <td>0.028484</td>\n",
       "    </tr>\n",
       "    <tr>\n",
       "      <th>2011-02-03</th>\n",
       "      <td>0.030191</td>\n",
       "      <td>0.033167</td>\n",
       "      <td>0.031770</td>\n",
       "      <td>0.036781</td>\n",
       "      <td>0.035056</td>\n",
       "      <td>0.031847</td>\n",
       "      <td>0.032998</td>\n",
       "      <td>0.030803</td>\n",
       "      <td>0.028969</td>\n",
       "    </tr>\n",
       "    <tr>\n",
       "      <th>2011-02-10</th>\n",
       "      <td>0.033047</td>\n",
       "      <td>0.034773</td>\n",
       "      <td>0.032827</td>\n",
       "      <td>0.037416</td>\n",
       "      <td>0.035272</td>\n",
       "      <td>0.032333</td>\n",
       "      <td>0.032696</td>\n",
       "      <td>0.030865</td>\n",
       "      <td>0.029559</td>\n",
       "    </tr>\n",
       "    <tr>\n",
       "      <th>2011-02-17</th>\n",
       "      <td>0.035374</td>\n",
       "      <td>0.035908</td>\n",
       "      <td>0.033622</td>\n",
       "      <td>0.037479</td>\n",
       "      <td>0.035210</td>\n",
       "      <td>0.032658</td>\n",
       "      <td>0.032477</td>\n",
       "      <td>0.030993</td>\n",
       "      <td>0.030164</td>\n",
       "    </tr>\n",
       "    <tr>\n",
       "      <th>2011-02-24</th>\n",
       "      <td>0.037004</td>\n",
       "      <td>0.036528</td>\n",
       "      <td>0.034110</td>\n",
       "      <td>0.037029</td>\n",
       "      <td>0.034862</td>\n",
       "      <td>0.032774</td>\n",
       "      <td>0.032238</td>\n",
       "      <td>0.031081</td>\n",
       "      <td>0.030677</td>\n",
       "    </tr>\n",
       "    <tr>\n",
       "      <th>2011-03-03</th>\n",
       "      <td>0.037954</td>\n",
       "      <td>0.036723</td>\n",
       "      <td>0.034351</td>\n",
       "      <td>0.036314</td>\n",
       "      <td>0.034387</td>\n",
       "      <td>0.032799</td>\n",
       "      <td>0.032034</td>\n",
       "      <td>0.031182</td>\n",
       "      <td>0.031158</td>\n",
       "    </tr>\n",
       "    <tr>\n",
       "      <th>2011-03-10</th>\n",
       "      <td>0.038278</td>\n",
       "      <td>0.036641</td>\n",
       "      <td>0.034506</td>\n",
       "      <td>0.035647</td>\n",
       "      <td>0.034043</td>\n",
       "      <td>0.032959</td>\n",
       "      <td>0.032064</td>\n",
       "      <td>0.031495</td>\n",
       "      <td>0.031790</td>\n",
       "    </tr>\n",
       "    <tr>\n",
       "      <th>2011-03-17</th>\n",
       "      <td>0.038062</td>\n",
       "      <td>0.036277</td>\n",
       "      <td>0.034485</td>\n",
       "      <td>0.034966</td>\n",
       "      <td>0.033697</td>\n",
       "      <td>0.033098</td>\n",
       "      <td>0.032104</td>\n",
       "      <td>0.031798</td>\n",
       "      <td>0.032380</td>\n",
       "    </tr>\n",
       "    <tr>\n",
       "      <th>2011-03-24</th>\n",
       "      <td>0.037497</td>\n",
       "      <td>0.035765</td>\n",
       "      <td>0.034388</td>\n",
       "      <td>0.034367</td>\n",
       "      <td>0.033416</td>\n",
       "      <td>0.033267</td>\n",
       "      <td>0.032187</td>\n",
       "      <td>0.032126</td>\n",
       "      <td>0.032960</td>\n",
       "    </tr>\n",
       "    <tr>\n",
       "      <th>2011-03-31</th>\n",
       "      <td>0.036811</td>\n",
       "      <td>0.035324</td>\n",
       "      <td>0.034448</td>\n",
       "      <td>0.034060</td>\n",
       "      <td>0.033425</td>\n",
       "      <td>0.033692</td>\n",
       "      <td>0.032543</td>\n",
       "      <td>0.032704</td>\n",
       "      <td>0.033741</td>\n",
       "    </tr>\n",
       "    <tr>\n",
       "      <th>2011-04-07</th>\n",
       "      <td>0.036235</td>\n",
       "      <td>0.035067</td>\n",
       "      <td>0.034682</td>\n",
       "      <td>0.034008</td>\n",
       "      <td>0.033663</td>\n",
       "      <td>0.034277</td>\n",
       "      <td>0.033103</td>\n",
       "      <td>0.033453</td>\n",
       "      <td>0.034627</td>\n",
       "    </tr>\n",
       "    <tr>\n",
       "      <th>2011-04-14</th>\n",
       "      <td>0.035553</td>\n",
       "      <td>0.034717</td>\n",
       "      <td>0.034806</td>\n",
       "      <td>0.033885</td>\n",
       "      <td>0.033818</td>\n",
       "      <td>0.034749</td>\n",
       "      <td>0.033565</td>\n",
       "      <td>0.034088</td>\n",
       "      <td>0.035380</td>\n",
       "    </tr>\n",
       "    <tr>\n",
       "      <th>2011-04-21</th>\n",
       "      <td>0.035010</td>\n",
       "      <td>0.034487</td>\n",
       "      <td>0.035011</td>\n",
       "      <td>0.033888</td>\n",
       "      <td>0.034076</td>\n",
       "      <td>0.035285</td>\n",
       "      <td>0.034110</td>\n",
       "      <td>0.034781</td>\n",
       "      <td>0.036165</td>\n",
       "    </tr>\n",
       "    <tr>\n",
       "      <th>2011-04-28</th>\n",
       "      <td>0.034709</td>\n",
       "      <td>0.034469</td>\n",
       "      <td>0.035372</td>\n",
       "      <td>0.034077</td>\n",
       "      <td>0.034494</td>\n",
       "      <td>0.035933</td>\n",
       "      <td>0.034783</td>\n",
       "      <td>0.035573</td>\n",
       "      <td>0.037016</td>\n",
       "    </tr>\n",
       "    <tr>\n",
       "      <th>2011-05-05</th>\n",
       "      <td>0.034438</td>\n",
       "      <td>0.034453</td>\n",
       "      <td>0.035696</td>\n",
       "      <td>0.034232</td>\n",
       "      <td>0.034859</td>\n",
       "      <td>0.036493</td>\n",
       "      <td>0.035384</td>\n",
       "      <td>0.036271</td>\n",
       "      <td>0.037755</td>\n",
       "    </tr>\n",
       "    <tr>\n",
       "      <th>2011-05-12</th>\n",
       "      <td>0.034339</td>\n",
       "      <td>0.034647</td>\n",
       "      <td>0.036219</td>\n",
       "      <td>0.034645</td>\n",
       "      <td>0.035474</td>\n",
       "      <td>0.037264</td>\n",
       "      <td>0.036229</td>\n",
       "      <td>0.037187</td>\n",
       "      <td>0.038675</td>\n",
       "    </tr>\n",
       "    <tr>\n",
       "      <th>2011-05-19</th>\n",
       "      <td>0.034313</td>\n",
       "      <td>0.034889</td>\n",
       "      <td>0.036733</td>\n",
       "      <td>0.035098</td>\n",
       "      <td>0.036104</td>\n",
       "      <td>0.038011</td>\n",
       "      <td>0.037070</td>\n",
       "      <td>0.038075</td>\n",
       "      <td>0.039552</td>\n",
       "    </tr>\n",
       "    <tr>\n",
       "      <th>2011-05-26</th>\n",
       "      <td>0.034479</td>\n",
       "      <td>0.035275</td>\n",
       "      <td>0.037335</td>\n",
       "      <td>0.035656</td>\n",
       "      <td>0.036800</td>\n",
       "      <td>0.038787</td>\n",
       "      <td>0.037929</td>\n",
       "      <td>0.038960</td>\n",
       "      <td>0.040412</td>\n",
       "    </tr>\n",
       "    <tr>\n",
       "      <th>2011-06-02</th>\n",
       "      <td>0.034813</td>\n",
       "      <td>0.035813</td>\n",
       "      <td>0.038054</td>\n",
       "      <td>0.036384</td>\n",
       "      <td>0.037643</td>\n",
       "      <td>0.039687</td>\n",
       "      <td>0.038910</td>\n",
       "      <td>0.039948</td>\n",
       "      <td>0.041370</td>\n",
       "    </tr>\n",
       "    <tr>\n",
       "      <th>2011-06-09</th>\n",
       "      <td>0.035230</td>\n",
       "      <td>0.036457</td>\n",
       "      <td>0.038856</td>\n",
       "      <td>0.037226</td>\n",
       "      <td>0.038588</td>\n",
       "      <td>0.040648</td>\n",
       "      <td>0.039988</td>\n",
       "      <td>0.041016</td>\n",
       "      <td>0.042370</td>\n",
       "    </tr>\n",
       "    <tr>\n",
       "      <th>2011-06-16</th>\n",
       "      <td>0.035819</td>\n",
       "      <td>0.037231</td>\n",
       "      <td>0.039747</td>\n",
       "      <td>0.038185</td>\n",
       "      <td>0.039619</td>\n",
       "      <td>0.041683</td>\n",
       "      <td>0.041113</td>\n",
       "      <td>0.042121</td>\n",
       "      <td>0.043413</td>\n",
       "    </tr>\n",
       "    <tr>\n",
       "      <th>2011-06-23</th>\n",
       "      <td>0.036488</td>\n",
       "      <td>0.038032</td>\n",
       "      <td>0.040617</td>\n",
       "      <td>0.039096</td>\n",
       "      <td>0.040569</td>\n",
       "      <td>0.042613</td>\n",
       "      <td>0.042109</td>\n",
       "      <td>0.043093</td>\n",
       "      <td>0.044316</td>\n",
       "    </tr>\n",
       "    <tr>\n",
       "      <th>2011-06-30</th>\n",
       "      <td>0.037223</td>\n",
       "      <td>0.038880</td>\n",
       "      <td>0.041505</td>\n",
       "      <td>0.040052</td>\n",
       "      <td>0.041548</td>\n",
       "      <td>0.043558</td>\n",
       "      <td>0.043120</td>\n",
       "      <td>0.044076</td>\n",
       "      <td>0.045226</td>\n",
       "    </tr>\n",
       "    <tr>\n",
       "      <th>2011-07-07</th>\n",
       "      <td>0.038112</td>\n",
       "      <td>0.039860</td>\n",
       "      <td>0.042504</td>\n",
       "      <td>0.041126</td>\n",
       "      <td>0.042625</td>\n",
       "      <td>0.044588</td>\n",
       "      <td>0.044202</td>\n",
       "      <td>0.045125</td>\n",
       "      <td>0.046194</td>\n",
       "    </tr>\n",
       "    <tr>\n",
       "      <th>2011-07-14</th>\n",
       "      <td>0.038969</td>\n",
       "      <td>0.040773</td>\n",
       "      <td>0.043411</td>\n",
       "      <td>0.042097</td>\n",
       "      <td>0.043586</td>\n",
       "      <td>0.045497</td>\n",
       "      <td>0.045154</td>\n",
       "      <td>0.046046</td>\n",
       "      <td>0.047039</td>\n",
       "    </tr>\n",
       "    <tr>\n",
       "      <th>2011-07-21</th>\n",
       "      <td>0.039871</td>\n",
       "      <td>0.041739</td>\n",
       "      <td>0.044373</td>\n",
       "      <td>0.043151</td>\n",
       "      <td>0.044632</td>\n",
       "      <td>0.046488</td>\n",
       "      <td>0.046196</td>\n",
       "      <td>0.047055</td>\n",
       "      <td>0.047963</td>\n",
       "    </tr>\n",
       "    <tr>\n",
       "      <th>2011-07-28</th>\n",
       "      <td>0.040835</td>\n",
       "      <td>0.042714</td>\n",
       "      <td>0.045312</td>\n",
       "      <td>0.044143</td>\n",
       "      <td>0.045597</td>\n",
       "      <td>0.047388</td>\n",
       "      <td>0.047127</td>\n",
       "      <td>0.047949</td>\n",
       "      <td>0.048775</td>\n",
       "    </tr>\n",
       "    <tr>\n",
       "      <th>2011-08-04</th>\n",
       "      <td>0.041697</td>\n",
       "      <td>0.043567</td>\n",
       "      <td>0.046125</td>\n",
       "      <td>0.045000</td>\n",
       "      <td>0.046427</td>\n",
       "      <td>0.048160</td>\n",
       "      <td>0.047919</td>\n",
       "      <td>0.048707</td>\n",
       "      <td>0.049463</td>\n",
       "    </tr>\n",
       "    <tr>\n",
       "      <th>2011-08-11</th>\n",
       "      <td>0.042604</td>\n",
       "      <td>0.044485</td>\n",
       "      <td>0.047013</td>\n",
       "      <td>0.045953</td>\n",
       "      <td>0.047360</td>\n",
       "      <td>0.049037</td>\n",
       "      <td>0.048830</td>\n",
       "      <td>0.049580</td>\n",
       "      <td>0.050260</td>\n",
       "    </tr>\n",
       "    <tr>\n",
       "      <th>2011-08-18</th>\n",
       "      <td>0.043593</td>\n",
       "      <td>0.045449</td>\n",
       "      <td>0.047918</td>\n",
       "      <td>0.046893</td>\n",
       "      <td>0.048266</td>\n",
       "      <td>0.049870</td>\n",
       "      <td>0.049686</td>\n",
       "      <td>0.050389</td>\n",
       "      <td>0.050987</td>\n",
       "    </tr>\n",
       "    <tr>\n",
       "      <th>2011-08-25</th>\n",
       "      <td>0.044531</td>\n",
       "      <td>0.046376</td>\n",
       "      <td>0.048795</td>\n",
       "      <td>0.047824</td>\n",
       "      <td>0.049170</td>\n",
       "      <td>0.050704</td>\n",
       "      <td>0.050557</td>\n",
       "      <td>0.051213</td>\n",
       "      <td>0.051732</td>\n",
       "    </tr>\n",
       "    <tr>\n",
       "      <th>2011-09-01</th>\n",
       "      <td>0.045468</td>\n",
       "      <td>0.047281</td>\n",
       "      <td>0.049630</td>\n",
       "      <td>0.048696</td>\n",
       "      <td>0.050006</td>\n",
       "      <td>0.051457</td>\n",
       "      <td>0.051344</td>\n",
       "      <td>0.051950</td>\n",
       "      <td>0.052384</td>\n",
       "    </tr>\n",
       "    <tr>\n",
       "      <th>2011-09-08</th>\n",
       "      <td>0.046274</td>\n",
       "      <td>0.048049</td>\n",
       "      <td>0.050320</td>\n",
       "      <td>0.049444</td>\n",
       "      <td>0.050715</td>\n",
       "      <td>0.052088</td>\n",
       "      <td>0.052015</td>\n",
       "      <td>0.052573</td>\n",
       "      <td>0.052929</td>\n",
       "    </tr>\n",
       "    <tr>\n",
       "      <th>2011-09-15</th>\n",
       "      <td>0.047373</td>\n",
       "      <td>0.049130</td>\n",
       "      <td>0.051325</td>\n",
       "      <td>0.050531</td>\n",
       "      <td>0.051759</td>\n",
       "      <td>0.053041</td>\n",
       "      <td>0.053004</td>\n",
       "      <td>0.053503</td>\n",
       "      <td>0.053766</td>\n",
       "    </tr>\n",
       "    <tr>\n",
       "      <th>2011-09-22</th>\n",
       "      <td>0.048479</td>\n",
       "      <td>0.050185</td>\n",
       "      <td>0.052287</td>\n",
       "      <td>0.051522</td>\n",
       "      <td>0.052692</td>\n",
       "      <td>0.053873</td>\n",
       "      <td>0.053855</td>\n",
       "      <td>0.054294</td>\n",
       "      <td>0.054462</td>\n",
       "    </tr>\n",
       "    <tr>\n",
       "      <th>2011-09-29</th>\n",
       "      <td>0.049424</td>\n",
       "      <td>0.051069</td>\n",
       "      <td>0.053077</td>\n",
       "      <td>0.052353</td>\n",
       "      <td>0.053469</td>\n",
       "      <td>0.054571</td>\n",
       "      <td>0.054562</td>\n",
       "      <td>0.054952</td>\n",
       "      <td>0.055051</td>\n",
       "    </tr>\n",
       "    <tr>\n",
       "      <th>2011-10-06</th>\n",
       "      <td>0.050443</td>\n",
       "      <td>0.052058</td>\n",
       "      <td>0.053987</td>\n",
       "      <td>0.053329</td>\n",
       "      <td>0.054396</td>\n",
       "      <td>0.055410</td>\n",
       "      <td>0.055426</td>\n",
       "      <td>0.055762</td>\n",
       "      <td>0.055777</td>\n",
       "    </tr>\n",
       "    <tr>\n",
       "      <th>2011-10-13</th>\n",
       "      <td>0.051451</td>\n",
       "      <td>0.053035</td>\n",
       "      <td>0.054885</td>\n",
       "      <td>0.054280</td>\n",
       "      <td>0.055296</td>\n",
       "      <td>0.056225</td>\n",
       "      <td>0.056257</td>\n",
       "      <td>0.056540</td>\n",
       "      <td>0.056474</td>\n",
       "    </tr>\n",
       "    <tr>\n",
       "      <th>2011-10-20</th>\n",
       "      <td>0.052295</td>\n",
       "      <td>0.053830</td>\n",
       "      <td>0.055603</td>\n",
       "      <td>0.055048</td>\n",
       "      <td>0.056016</td>\n",
       "      <td>0.056876</td>\n",
       "      <td>0.056912</td>\n",
       "      <td>0.057152</td>\n",
       "      <td>0.057026</td>\n",
       "    </tr>\n",
       "    <tr>\n",
       "      <th>2011-10-27</th>\n",
       "      <td>0.053171</td>\n",
       "      <td>0.054690</td>\n",
       "      <td>0.056388</td>\n",
       "      <td>0.055903</td>\n",
       "      <td>0.056828</td>\n",
       "      <td>0.057596</td>\n",
       "      <td>0.057676</td>\n",
       "      <td>0.057863</td>\n",
       "      <td>0.057647</td>\n",
       "    </tr>\n",
       "    <tr>\n",
       "      <th>2011-11-03</th>\n",
       "      <td>0.054004</td>\n",
       "      <td>0.055456</td>\n",
       "      <td>0.057055</td>\n",
       "      <td>0.056619</td>\n",
       "      <td>0.057487</td>\n",
       "      <td>0.058170</td>\n",
       "      <td>0.058267</td>\n",
       "      <td>0.058407</td>\n",
       "      <td>0.058127</td>\n",
       "    </tr>\n",
       "    <tr>\n",
       "      <th>2011-11-10</th>\n",
       "      <td>0.054981</td>\n",
       "      <td>0.056404</td>\n",
       "      <td>0.057925</td>\n",
       "      <td>0.057583</td>\n",
       "      <td>0.058403</td>\n",
       "      <td>0.059005</td>\n",
       "      <td>0.059126</td>\n",
       "      <td>0.059212</td>\n",
       "      <td>0.058870</td>\n",
       "    </tr>\n",
       "    <tr>\n",
       "      <th>2011-11-17</th>\n",
       "      <td>0.055832</td>\n",
       "      <td>0.057218</td>\n",
       "      <td>0.058666</td>\n",
       "      <td>0.058371</td>\n",
       "      <td>0.059144</td>\n",
       "      <td>0.059669</td>\n",
       "      <td>0.059805</td>\n",
       "      <td>0.059843</td>\n",
       "      <td>0.059453</td>\n",
       "    </tr>\n",
       "    <tr>\n",
       "      <th>2011-11-24</th>\n",
       "      <td>0.056793</td>\n",
       "      <td>0.058138</td>\n",
       "      <td>0.059510</td>\n",
       "      <td>0.059245</td>\n",
       "      <td>0.059968</td>\n",
       "      <td>0.060412</td>\n",
       "      <td>0.060551</td>\n",
       "      <td>0.060538</td>\n",
       "      <td>0.060111</td>\n",
       "    </tr>\n",
       "    <tr>\n",
       "      <th>2011-12-01</th>\n",
       "      <td>0.057764</td>\n",
       "      <td>0.059066</td>\n",
       "      <td>0.060364</td>\n",
       "      <td>0.060132</td>\n",
       "      <td>0.060804</td>\n",
       "      <td>0.061173</td>\n",
       "      <td>0.061310</td>\n",
       "      <td>0.061247</td>\n",
       "      <td>0.060800</td>\n",
       "    </tr>\n",
       "    <tr>\n",
       "      <th>2011-12-08</th>\n",
       "      <td>0.058748</td>\n",
       "      <td>0.059974</td>\n",
       "      <td>0.061176</td>\n",
       "      <td>0.060978</td>\n",
       "      <td>0.061589</td>\n",
       "      <td>0.061887</td>\n",
       "      <td>0.062007</td>\n",
       "      <td>0.061895</td>\n",
       "      <td>0.061449</td>\n",
       "    </tr>\n",
       "    <tr>\n",
       "      <th>2011-12-15</th>\n",
       "      <td>0.059422</td>\n",
       "      <td>0.060573</td>\n",
       "      <td>0.061682</td>\n",
       "      <td>0.061484</td>\n",
       "      <td>0.062043</td>\n",
       "      <td>0.062282</td>\n",
       "      <td>0.062394</td>\n",
       "      <td>0.062243</td>\n",
       "      <td>0.061818</td>\n",
       "    </tr>\n",
       "    <tr>\n",
       "      <th>2011-12-22</th>\n",
       "      <td>0.060118</td>\n",
       "      <td>0.061224</td>\n",
       "      <td>0.062259</td>\n",
       "      <td>0.062096</td>\n",
       "      <td>0.062612</td>\n",
       "      <td>0.062804</td>\n",
       "      <td>0.062906</td>\n",
       "      <td>0.062715</td>\n",
       "      <td>0.062325</td>\n",
       "    </tr>\n",
       "    <tr>\n",
       "      <th>2011-12-29</th>\n",
       "      <td>0.060798</td>\n",
       "      <td>0.061874</td>\n",
       "      <td>0.062851</td>\n",
       "      <td>0.062726</td>\n",
       "      <td>0.063204</td>\n",
       "      <td>0.063364</td>\n",
       "      <td>0.063441</td>\n",
       "      <td>0.063211</td>\n",
       "      <td>0.062873</td>\n",
       "    </tr>\n",
       "  </tbody>\n",
       "</table>\n",
       "</div>"
      ],
      "text/plain": [
       "                1to5     1to10     1to20      5to5     5to10     5to20  \\\n",
       "2011-01-13  0.020798  0.026592  0.027796  0.031553  0.032543  0.029327   \n",
       "2011-01-20  0.024078  0.029180  0.029410  0.033992  0.033907  0.030556   \n",
       "2011-01-27  0.027194  0.031329  0.030669  0.035692  0.034669  0.031323   \n",
       "2011-02-03  0.030191  0.033167  0.031770  0.036781  0.035056  0.031847   \n",
       "2011-02-10  0.033047  0.034773  0.032827  0.037416  0.035272  0.032333   \n",
       "2011-02-17  0.035374  0.035908  0.033622  0.037479  0.035210  0.032658   \n",
       "2011-02-24  0.037004  0.036528  0.034110  0.037029  0.034862  0.032774   \n",
       "2011-03-03  0.037954  0.036723  0.034351  0.036314  0.034387  0.032799   \n",
       "2011-03-10  0.038278  0.036641  0.034506  0.035647  0.034043  0.032959   \n",
       "2011-03-17  0.038062  0.036277  0.034485  0.034966  0.033697  0.033098   \n",
       "2011-03-24  0.037497  0.035765  0.034388  0.034367  0.033416  0.033267   \n",
       "2011-03-31  0.036811  0.035324  0.034448  0.034060  0.033425  0.033692   \n",
       "2011-04-07  0.036235  0.035067  0.034682  0.034008  0.033663  0.034277   \n",
       "2011-04-14  0.035553  0.034717  0.034806  0.033885  0.033818  0.034749   \n",
       "2011-04-21  0.035010  0.034487  0.035011  0.033888  0.034076  0.035285   \n",
       "2011-04-28  0.034709  0.034469  0.035372  0.034077  0.034494  0.035933   \n",
       "2011-05-05  0.034438  0.034453  0.035696  0.034232  0.034859  0.036493   \n",
       "2011-05-12  0.034339  0.034647  0.036219  0.034645  0.035474  0.037264   \n",
       "2011-05-19  0.034313  0.034889  0.036733  0.035098  0.036104  0.038011   \n",
       "2011-05-26  0.034479  0.035275  0.037335  0.035656  0.036800  0.038787   \n",
       "2011-06-02  0.034813  0.035813  0.038054  0.036384  0.037643  0.039687   \n",
       "2011-06-09  0.035230  0.036457  0.038856  0.037226  0.038588  0.040648   \n",
       "2011-06-16  0.035819  0.037231  0.039747  0.038185  0.039619  0.041683   \n",
       "2011-06-23  0.036488  0.038032  0.040617  0.039096  0.040569  0.042613   \n",
       "2011-06-30  0.037223  0.038880  0.041505  0.040052  0.041548  0.043558   \n",
       "2011-07-07  0.038112  0.039860  0.042504  0.041126  0.042625  0.044588   \n",
       "2011-07-14  0.038969  0.040773  0.043411  0.042097  0.043586  0.045497   \n",
       "2011-07-21  0.039871  0.041739  0.044373  0.043151  0.044632  0.046488   \n",
       "2011-07-28  0.040835  0.042714  0.045312  0.044143  0.045597  0.047388   \n",
       "2011-08-04  0.041697  0.043567  0.046125  0.045000  0.046427  0.048160   \n",
       "2011-08-11  0.042604  0.044485  0.047013  0.045953  0.047360  0.049037   \n",
       "2011-08-18  0.043593  0.045449  0.047918  0.046893  0.048266  0.049870   \n",
       "2011-08-25  0.044531  0.046376  0.048795  0.047824  0.049170  0.050704   \n",
       "2011-09-01  0.045468  0.047281  0.049630  0.048696  0.050006  0.051457   \n",
       "2011-09-08  0.046274  0.048049  0.050320  0.049444  0.050715  0.052088   \n",
       "2011-09-15  0.047373  0.049130  0.051325  0.050531  0.051759  0.053041   \n",
       "2011-09-22  0.048479  0.050185  0.052287  0.051522  0.052692  0.053873   \n",
       "2011-09-29  0.049424  0.051069  0.053077  0.052353  0.053469  0.054571   \n",
       "2011-10-06  0.050443  0.052058  0.053987  0.053329  0.054396  0.055410   \n",
       "2011-10-13  0.051451  0.053035  0.054885  0.054280  0.055296  0.056225   \n",
       "2011-10-20  0.052295  0.053830  0.055603  0.055048  0.056016  0.056876   \n",
       "2011-10-27  0.053171  0.054690  0.056388  0.055903  0.056828  0.057596   \n",
       "2011-11-03  0.054004  0.055456  0.057055  0.056619  0.057487  0.058170   \n",
       "2011-11-10  0.054981  0.056404  0.057925  0.057583  0.058403  0.059005   \n",
       "2011-11-17  0.055832  0.057218  0.058666  0.058371  0.059144  0.059669   \n",
       "2011-11-24  0.056793  0.058138  0.059510  0.059245  0.059968  0.060412   \n",
       "2011-12-01  0.057764  0.059066  0.060364  0.060132  0.060804  0.061173   \n",
       "2011-12-08  0.058748  0.059974  0.061176  0.060978  0.061589  0.061887   \n",
       "2011-12-15  0.059422  0.060573  0.061682  0.061484  0.062043  0.062282   \n",
       "2011-12-22  0.060118  0.061224  0.062259  0.062096  0.062612  0.062804   \n",
       "2011-12-29  0.060798  0.061874  0.062851  0.062726  0.063204  0.063364   \n",
       "\n",
       "               10to5    10to10    10to20  \n",
       "2011-01-13  0.033713  0.030608  0.026938  \n",
       "2011-01-20  0.033811  0.030926  0.027887  \n",
       "2011-01-27  0.033459  0.030898  0.028484  \n",
       "2011-02-03  0.032998  0.030803  0.028969  \n",
       "2011-02-10  0.032696  0.030865  0.029559  \n",
       "2011-02-17  0.032477  0.030993  0.030164  \n",
       "2011-02-24  0.032238  0.031081  0.030677  \n",
       "2011-03-03  0.032034  0.031182  0.031158  \n",
       "2011-03-10  0.032064  0.031495  0.031790  \n",
       "2011-03-17  0.032104  0.031798  0.032380  \n",
       "2011-03-24  0.032187  0.032126  0.032960  \n",
       "2011-03-31  0.032543  0.032704  0.033741  \n",
       "2011-04-07  0.033103  0.033453  0.034627  \n",
       "2011-04-14  0.033565  0.034088  0.035380  \n",
       "2011-04-21  0.034110  0.034781  0.036165  \n",
       "2011-04-28  0.034783  0.035573  0.037016  \n",
       "2011-05-05  0.035384  0.036271  0.037755  \n",
       "2011-05-12  0.036229  0.037187  0.038675  \n",
       "2011-05-19  0.037070  0.038075  0.039552  \n",
       "2011-05-26  0.037929  0.038960  0.040412  \n",
       "2011-06-02  0.038910  0.039948  0.041370  \n",
       "2011-06-09  0.039988  0.041016  0.042370  \n",
       "2011-06-16  0.041113  0.042121  0.043413  \n",
       "2011-06-23  0.042109  0.043093  0.044316  \n",
       "2011-06-30  0.043120  0.044076  0.045226  \n",
       "2011-07-07  0.044202  0.045125  0.046194  \n",
       "2011-07-14  0.045154  0.046046  0.047039  \n",
       "2011-07-21  0.046196  0.047055  0.047963  \n",
       "2011-07-28  0.047127  0.047949  0.048775  \n",
       "2011-08-04  0.047919  0.048707  0.049463  \n",
       "2011-08-11  0.048830  0.049580  0.050260  \n",
       "2011-08-18  0.049686  0.050389  0.050987  \n",
       "2011-08-25  0.050557  0.051213  0.051732  \n",
       "2011-09-01  0.051344  0.051950  0.052384  \n",
       "2011-09-08  0.052015  0.052573  0.052929  \n",
       "2011-09-15  0.053004  0.053503  0.053766  \n",
       "2011-09-22  0.053855  0.054294  0.054462  \n",
       "2011-09-29  0.054562  0.054952  0.055051  \n",
       "2011-10-06  0.055426  0.055762  0.055777  \n",
       "2011-10-13  0.056257  0.056540  0.056474  \n",
       "2011-10-20  0.056912  0.057152  0.057026  \n",
       "2011-10-27  0.057676  0.057863  0.057647  \n",
       "2011-11-03  0.058267  0.058407  0.058127  \n",
       "2011-11-10  0.059126  0.059212  0.058870  \n",
       "2011-11-17  0.059805  0.059843  0.059453  \n",
       "2011-11-24  0.060551  0.060538  0.060111  \n",
       "2011-12-01  0.061310  0.061247  0.060800  \n",
       "2011-12-08  0.062007  0.061895  0.061449  \n",
       "2011-12-15  0.062394  0.062243  0.061818  \n",
       "2011-12-22  0.062906  0.062715  0.062325  \n",
       "2011-12-29  0.063441  0.063211  0.062873  "
      ]
     },
     "execution_count": 182,
     "metadata": {},
     "output_type": "execute_result"
    }
   ],
   "source": [
    "resultat = pd.DataFrame(resultat)\n",
    "resultat.columns=table.columns[1:]\n",
    "resultat.set_index(dates[1:].values)"
   ]
  },
  {
   "cell_type": "code",
   "execution_count": 185,
   "metadata": {
    "collapsed": false
   },
   "outputs": [
    {
     "name": "stdout",
     "output_type": "stream",
     "text": [
      "1to5 (33.701593957787217, 0.028215586516406654)\n",
      "1to10 (31.827459579574967, 0.045171879371113777)\n",
      "1to20 (9.9037294428812821, 0.96988417577750741)\n",
      "5to5 (19.111614335591064, 0.57798019625158559)\n",
      "5to10 (14.587537297125536, 0.87932273005860417)\n",
      "5to20 (9.6802123499683042, 0.98277263868158182)\n",
      "10to5 (10.913138202139107, 0.99335943113724079)\n",
      "10to10 (11.11233321183364, 0.98818798239974803)\n",
      "10to20 (9.3619296683128983, 0.99458138115953787)\n"
     ]
    }
   ],
   "source": [
    "for elem in table.columns[1:]:\n",
    "    print(elem,egales(table[elem],resultat[elem]))"
   ]
  },
  {
   "cell_type": "code",
   "execution_count": null,
   "metadata": {
    "collapsed": true
   },
   "outputs": [],
   "source": []
  }
 ],
 "metadata": {
  "kernelspec": {
   "display_name": "Python 3",
   "language": "python",
   "name": "python3"
  },
  "language_info": {
   "codemirror_mode": {
    "name": "ipython",
    "version": 3
   },
   "file_extension": ".py",
   "mimetype": "text/x-python",
   "name": "python",
   "nbconvert_exporter": "python",
   "pygments_lexer": "ipython3",
   "version": "3.4.4"
  }
 },
 "nbformat": 4,
 "nbformat_minor": 0
}
