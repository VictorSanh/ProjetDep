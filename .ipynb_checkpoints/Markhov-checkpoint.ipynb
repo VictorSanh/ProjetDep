{
 "cells": [
  {
   "cell_type": "markdown",
   "metadata": {},
   "source": [
    "# Chaines de Markhov"
   ]
  },
  {
   "cell_type": "code",
   "execution_count": 2,
   "metadata": {
    "collapsed": false
   },
   "outputs": [],
   "source": [
    "import pandas as pd\n",
    "import numpy as np\n",
    "from scipy import stats\n",
    "\n",
    "var = pd.read_csv('swaphist.csv', delimiter = \";\")"
   ]
  },
  {
   "cell_type": "code",
   "execution_count": 3,
   "metadata": {
    "collapsed": false
   },
   "outputs": [],
   "source": [
    "#Calcule la place de l'élément dans un des n groupes\n",
    "def place(elem,table,freq):\n",
    "    xmin = min(table)\n",
    "    xmax = max(table)\n",
    "    delta = (xmax-xmin)/freq\n",
    "    return min(int((table[elem]-xmin)/delta),freq-1)\n",
    "\n",
    "#Calcule la matrice de passage (fréquence de passage d'un groupe à l'autre)\n",
    "def matrice(table, freq):\n",
    "    trans = np.zeros((freq,freq))\n",
    "    n = table.size\n",
    "    for i in range(0,n-1):\n",
    "        trans[(place(i,table,freq),place(i+1,table,freq))] = trans[(place(i,table,freq),place(i+1,table,freq))] + 1\n",
    "    for i in range(0,freq):\n",
    "        for j in range(0,freq):\n",
    "            trans[(i,j)] = trans[(i,j)]/n\n",
    "    return trans\n",
    "print()"
   ]
  },
  {
   "cell_type": "code",
   "execution_count": 4,
   "metadata": {
    "collapsed": false
   },
   "outputs": [
    {
     "data": {
      "text/plain": [
       "Ks_2sampResult(statistic=0.018800000000000039, pvalue=0.76523815794712602)"
      ]
     },
     "execution_count": 4,
     "metadata": {},
     "output_type": "execute_result"
    }
   ],
   "source": [
    "v1 = np.reshape(matrice(var['1to5'].values,50),50*50)\n",
    "v2 = np.reshape(matrice(var['10to20'].values,50),50*50)\n",
    "\n",
    "stats.ks_2samp(v1,v2)"
   ]
  },
  {
   "cell_type": "code",
   "execution_count": 5,
   "metadata": {
    "collapsed": false
   },
   "outputs": [
    {
     "name": "stdout",
     "output_type": "stream",
     "text": [
      "[ 0.20917679  0.00944669  0.         ...,  0.          0.          0.        ] [ 0.02699055  0.00134953  0.         ...,  0.          0.          0.        ]\n"
     ]
    }
   ],
   "source": [
    "print(v1,v2)"
   ]
  },
  {
   "cell_type": "code",
   "execution_count": null,
   "metadata": {
    "collapsed": true
   },
   "outputs": [],
   "source": []
  }
 ],
 "metadata": {
  "kernelspec": {
   "display_name": "Python 3",
   "language": "python",
   "name": "python3"
  },
  "language_info": {
   "codemirror_mode": {
    "name": "ipython",
    "version": 3
   },
   "file_extension": ".py",
   "mimetype": "text/x-python",
   "name": "python",
   "nbconvert_exporter": "python",
   "pygments_lexer": "ipython3",
   "version": "3.4.4"
  }
 },
 "nbformat": 4,
 "nbformat_minor": 0
}
