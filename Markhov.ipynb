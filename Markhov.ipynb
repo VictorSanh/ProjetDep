{
 "cells": [
  {
   "cell_type": "markdown",
   "metadata": {},
   "source": [
    "# Chaines de Markhov"
   ]
  },
  {
   "cell_type": "code",
   "execution_count": 1,
   "metadata": {
    "collapsed": false
   },
   "outputs": [
    {
     "name": "stdout",
     "output_type": "stream",
     "text": [
      "11.2\n"
     ]
    }
   ],
   "source": [
    "%matplotlib inline\n",
    "import matplotlib.pyplot as plt\n",
    "import pandas as pd\n",
    "import scipy\n",
    "import numpy as np\n",
    "from scipy import stats\n",
    "import pysal\n",
    "\n",
    "\n",
    "table = pd.read_csv('Databases/swaphist.csv', delimiter = \";\")\n",
    "table['Date'] = pd.to_datetime(table['Date'],dayfirst=True)\n",
    "#table = scipy.delete(table,table.shape[0]-1,0)\n",
    "print(min(table['1to5']))\n",
    "np.array(table['1to5'].quantile([k/5 for k in range(0, 5)]))\n",
    "output_3 = pd.read_csv('Databases/normal_implied_vol_300714.csv', delimiter = \";\")\n",
    "output_2 = pd.read_csv('Databases/normal_implied_vol_010807.csv', delimiter = \";\")\n",
    "#print(output_2)"
   ]
  },
  {
   "cell_type": "markdown",
   "metadata": {},
   "source": [
    "# Définition des fonctions"
   ]
  },
  {
   "cell_type": "markdown",
   "metadata": {},
   "source": [
    "### Calcul de la matrice de transition"
   ]
  },
  {
   "cell_type": "code",
   "execution_count": 2,
   "metadata": {
    "collapsed": false
   },
   "outputs": [],
   "source": [
    "#Calcule la place de l'élément dans un des n groupes\n",
    "'''def place(elem,table,freq):\n",
    "    xmin = min(table)\n",
    "    xmax = max(table)\n",
    "    delta = (xmax-xmin)/freq\n",
    "    if table[elem]==xmax : freq-1\n",
    "    else : return int((table[elem]-xmin)/delta)\n",
    "    #return min(int((table[elem]-xmin)/delta),freq-1)'''\n",
    "\n",
    "def place(elem, table, freq, quantiles):\n",
    "    k = 0\n",
    "    while k<freq and table[elem]>=quantiles[k]:\n",
    "        k += 1\n",
    "    return k-1\n",
    "\n",
    "def placement(table, freq):\n",
    "    quantiles = np.array(table.quantile([k/freq for k in range(0, freq)]))\n",
    "    liste = []\n",
    "    for elem in table :\n",
    "        k=1\n",
    "        while k<freq and elem>=quantiles[k]:\n",
    "            k += 1\n",
    "        liste.append(k-1)\n",
    "    return np.array(liste)\n",
    "\n",
    "#Calcule la matrice de passage (fréquence de passage d'un groupe à l'autre)\n",
    "def matrice(table, freq):\n",
    "    trans = np.zeros((freq,freq))\n",
    "    n = table.size\n",
    "    places = placement(table, freq)\n",
    "    for i in range(0,n-1):\n",
    "        trans[places[i],places[i+1]] += 1\n",
    "    for i in range(0,freq):\n",
    "        sum_ligne = np.sum(trans[i])\n",
    "        trans[i] = trans[i]/sum_ligne\n",
    "    return trans\n",
    "\n",
    "\n",
    "\n",
    "#La matrice de transition est-elle bien stochastique ?\n",
    "'''test = matrice(table['1to5'],20)\n",
    "print(test)\n",
    "for i in range(0,test.shape[0]):\n",
    "    #print(sum(test[i]))\n",
    "    if(sum(test[i])!=1.0): print(sum(test[i]))\n",
    "'''\n",
    "\n",
    "colors = ['RED','GREEN','BLUE','BLACK','ORANGE','PINK','BROWN','YELLOW','CYAN']\n",
    "#fig, ax = plt.subplots()\n",
    "#ax.plot_date(table['Date'], table['1to5'],'-',color='BLACK')\n",
    "#ax.plot_date(table['Date'],20,'-',color='RED')\n",
    "#fig.autofmt_xdate()"
   ]
  },
  {
   "cell_type": "markdown",
   "metadata": {},
   "source": [
    "Les matrices de transitions ne sont pas stochastiques car certains intervalles de valeurs ne sont jamais visités : typiquement, les valeurs élevés atteintes durant le pic de 2008-2013. Les variations sont très importantes lors de cette période et les volatilités font des sauts importants d'une semaine à l'autre.\n",
    "\n",
    "Il faudra prendre cela en compte lorsque l'on conduira les tests. En effet, les tests doivent être effectués sur des matrices stochastiques. On supprimera donc les colonnes et lignes vides."
   ]
  },
  {
   "cell_type": "markdown",
   "metadata": {},
   "source": [
    "### Fonctions auxiliaires pour le calcul des statistiques de test"
   ]
  },
  {
   "cell_type": "code",
   "execution_count": 3,
   "metadata": {
    "collapsed": false
   },
   "outputs": [],
   "source": [
    "#Une fonction pour supprimer les colonnes et lignes qui ne contiennent que des zeros\n",
    "def zero(mat):\n",
    "    liste = []\n",
    "    for i in range(0,mat.shape[0]-1):\n",
    "        if(sum(mat[i])==0): liste.append(i)\n",
    "    mat = scipy.delete(mat,liste,0)\n",
    "    liste = []\n",
    "    for i in range(0,mat.shape[1]-1): \n",
    "        if(sum(mat[:,i])==0): liste.append(i)\n",
    "    mat = scipy.delete(mat,liste,1)\n",
    "    return mat"
   ]
  },
  {
   "cell_type": "code",
   "execution_count": 47,
   "metadata": {
    "collapsed": false
   },
   "outputs": [],
   "source": [
    "def A(table,i,freq,T):\n",
    "    a=0\n",
    "    delta = table.size/T\n",
    "    tmp=0\n",
    "    for t in range(0,T):\n",
    "        sous_table = table[int(t*delta): int((t+1)*delta)]\n",
    "        sous_table.index = range(sous_table.shape[0])\n",
    "        #tmp =+ n(sous_table,i,freq)\n",
    "        if n(sous_table,i,freq)!=0 : a+=1\n",
    "    return a\n",
    "\n",
    "def B(MT,i):\n",
    "    B = []\n",
    "    for j in range(0,MT.shape[1]):\n",
    "        if MT[i,j]!=0 : B.append(j)\n",
    "    return B\n",
    "\n",
    "#elements de table appartenant à la i-ème classe\n",
    "def n(sous_table,i,freq):\n",
    "    tot = 0\n",
    "    quantiles = np.array(sous_table.quantile([k/freq for k in range(0, freq)]))\n",
    "    for elem in range(0,sous_table.size) :\n",
    "        if place(elem,sous_table,freq,quantiles)==i : tot += 1\n",
    "    return tot\n",
    "\n",
    "def d(table,i,T,freq):\n",
    "    delta = table.size/freq\n",
    "    di = []\n",
    "    for t in range(0,T):\n",
    "        sous_table = table[int(t*delta): int((t+1)*delta)]\n",
    "        sous_table.index = range(sous_table.shape[0])\n",
    "        if n(sous_table,i,T)>0 : di.append(t)\n",
    "    return di\n",
    "\n",
    "def stat(table, MT, sous_table, sous_MT, T):\n",
    "    tmp = 0\n",
    "    for i in range(0,MT.shape[0]):\n",
    "        #print(\"i : \",i)\n",
    "        ni = n(sous_table,i, T)\n",
    "        if ni>0 :\n",
    "            Bi = B(MT,i)\n",
    "            for j in Bi:\n",
    "                tmp += ni*(sous_MT[i,j]-MT[i,j])**2/MT[i,j]\n",
    "                #if MT[i,j]!=0 : stat += ni*(sous_MT[i,j]-MT[i,j])**2/MT[i,j]\n",
    "    return tmp\n",
    "\n",
    "def stat_tmp(table, MT, sous_table, sous_MT, T):\n",
    "    dg_lbt = 0\n",
    "    tmp = 0\n",
    "    for i in range(0,MT.shape[0]):\n",
    "        #print(\"i : \",i)\n",
    "        ni = n(sous_table,i, T)\n",
    "        if ni>0 :\n",
    "            Bi = B(MT,i)\n",
    "            for j in Bi:\n",
    "                tmp += ni*(sous_MT[i,j]-MT[i,j])**2/MT[i,j]\n",
    "                dg_lbt = dg_lbt +1\n",
    "                #if MT[i,j]!=0 : stat += ni*(sous_MT[i,j]-MT[i,j])**2/MT[i,j]\n",
    "    return tmp, dg_lbt"
   ]
  },
  {
   "cell_type": "code",
   "execution_count": 5,
   "metadata": {
    "collapsed": true
   },
   "outputs": [],
   "source": [
    "#Les matrices de transition de la table est-elle homogène ?\n",
    "def homog(table, freq=50, T=5):\n",
    "    for i,elem in enumerate(table):\n",
    "        if i>0:\n",
    "            Q,p = homog_temp(table[elem].values,freq,T)\n",
    "            m1 = homog_int(table[elem].values,freq,T)\n",
    "            m2 = homog_reg(table[elem].values,freq,T)\n",
    "            print(\"p-valeur : \",p, \" - résultat du test par intervalles : \",m1,\" - résultat du test par régions : \",m2)\n",
    "            rep = p>0.05 and m1>0.5 and m2>0.5\n",
    "            if rep : print(\"La série de valeur pour le swaption \",elem,\" est homogène\")\n",
    "            else : print(\"La série de valeur pour le swaption \",elem,\" n'est pas homogène\")\n",
    "    return 0"
   ]
  },
  {
   "cell_type": "markdown",
   "metadata": {},
   "source": [
    "## Les matrices de transition sont elles bien homogènes ?"
   ]
  },
  {
   "cell_type": "markdown",
   "metadata": {},
   "source": [
    "Pour que la matrice de transition calculée à partir des fréquences de transition ait un sens, il fait s'assurer qu'elle est bien homogène en temps. On va donc mener plusieurs test pour vérifier cette hypothèse lourde."
   ]
  },
  {
   "cell_type": "markdown",
   "metadata": {},
   "source": [
    "### Test d'homogénéité des intervalles par rapport à la matrice de transition globale"
   ]
  },
  {
   "cell_type": "markdown",
   "metadata": {},
   "source": [
    "On subdivise notre série de valeurs en un nombre $T$ d'intervalles. On vérifie que, si on calcule la matrice de transition sur chacun des intervalles, on retrouve bien la matrice de transition calculée sur toutes les valeurs de la série par un test du khi-2.\n",
    "\n",
    "\n",
    "Notre hypothèse nulle est donc : $H_0 = \\{\\forall t, \\le T, \\forall i,j, p_{i,j} (t) = p_{i,j}\\}$"
   ]
  },
  {
   "cell_type": "code",
   "execution_count": 49,
   "metadata": {
    "collapsed": false
   },
   "outputs": [],
   "source": [
    "def homog_temp(table, freq, T=5):\n",
    "    N = table.size\n",
    "    Q = 0\n",
    "    delta = N/T\n",
    "    MT = matrice(table, freq)\n",
    "    Q_tmp, dg_lbt_tmp = 0,0\n",
    "    dg_lbt = 0\n",
    "    for t in range(0,T):\n",
    "        sous_table = table[int(t*delta): int((t+1)*delta)]\n",
    "        sous_table.index = range(sous_table.shape[0])\n",
    "        sous_MT = matrice(sous_table, freq)\n",
    "        Q_tmp, dg_lbt_tmp = stat_tmp(table,MT,sous_table,sous_MT,T)\n",
    "        Q += Q_tmp\n",
    "        dg_lbt += dg_lbt_tmp\n",
    "    \n",
    "    dg_lib = 0\n",
    "    for i in range(0, MT.shape[0]):\n",
    "        ai = A(table,i,freq,T)\n",
    "        if ai>0 : dg_lib += (len(B(MT,i))-1)*(ai-1)\n",
    "    print(\"Degrés de liberté : \",dg_lib,dg_lbt)\n",
    "    return Q, 1-stats.chi2.cdf(Q,dg_lbt)"
   ]
  },
  {
   "cell_type": "markdown",
   "metadata": {},
   "source": [
    "### Test d'homogénéité par intervalle"
   ]
  },
  {
   "cell_type": "markdown",
   "metadata": {
    "collapsed": false
   },
   "source": [
    "On subdivise notre série de valeurs en un nombre $T$ d'intervalles. On va effectuer $T$ tests pour vérifier si chacune des $T$ matrices de transitions sont bien les mêmes que la matrice de transition globale.\n",
    "\n",
    "\n",
    "Notre hypothèse nulle est donc, pour chacun des intervalles $ 0\\le t <T$ : $H_0^t = \\{\\forall i,j, p_{i,j} (t) = p_{i,j}\\}$"
   ]
  },
  {
   "cell_type": "code",
   "execution_count": 51,
   "metadata": {
    "collapsed": false
   },
   "outputs": [],
   "source": [
    "def homog_int(table, freq, T=3):\n",
    "    N = table.size\n",
    "    Q = 0\n",
    "    delta = N/T\n",
    "    moy = 0\n",
    "    MT = matrice(table, freq)\n",
    "    for i in range(0,freq):\n",
    "        Q = 0\n",
    "        Di = d(table,i,T,freq)\n",
    "        Bi = B(MT,i)\n",
    "        for t in Di:\n",
    "            ni = n(table,i,T)\n",
    "            sous_table = table[int(t*delta): int((t+1)*delta)]\n",
    "            sous_table.index = range(sous_table.shape[0])\n",
    "            sous_MT = matrice(sous_table,freq)\n",
    "            for j in Bi:\n",
    "                Q += ni*(MT[i,j]-sous_MT[i,j])**2/MT[i,j]\n",
    "        dg_lib = (len(Di)-1)*(len(Bi)-1)\n",
    "        dg_lbt = len(Di)*len(Bi)\n",
    "        p = 1-stats.chi2.cdf(Q,dg_lbt)\n",
    "\n",
    "        print(\"Q : \",Q, \" - dg de lbte : \",dg_lib,dg_lbt)\n",
    "        print(\"p-valeur du test sur le \",t,\"-ième intervalle : \",p)\n",
    "        if p>0.05 : moy += 1\n",
    "    \n",
    "    print(moy,\" intervalles de temps sur \",T,\" sont homogènes\")    \n",
    "    return moy/T\n",
    "\n",
    "\n",
    "    ''' for i in range(0,T):\n",
    "        sous_table = table[int(t*delta): int((t+1)*delta)]\n",
    "        sous_table.index = range(sous_table.shape[0])\n",
    "        sous_MT = matrice(sous_table, freq)\n",
    "        Q = stat(table,MT,sous_table,sous_MT,freq)\n",
    "        dg_lib = (len(B(MT,i))-1)*n(table,i,freq)\n",
    "        #for i in range(0, MT.shape[0]-1):\n",
    "            #print(B(MT,i),A(table,i,freq,T))\n",
    "            #dg_lib += (len(B(MT,i))-1)*(A(table,i,freq,T)-1)\n",
    "        p = 1-stats.chi2.cdf(Q,dg_lib)'''"
   ]
  },
  {
   "cell_type": "markdown",
   "metadata": {},
   "source": [
    "### Test région contre région"
   ]
  },
  {
   "cell_type": "markdown",
   "metadata": {},
   "source": [
    "On subdivise toujours notre série de valeurs en un nombre $T$ d'intervalles. Pour finir, on vérifie si les matrices de transitions de deux périodes sont identiques.\n",
    "\n",
    "Notre hypothèse nulle est donc, pour chacun des intervalles $ 0\\le t,u <T$ : $H_0^{t,u} = \\{\\forall i,j, p_{i,j}^t (t) = p_{i,j}^u\\}$"
   ]
  },
  {
   "cell_type": "code",
   "execution_count": 52,
   "metadata": {
    "collapsed": false
   },
   "outputs": [],
   "source": [
    "def homog_reg(table, freq, T=3):\n",
    "    N = table.size\n",
    "    Q = 0\n",
    "    delta = N/T\n",
    "    moy = 0\n",
    "    t,u = 0,0\n",
    "    for t in range(0,T):\n",
    "        for u in range(t+1,T):\n",
    "            sous_table1 = table[int(t*delta): int((t+1)*delta)]\n",
    "            sous_table2 = table[int(u*delta): int((u+1)*delta)]\n",
    "            sous_table1.index = range(int((t+1)*delta)-int(t*delta))\n",
    "            sous_table2.index = range(int((u+1)*delta)-int(u*delta))\n",
    "            sous_MT1 = matrice(sous_table1, freq)\n",
    "            sous_MT2 = matrice(sous_table2, freq)\n",
    "            Q = stat(sous_table1,sous_MT1,sous_table2,sous_MT2,T)\n",
    "            Di = d(sous_table1,t,T,freq)\n",
    "            Bi = B(sous_MT1,t)\n",
    "            dg_lib = (len(Di)-1)*(len(Bi)-1)\n",
    "            dg_lbt = len(Di)*len(Bi)\n",
    "            MT = matrice(sous_table1, freq)\n",
    "            #for i in range(0, MT.shape[0]-1):\n",
    "                #dg_lib += max((len(B(MT,i))-1)*(A(table,i,freq,T)-1),0)\n",
    "            p = 1-stats.chi2.cdf(Q,dg_lbt)\n",
    "            print(\"Q : \",Q,\" - dg lib : \",dg_lib,dg_lbt)\n",
    "            print(\"p-valeur du test entre le \",t+1,\"-ième et le \",u+1,\"-ième intervalle : \",p)\n",
    "            if p>0.05 : moy += 1\n",
    "    \n",
    "    print(moy,\" paires d'intervalles de temps sur \",T,\" intervalles sont homogènes\")    \n",
    "    return 2*moy/(T*(T-1))"
   ]
  },
  {
   "cell_type": "markdown",
   "metadata": {
    "collapsed": true
   },
   "source": [
    "## Deux matrices de transition sont-elles égales ?"
   ]
  },
  {
   "cell_type": "markdown",
   "metadata": {},
   "source": [
    "Maintenant, on peut tester si deux matrices de transition sont égales. On appliquera la statistique de test précédement définie aux deux matrices.\n",
    "\n",
    "Notre hypothèse nulle est donc, si on note $(p_{i,j}^0)$ et $(p_{i,j}^1)$ les coefficents de chacune des deux matrices de transition : $H_0 = \\{\\forall i,j, p_{i,j}^0 = p_{i,j}^1\\}$"
   ]
  },
  {
   "cell_type": "markdown",
   "metadata": {},
   "source": [
    "# Tests sur toute la période 2001-2016"
   ]
  },
  {
   "cell_type": "markdown",
   "metadata": {},
   "source": [
    "## Homogénéité"
   ]
  },
  {
   "cell_type": "code",
   "execution_count": 16,
   "metadata": {
    "collapsed": false
   },
   "outputs": [
    {
     "name": "stdout",
     "output_type": "stream",
     "text": [
      "Degrés de liberté :  40 75\n"
     ]
    },
    {
     "data": {
      "text/plain": [
       "(360.63635912994732, 0.0)"
      ]
     },
     "execution_count": 16,
     "metadata": {},
     "output_type": "execute_result"
    }
   ],
   "source": [
    "homog_temp(table['10to5'],5)"
   ]
  },
  {
   "cell_type": "code",
   "execution_count": 55,
   "metadata": {
    "collapsed": false,
    "scrolled": true
   },
   "outputs": [
    {
     "name": "stdout",
     "output_type": "stream",
     "text": [
      "Q :  226.021582697  - dg de lbte :  4 10\n",
      "p-valeur du test sur le  4 -ième intervalle :  0.0\n",
      "Q :  383.195589  - dg de lbte :  8 15\n",
      "p-valeur du test sur le  4 -ième intervalle :  0.0\n",
      "Q :  125.273419088  - dg de lbte :  8 15\n",
      "p-valeur du test sur le  4 -ième intervalle :  0.0\n",
      "Q :  169.542440832  - dg de lbte :  8 15\n",
      "p-valeur du test sur le  4 -ième intervalle :  0.0\n",
      "Q :  87.2303959369  - dg de lbte :  4 10\n",
      "p-valeur du test sur le  4 -ième intervalle :  1.89848137211e-14\n",
      "0  intervalles de temps sur  5  sont homogènes\n"
     ]
    },
    {
     "data": {
      "text/plain": [
       "0.0"
      ]
     },
     "execution_count": 55,
     "metadata": {},
     "output_type": "execute_result"
    }
   ],
   "source": [
    "homog_int(table['1to5'],5,T=5)"
   ]
  },
  {
   "cell_type": "code",
   "execution_count": 56,
   "metadata": {
    "collapsed": false
   },
   "outputs": [
    {
     "name": "stdout",
     "output_type": "stream",
     "text": [
      "Q :  1.63042692212  - dg lib :  2 6\n",
      "p-valeur du test entre le  1 -ième et le  2 -ième intervalle :  0.950365047832\n",
      "Q :  108.557390425  - dg lib :  2 6\n",
      "p-valeur du test entre le  1 -ième et le  3 -ième intervalle :  0.0\n",
      "Q :  88.0644194037  - dg lib :  4 9\n",
      "p-valeur du test entre le  2 -ième et le  3 -ième intervalle :  3.99680288865e-15\n",
      "1  paires d'intervalles de temps sur  3  intervalles sont homogènes\n"
     ]
    },
    {
     "data": {
      "text/plain": [
       "0.3333333333333333"
      ]
     },
     "execution_count": 56,
     "metadata": {},
     "output_type": "execute_result"
    }
   ],
   "source": [
    "homog_reg(table['1to5'],5)"
   ]
  },
  {
   "cell_type": "markdown",
   "metadata": {},
   "source": [
    "Comme on pouvait s'y attendre, les matrices de transition sur la période 2001-2016 ne sont homogène dans le temps pour aucun des swaptions. Nous allons donc restreindre notre études à de plus petits intervalles."
   ]
  },
  {
   "cell_type": "markdown",
   "metadata": {},
   "source": [
    "# Test sur la période 2001-2008"
   ]
  },
  {
   "cell_type": "code",
   "execution_count": 17,
   "metadata": {
    "collapsed": false
   },
   "outputs": [],
   "source": [
    "tab1 = table[0:292]"
   ]
  },
  {
   "cell_type": "code",
   "execution_count": 77,
   "metadata": {
    "collapsed": false,
    "scrolled": true
   },
   "outputs": [
    {
     "name": "stdout",
     "output_type": "stream",
     "text": [
      "Q :  20.6781157057  - dg lib :  2 6\n",
      "p-valeur du test entre le  1 -ième et le  2 -ième intervalle :  0.00209552514999\n",
      "Q :  1.49031121399  - dg lib :  2 6\n",
      "p-valeur du test entre le  1 -ième et le  3 -ième intervalle :  0.960135552723\n",
      "Q :  32.8125843173  - dg lib :  6 12\n",
      "p-valeur du test entre le  2 -ième et le  3 -ième intervalle :  0.00103537792631\n",
      "1  paires d'intervalles de temps sur  3  intervalles sont homogènes\n",
      "Q :  26.3445390553  - dg lib :  2 6\n",
      "p-valeur du test entre le  1 -ième et le  2 -ième intervalle :  0.000192026746503\n",
      "Q :  6.31218655514  - dg lib :  2 6\n",
      "p-valeur du test entre le  1 -ième et le  3 -ième intervalle :  0.389142450816\n",
      "Q :  7.75412196427  - dg lib :  6 12\n",
      "p-valeur du test entre le  2 -ième et le  3 -ième intervalle :  0.804037673732\n",
      "2  paires d'intervalles de temps sur  3  intervalles sont homogènes\n",
      "Q :  18.6926603943  - dg lib :  4 9\n",
      "p-valeur du test entre le  1 -ième et le  2 -ième intervalle :  0.0279367203365\n",
      "Q :  21.71125  - dg lib :  4 9\n",
      "p-valeur du test entre le  1 -ième et le  3 -ième intervalle :  0.00984056446863\n",
      "Q :  18.9713012478  - dg lib :  4 9\n",
      "p-valeur du test entre le  2 -ième et le  3 -ième intervalle :  0.0254380229381\n",
      "0  paires d'intervalles de temps sur  3  intervalles sont homogènes\n",
      "5\n",
      "Q :  19.0249013158  - dg lib :  4 9\n",
      "p-valeur du test entre le  1 -ième et le  2 -ième intervalle :  0.0249819952566\n",
      "Q :  18.5208658009  - dg lib :  4 9\n",
      "p-valeur du test entre le  1 -ième et le  3 -ième intervalle :  0.0295895094363\n",
      "Q :  4.74291958042  - dg lib :  6 12\n",
      "p-valeur du test entre le  2 -ième et le  3 -ième intervalle :  0.966019011197\n",
      "1  paires d'intervalles de temps sur  3  intervalles sont homogènes\n",
      "Q :  57.9566887308  - dg lib :  4 9\n",
      "p-valeur du test entre le  1 -ième et le  2 -ième intervalle :  3.31305005652e-09\n",
      "Q :  31.6726135301  - dg lib :  4 9\n",
      "p-valeur du test entre le  1 -ième et le  3 -ième intervalle :  0.000226806469131\n",
      "Q :  35.4487304443  - dg lib :  4 9\n",
      "p-valeur du test entre le  2 -ième et le  3 -ième intervalle :  4.96439771575e-05\n",
      "0  paires d'intervalles de temps sur  3  intervalles sont homogènes\n",
      "Q :  13.1758452827  - dg lib :  2 6\n",
      "p-valeur du test entre le  1 -ième et le  2 -ième intervalle :  0.0403269606703\n",
      "Q :  5.5089791429  - dg lib :  2 6\n",
      "p-valeur du test entre le  1 -ième et le  3 -ième intervalle :  0.480372118162\n",
      "Q :  13.2860697198  - dg lib :  4 9\n",
      "p-valeur du test entre le  2 -ième et le  3 -ième intervalle :  0.150083372065\n",
      "2  paires d'intervalles de temps sur  3  intervalles sont homogènes\n",
      "10\n",
      "Q :  22.9927210884  - dg lib :  6 12\n",
      "p-valeur du test entre le  1 -ième et le  2 -ième intervalle :  0.027787801433\n",
      "Q :  13.1439124674  - dg lib :  6 12\n",
      "p-valeur du test entre le  1 -ième et le  3 -ième intervalle :  0.358667905085\n",
      "Q :  22.3518710042  - dg lib :  4 9\n",
      "p-valeur du test entre le  2 -ième et le  3 -ième intervalle :  0.00782824005368\n",
      "1  paires d'intervalles de temps sur  3  intervalles sont homogènes\n",
      "Q :  27.2784722222  - dg lib :  4 9\n",
      "p-valeur du test entre le  1 -ième et le  2 -ième intervalle :  0.00125781589937\n",
      "Q :  48.262759181  - dg lib :  4 9\n",
      "p-valeur du test entre le  1 -ième et le  3 -ième intervalle :  2.28090590526e-07\n",
      "Q :  26.3916764922  - dg lib :  4 9\n",
      "p-valeur du test entre le  2 -ième et le  3 -ième intervalle :  0.00176214526658\n",
      "0  paires d'intervalles de temps sur  3  intervalles sont homogènes\n",
      "Q :  49.2699830419  - dg lib :  2 6\n",
      "p-valeur du test entre le  1 -ième et le  2 -ième intervalle :  6.58348497939e-09\n",
      "Q :  6.16334802865  - dg lib :  2 6\n",
      "p-valeur du test entre le  1 -ième et le  3 -ième intervalle :  0.405142895396\n",
      "Q :  28.1917646748  - dg lib :  4 9\n",
      "p-valeur du test entre le  2 -ième et le  3 -ième intervalle :  0.000885964641718\n",
      "1  paires d'intervalles de temps sur  3  intervalles sont homogènes\n"
     ]
    },
    {
     "data": {
      "text/plain": [
       "0.3333333333333333"
      ]
     },
     "execution_count": 77,
     "metadata": {},
     "output_type": "execute_result"
    }
   ],
   "source": [
    "homog_reg(tab1['1to5'],5)\n",
    "homog_reg(tab1['1to10'],5)\n",
    "homog_reg(tab1['1to20'],5)\n",
    "print('5')\n",
    "homog_reg(tab1['5to5'],5)\n",
    "homog_reg(tab1['5to10'],5)\n",
    "homog_reg(tab1['5to20'],5)\n",
    "print('10')\n",
    "homog_reg(tab1['10to5'],5)\n",
    "homog_reg(tab1['10to10'],5)\n",
    "homog_reg(tab1['10to20'],5)"
   ]
  },
  {
   "cell_type": "code",
   "execution_count": 60,
   "metadata": {
    "collapsed": false,
    "scrolled": true
   },
   "outputs": [
    {
     "name": "stdout",
     "output_type": "stream",
     "text": [
      "Q :  43.1072619048  - dg de lbte :  4 9\n",
      "p-valeur du test sur le  2 -ième intervalle :  2.06005090742e-06\n",
      "Q :  96.9565555556  - dg de lbte :  6 12\n",
      "p-valeur du test sur le  2 -ième intervalle :  2.22044604925e-15\n",
      "Q :  59.1674641148  - dg de lbte :  6 12\n",
      "p-valeur du test sur le  2 -ième intervalle :  3.20008178845e-08\n",
      "Q :  0  - dg de lbte :  -3 0\n",
      "p-valeur du test sur le  2 -ième intervalle :  nan\n",
      "Q :  0  - dg de lbte :  -4 0\n",
      "p-valeur du test sur le  2 -ième intervalle :  nan\n",
      "Q :  0  - dg de lbte :  -4 0\n",
      "p-valeur du test sur le  2 -ième intervalle :  nan\n",
      "Q :  0  - dg de lbte :  -3 0\n",
      "p-valeur du test sur le  2 -ième intervalle :  nan\n",
      "Q :  0  - dg de lbte :  -4 0\n",
      "p-valeur du test sur le  2 -ième intervalle :  nan\n",
      "Q :  0  - dg de lbte :  -3 0\n",
      "p-valeur du test sur le  2 -ième intervalle :  nan\n",
      "Q :  0  - dg de lbte :  -1 0\n",
      "p-valeur du test sur le  2 -ième intervalle :  nan\n",
      "0  intervalles de temps sur  3  sont homogènes\n"
     ]
    },
    {
     "data": {
      "text/plain": [
       "0.0"
      ]
     },
     "execution_count": 60,
     "metadata": {},
     "output_type": "execute_result"
    }
   ],
   "source": [
    "homog_int(tab1['1to20'],10)"
   ]
  },
  {
   "cell_type": "code",
   "execution_count": 58,
   "metadata": {
    "collapsed": false
   },
   "outputs": [
    {
     "name": "stdout",
     "output_type": "stream",
     "text": [
      "Degrés de liberté :  16 35\n"
     ]
    },
    {
     "data": {
      "text/plain": [
       "(53.657787191165319, 0.022692480993421804)"
      ]
     },
     "execution_count": 58,
     "metadata": {},
     "output_type": "execute_result"
    }
   ],
   "source": [
    "homog_temp(tab1['1to5'],3,T=5)"
   ]
  },
  {
   "cell_type": "markdown",
   "metadata": {
    "collapsed": true
   },
   "source": [
    "## Test sur la période 2008-2014"
   ]
  },
  {
   "cell_type": "code",
   "execution_count": 31,
   "metadata": {
    "collapsed": false
   },
   "outputs": [],
   "source": [
    "tab2 = table[292:658]\n",
    "tab2.index = range(tab2.shape[0])"
   ]
  },
  {
   "cell_type": "code",
   "execution_count": 78,
   "metadata": {
    "collapsed": false,
    "scrolled": true
   },
   "outputs": [
    {
     "name": "stdout",
     "output_type": "stream",
     "text": [
      "Q :  2.97833096973  - dg lib :  2 6\n",
      "p-valeur du test entre le  1 -ième et le  2 -ième intervalle :  0.811561573493\n",
      "Q :  58.6792835014  - dg lib :  2 6\n",
      "p-valeur du test entre le  1 -ième et le  3 -ième intervalle :  8.34483593337e-11\n",
      "Q :  34.5081082281  - dg lib :  6 12\n",
      "p-valeur du test entre le  2 -ième et le  3 -ième intervalle :  0.000560635330098\n",
      "1  paires d'intervalles de temps sur  3  intervalles sont homogènes\n",
      "Q :  4.79310185185  - dg lib :  2 6\n",
      "p-valeur du test entre le  1 -ième et le  2 -ième intervalle :  0.570610136761\n",
      "Q :  80.0990740741  - dg lib :  2 6\n",
      "p-valeur du test entre le  1 -ième et le  3 -ième intervalle :  3.44169137634e-15\n",
      "Q :  39.7350910364  - dg lib :  4 9\n",
      "p-valeur du test entre le  2 -ième et le  3 -ième intervalle :  8.48582651225e-06\n",
      "1  paires d'intervalles de temps sur  3  intervalles sont homogènes\n",
      "Q :  20.874857719  - dg lib :  2 6\n",
      "p-valeur du test entre le  1 -ième et le  2 -ième intervalle :  0.00193204105603\n",
      "Q :  8.16928157139  - dg lib :  2 6\n",
      "p-valeur du test entre le  1 -ième et le  3 -ième intervalle :  0.225961844917\n",
      "Q :  27.0357369904  - dg lib :  4 9\n",
      "p-valeur du test entre le  2 -ième et le  3 -ième intervalle :  0.00137985448065\n",
      "1  paires d'intervalles de temps sur  3  intervalles sont homogènes\n",
      "5\n",
      "Q :  16.9067837183  - dg lib :  2 6\n",
      "p-valeur du test entre le  1 -ième et le  2 -ième intervalle :  0.0096320026588\n",
      "Q :  24.532639868  - dg lib :  2 6\n",
      "p-valeur du test entre le  1 -ième et le  3 -ième intervalle :  0.000416616572713\n",
      "Q :  79.3786484472  - dg lib :  6 12\n",
      "p-valeur du test entre le  2 -ième et le  3 -ième intervalle :  5.42144107385e-12\n",
      "0  paires d'intervalles de temps sur  3  intervalles sont homogènes\n",
      "Q :  17.1215351411  - dg lib :  2 6\n",
      "p-valeur du test entre le  1 -ième et le  2 -ième intervalle :  0.0088468111799\n",
      "Q :  53.0382109788  - dg lib :  2 6\n",
      "p-valeur du test entre le  1 -ième et le  3 -ième intervalle :  1.15268472545e-09\n",
      "Q :  37.9275793651  - dg lib :  4 9\n",
      "p-valeur du test entre le  2 -ième et le  3 -ième intervalle :  1.79606062504e-05\n",
      "0  paires d'intervalles de temps sur  3  intervalles sont homogènes\n",
      "Q :  11.7082634921  - dg lib :  2 6\n",
      "p-valeur du test entre le  1 -ième et le  2 -ième intervalle :  0.0688026533394\n",
      "Q :  12.159410755  - dg lib :  2 6\n",
      "p-valeur du test entre le  1 -ième et le  3 -ième intervalle :  0.0585055790641\n",
      "Q :  43.0385702437  - dg lib :  6 12\n",
      "p-valeur du test entre le  2 -ième et le  3 -ième intervalle :  2.22427487773e-05\n",
      "2  paires d'intervalles de temps sur  3  intervalles sont homogènes\n",
      "10\n",
      "Q :  33.6476610288  - dg lib :  4 9\n",
      "p-valeur du test entre le  1 -ième et le  2 -ième intervalle :  0.000102954110298\n",
      "Q :  17.6854676333  - dg lib :  4 9\n",
      "p-valeur du test entre le  1 -ième et le  3 -ième intervalle :  0.0390030753829\n",
      "Q :  199.984810895  - dg lib :  6 12\n",
      "p-valeur du test entre le  2 -ième et le  3 -ième intervalle :  0.0\n",
      "0  paires d'intervalles de temps sur  3  intervalles sont homogènes\n",
      "Q :  21.7559320092  - dg lib :  4 9\n",
      "p-valeur du test entre le  1 -ième et le  2 -ième intervalle :  0.00968553001055\n",
      "Q :  6.3095438961  - dg lib :  4 9\n",
      "p-valeur du test entre le  1 -ième et le  3 -ième intervalle :  0.708582467522\n",
      "Q :  38.2608716702  - dg lib :  6 12\n",
      "p-valeur du test entre le  2 -ième et le  3 -ième intervalle :  0.000139183676283\n",
      "1  paires d'intervalles de temps sur  3  intervalles sont homogènes\n",
      "Q :  15.8129672314  - dg lib :  2 6\n",
      "p-valeur du test entre le  1 -ième et le  2 -ième intervalle :  0.0147938417306\n",
      "Q :  53.7591168607  - dg lib :  2 6\n",
      "p-valeur du test entre le  1 -ième et le  3 -ième intervalle :  8.25004398131e-10\n",
      "Q :  62.1184325772  - dg lib :  4 9\n",
      "p-valeur du test entre le  2 -ième et le  3 -ième intervalle :  5.22694332261e-10\n",
      "0  paires d'intervalles de temps sur  3  intervalles sont homogènes\n"
     ]
    },
    {
     "data": {
      "text/plain": [
       "0.0"
      ]
     },
     "execution_count": 78,
     "metadata": {},
     "output_type": "execute_result"
    }
   ],
   "source": [
    "homog_reg(tab2['1to5'],5)\n",
    "homog_reg(tab2['1to10'],5)\n",
    "homog_reg(tab2['1to20'],5)\n",
    "print('5')\n",
    "homog_reg(tab2['5to5'],5)\n",
    "homog_reg(tab2['5to10'],5)\n",
    "homog_reg(tab2['5to20'],5)\n",
    "print('10')\n",
    "homog_reg(tab2['10to5'],5)\n",
    "homog_reg(tab2['10to10'],5)\n",
    "homog_reg(tab2['10to20'],5)"
   ]
  },
  {
   "cell_type": "code",
   "execution_count": 35,
   "metadata": {
    "collapsed": false,
    "scrolled": true
   },
   "outputs": [
    {
     "name": "stdout",
     "output_type": "stream",
     "text": [
      "Q :  331.214836601  - dg de lbte :  8\n",
      "p-valeur du test sur le  4 -ième intervalle :  0.0\n",
      "Q :  286.151631393  - dg de lbte :  8\n",
      "p-valeur du test sur le  4 -ième intervalle :  0.0\n",
      "Q :  298.964916953  - dg de lbte :  8\n",
      "p-valeur du test sur le  4 -ième intervalle :  0.0\n",
      "Q :  424.10857997  - dg de lbte :  8\n",
      "p-valeur du test sur le  4 -ième intervalle :  0.0\n",
      "Q :  46.6988551736  - dg de lbte :  4\n",
      "p-valeur du test sur le  4 -ième intervalle :  1.76181869094e-09\n",
      "0  intervalles de temps sur  5  sont homogènes\n"
     ]
    },
    {
     "data": {
      "text/plain": [
       "0.0"
      ]
     },
     "execution_count": 35,
     "metadata": {},
     "output_type": "execute_result"
    }
   ],
   "source": [
    "homog_int(tab2['1to5'],5)"
   ]
  },
  {
   "cell_type": "code",
   "execution_count": 21,
   "metadata": {
    "collapsed": false
   },
   "outputs": [
    {
     "name": "stdout",
     "output_type": "stream",
     "text": [
      "Degrés de liberté :  96\n"
     ]
    },
    {
     "data": {
      "text/plain": [
       "(281.24660076254941, 0.0)"
      ]
     },
     "execution_count": 21,
     "metadata": {},
     "output_type": "execute_result"
    }
   ],
   "source": [
    "homog_temp(tab2['1to5'],10,T=5)"
   ]
  },
  {
   "cell_type": "markdown",
   "metadata": {
    "collapsed": true
   },
   "source": [
    "## Test sur la période 2014-2016"
   ]
  },
  {
   "cell_type": "code",
   "execution_count": 80,
   "metadata": {
    "collapsed": false
   },
   "outputs": [],
   "source": [
    "tab3 = table[658:]\n",
    "tab3.index = range(tab3.shape[0])"
   ]
  },
  {
   "cell_type": "code",
   "execution_count": 81,
   "metadata": {
    "collapsed": false
   },
   "outputs": [
    {
     "name": "stdout",
     "output_type": "stream",
     "text": [
      "Q :  6.0  - dg lib :  2 6\n",
      "p-valeur du test entre le  1 -ième et le  2 -ième intervalle :  0.423190081127\n",
      "Q :  11.0694444444  - dg lib :  2 6\n",
      "p-valeur du test entre le  1 -ième et le  3 -ième intervalle :  0.0862537340013\n",
      "Q :  4.84444444444  - dg lib :  4 9\n",
      "p-valeur du test entre le  2 -ième et le  3 -ième intervalle :  0.847652069633\n",
      "3  paires d'intervalles de temps sur  3  intervalles sont homogènes\n",
      "Q :  15.3666666667  - dg lib :  4 9\n",
      "p-valeur du test entre le  1 -ième et le  2 -ième intervalle :  0.0813442253864\n",
      "Q :  11.0407407407  - dg lib :  4 9\n",
      "p-valeur du test entre le  1 -ième et le  3 -ième intervalle :  0.272926703962\n",
      "Q :  5.91111111111  - dg lib :  4 9\n",
      "p-valeur du test entre le  2 -ième et le  3 -ième intervalle :  0.74878068007\n",
      "3  paires d'intervalles de temps sur  3  intervalles sont homogènes\n",
      "Q :  6.3  - dg lib :  2 6\n",
      "p-valeur du test entre le  1 -ième et le  2 -ième intervalle :  0.390436440917\n",
      "Q :  6.79444444444  - dg lib :  2 6\n",
      "p-valeur du test entre le  1 -ième et le  3 -ième intervalle :  0.34027602102\n",
      "Q :  8.04907407407  - dg lib :  4 9\n",
      "p-valeur du test entre le  2 -ième et le  3 -ième intervalle :  0.529208404773\n",
      "3  paires d'intervalles de temps sur  3  intervalles sont homogènes\n",
      "5\n",
      "Q :  24.6666666667  - dg lib :  4 9\n",
      "p-valeur du test entre le  1 -ième et le  2 -ième intervalle :  0.00336290434745\n",
      "Q :  12.1055555556  - dg lib :  4 9\n",
      "p-valeur du test entre le  1 -ième et le  3 -ième intervalle :  0.207423803976\n",
      "Q :  20.6601851852  - dg lib :  4 9\n",
      "p-valeur du test entre le  2 -ième et le  3 -ième intervalle :  0.0142477656504\n",
      "1  paires d'intervalles de temps sur  3  intervalles sont homogènes\n",
      "Q :  29.5416666667  - dg lib :  4 9\n",
      "p-valeur du test entre le  1 -ième et le  2 -ième intervalle :  0.000524832478665\n",
      "Q :  34.7601851852  - dg lib :  4 9\n",
      "p-valeur du test entre le  1 -ième et le  3 -ième intervalle :  6.56740103344e-05\n",
      "Q :  6.01111111111  - dg lib :  4 9\n",
      "p-valeur du test entre le  2 -ième et le  3 -ième intervalle :  0.738805729646\n",
      "1  paires d'intervalles de temps sur  3  intervalles sont homogènes\n",
      "Q :  5.555  - dg lib :  2 6\n",
      "p-valeur du test entre le  1 -ième et le  2 -ième intervalle :  0.474834291176\n",
      "Q :  8.32962962963  - dg lib :  2 6\n",
      "p-valeur du test entre le  1 -ième et le  3 -ième intervalle :  0.214934652148\n",
      "Q :  6.0312962963  - dg lib :  4 9\n",
      "p-valeur du test entre le  2 -ième et le  3 -ième intervalle :  0.736781980443\n",
      "3  paires d'intervalles de temps sur  3  intervalles sont homogènes\n",
      "10\n",
      "Q :  20.3666666667  - dg lib :  4 9\n",
      "p-valeur du test entre le  1 -ième et le  2 -ième intervalle :  0.0157796016565\n",
      "Q :  14.5777777778  - dg lib :  4 9\n",
      "p-valeur du test entre le  1 -ième et le  3 -ième intervalle :  0.103205900372\n",
      "Q :  12.6351851852  - dg lib :  4 9\n",
      "p-valeur du test entre le  2 -ième et le  3 -ième intervalle :  0.179820336807\n",
      "2  paires d'intervalles de temps sur  3  intervalles sont homogènes\n",
      "Q :  17.3666666667  - dg lib :  4 9\n",
      "p-valeur du test entre le  1 -ième et le  2 -ième intervalle :  0.0432742152223\n",
      "Q :  6.82962962963  - dg lib :  4 9\n",
      "p-valeur du test entre le  1 -ième et le  3 -ième intervalle :  0.654852128367\n",
      "Q :  5.57407407407  - dg lib :  4 9\n",
      "p-valeur du test entre le  2 -ième et le  3 -ième intervalle :  0.781673020755\n",
      "2  paires d'intervalles de temps sur  3  intervalles sont homogènes\n",
      "Q :  13.0666666667  - dg lib :  2 6\n",
      "p-valeur du test entre le  1 -ième et le  2 -ième intervalle :  0.04198940625\n",
      "Q :  12.4222222222  - dg lib :  2 6\n",
      "p-valeur du test entre le  1 -ième et le  3 -ième intervalle :  0.0531857886612\n",
      "Q :  37.8555555556  - dg lib :  4 9\n",
      "p-valeur du test entre le  2 -ième et le  3 -ième intervalle :  1.85026843897e-05\n",
      "1  paires d'intervalles de temps sur  3  intervalles sont homogènes\n"
     ]
    },
    {
     "data": {
      "text/plain": [
       "0.3333333333333333"
      ]
     },
     "execution_count": 81,
     "metadata": {},
     "output_type": "execute_result"
    }
   ],
   "source": [
    "homog_reg(tab3['1to5'],5)\n",
    "homog_reg(tab3['1to10'],5)\n",
    "homog_reg(tab3['1to20'],5)\n",
    "print('5')\n",
    "homog_reg(tab3['5to5'],5)\n",
    "homog_reg(tab3['5to10'],5)\n",
    "homog_reg(tab3['5to20'],5)\n",
    "print('10')\n",
    "homog_reg(tab3['10to5'],5)\n",
    "homog_reg(tab3['10to10'],5)\n",
    "homog_reg(tab3['10to20'],5)"
   ]
  },
  {
   "cell_type": "code",
   "execution_count": 33,
   "metadata": {
    "collapsed": false,
    "scrolled": true
   },
   "outputs": [
    {
     "name": "stdout",
     "output_type": "stream",
     "text": [
      "Q :  161.5  - dg de lbte :  8\n",
      "p-valeur du test sur le  4 -ième intervalle :  0.0\n",
      "Q :  144.0  - dg de lbte :  8\n",
      "p-valeur du test sur le  4 -ième intervalle :  0.0\n",
      "Q :  0  - dg de lbte :  -3\n",
      "p-valeur du test sur le  4 -ième intervalle :  nan\n",
      "Q :  nan  - dg de lbte :  8\n",
      "p-valeur du test sur le  4 -ième intervalle :  nan\n",
      "Q :  nan  - dg de lbte :  8\n",
      "p-valeur du test sur le  4 -ième intervalle :  nan\n",
      "Q :  0  - dg de lbte :  -2\n",
      "p-valeur du test sur le  4 -ième intervalle :  nan\n",
      "Q :  0  - dg de lbte :  -3\n",
      "p-valeur du test sur le  4 -ième intervalle :  nan\n",
      "Q :  0  - dg de lbte :  -3\n",
      "p-valeur du test sur le  4 -ième intervalle :  nan\n",
      "Q :  0  - dg de lbte :  -3\n",
      "p-valeur du test sur le  4 -ième intervalle :  nan\n",
      "Q :  0  - dg de lbte :  -2\n",
      "p-valeur du test sur le  4 -ième intervalle :  nan\n",
      "Q :  0  - dg de lbte :  -3\n",
      "p-valeur du test sur le  4 -ième intervalle :  nan\n",
      "Q :  0  - dg de lbte :  -3\n",
      "p-valeur du test sur le  4 -ième intervalle :  nan\n",
      "Q :  0  - dg de lbte :  -2\n",
      "p-valeur du test sur le  4 -ième intervalle :  nan\n",
      "Q :  0  - dg de lbte :  -2\n",
      "p-valeur du test sur le  4 -ième intervalle :  nan\n",
      "Q :  0  - dg de lbte :  -3\n",
      "p-valeur du test sur le  4 -ième intervalle :  nan\n",
      "Q :  0  - dg de lbte :  -3\n",
      "p-valeur du test sur le  4 -ième intervalle :  nan\n",
      "Q :  0  - dg de lbte :  -2\n",
      "p-valeur du test sur le  4 -ième intervalle :  nan\n",
      "Q :  0  - dg de lbte :  -3\n",
      "p-valeur du test sur le  4 -ième intervalle :  nan\n",
      "Q :  0  - dg de lbte :  -2\n",
      "p-valeur du test sur le  4 -ième intervalle :  nan\n",
      "Q :  0  - dg de lbte :  0\n",
      "p-valeur du test sur le  4 -ième intervalle :  nan\n",
      "0  intervalles de temps sur  5  sont homogènes\n"
     ]
    },
    {
     "data": {
      "text/plain": [
       "0.0"
      ]
     },
     "execution_count": 33,
     "metadata": {},
     "output_type": "execute_result"
    }
   ],
   "source": [
    "homog_int(tab3['1to5'],20)"
   ]
  },
  {
   "cell_type": "markdown",
   "metadata": {
    "collapsed": true
   },
   "source": [
    "# Output"
   ]
  },
  {
   "cell_type": "code",
   "execution_count": 65,
   "metadata": {
    "collapsed": false,
    "scrolled": true
   },
   "outputs": [],
   "source": [
    "#print(table)\n",
    "table['Date'] = pd.to_datetime(table['Date'],dayfirst=True)\n",
    "\n",
    "\n",
    "#resultat= np.zeros((51,9))\n",
    "swaptions = output_2.columns[2:]"
   ]
  },
  {
   "cell_type": "code",
   "execution_count": 66,
   "metadata": {
    "collapsed": false
   },
   "outputs": [],
   "source": [
    "#Calcule la moyenne des matrices de transition sur les 1000 itérations\n",
    "\n",
    "def mat_output(output,elem,freq):\n",
    "    matrice_freq = np.zeros((freq,freq))\n",
    "    for i in range(1,1000):\n",
    "        sous_table = output[output.Trial.values==i][elem]\n",
    "        sous_table.index = range(sous_table.shape[0])\n",
    "        matrice_freq += matrice(sous_table,freq)\n",
    "\n",
    "    return matrice_freq/1000"
   ]
  },
  {
   "cell_type": "code",
   "execution_count": 71,
   "metadata": {
    "collapsed": false
   },
   "outputs": [],
   "source": [
    "def egales(table_in, table_out, elem, freq=5):\n",
    "    MT1 = matrice(table_in[elem], freq)\n",
    "    MT2 = mat_output(table_out, elem, freq)\n",
    "    table_mean = table_out.groupby(table_out.Trial).mean()\n",
    "    table_mean.index = range(table_mean.shape[0])\n",
    "    Q, dg_lbt = stat_tmp(table_in[elem],MT1,table_mean[elem],MT2,freq)\n",
    "    dg_lib = 0\n",
    "    for i in range(0, MT1.shape[0]-1):\n",
    "        dg_lib += (len(B(MT1,i))-1)\n",
    "    print(dg_lib,dg_lbt)\n",
    "    return Q, 1-stats.chi2.cdf(Q,dg_lbt)\n"
   ]
  },
  {
   "cell_type": "code",
   "execution_count": 82,
   "metadata": {
    "collapsed": false
   },
   "outputs": [
    {
     "name": "stdout",
     "output_type": "stream",
     "text": [
      "7 13\n",
      "1to5 (858.87019232835894, 0.0)\n",
      "7 13\n",
      "1to10 (791.96667885981014, 0.0)\n",
      "7 13\n",
      "1to20 (610.87639310908446, 0.0)\n",
      "7 13\n",
      "5to5 (1208.8176163050896, 0.0)\n",
      "7 13\n",
      "5to10 (747.94538170748513, 0.0)\n",
      "8 14\n",
      "5to20 (903.87058418048525, 0.0)\n",
      "9 15\n",
      "10to5 (706.68832149527316, 0.0)\n",
      "7 13\n",
      "10to10 (907.37776034486092, 0.0)\n",
      "7 13\n",
      "10to20 (930.20531851609474, 0.0)\n"
     ]
    }
   ],
   "source": [
    "#Sur toute la durée\n",
    "\n",
    "for elem in table.columns[1:]:\n",
    "    print(elem,egales(table,output_2,elem))"
   ]
  },
  {
   "cell_type": "code",
   "execution_count": null,
   "metadata": {
    "collapsed": true
   },
   "outputs": [],
   "source": []
  }
 ],
 "metadata": {
  "kernelspec": {
   "display_name": "Python 3",
   "language": "python",
   "name": "python3"
  },
  "language_info": {
   "codemirror_mode": {
    "name": "ipython",
    "version": 3
   },
   "file_extension": ".py",
   "mimetype": "text/x-python",
   "name": "python",
   "nbconvert_exporter": "python",
   "pygments_lexer": "ipython3",
   "version": "3.4.4"
  }
 },
 "nbformat": 4,
 "nbformat_minor": 0
}
