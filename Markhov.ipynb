{
 "cells": [
  {
   "cell_type": "markdown",
   "metadata": {},
   "source": [
    "# Chaines de Markhov"
   ]
  },
  {
   "cell_type": "code",
   "execution_count": 1,
   "metadata": {
    "collapsed": false
   },
   "outputs": [
    {
     "name": "stdout",
     "output_type": "stream",
     "text": [
      "11.2\n"
     ]
    }
   ],
   "source": [
    "%matplotlib inline\n",
    "import matplotlib.pyplot as plt\n",
    "import pandas as pd\n",
    "import scipy\n",
    "import numpy as np\n",
    "from scipy import stats\n",
    "import pysal\n",
    "\n",
    "\n",
    "table = pd.read_csv('Databases/swaphist.csv', delimiter = \";\")\n",
    "table['Date'] = pd.to_datetime(table['Date'],dayfirst=True)\n",
    "#table = scipy.delete(table,table.shape[0]-1,0)\n",
    "print(min(table['1to5']))\n",
    "np.array(table['1to5'].quantile([k/5 for k in range(0, 5)]))\n",
    "output_3 = pd.read_csv('Databases/normal_implied_vol_300714.csv', delimiter = \";\")\n",
    "output_2 = pd.read_csv('Databases/normal_implied_vol_010807.csv', delimiter = \";\")\n",
    "#print(output_2)"
   ]
  },
  {
   "cell_type": "markdown",
   "metadata": {},
   "source": [
    "# Définition des fonctions"
   ]
  },
  {
   "cell_type": "markdown",
   "metadata": {},
   "source": [
    "### Calcul de la matrice de transition"
   ]
  },
  {
   "cell_type": "code",
   "execution_count": 2,
   "metadata": {
    "collapsed": false
   },
   "outputs": [],
   "source": [
    "#Calcule la place de l'élément dans un des n groupes\n",
    "'''def place(elem,table,freq):\n",
    "    xmin = min(table)\n",
    "    xmax = max(table)\n",
    "    delta = (xmax-xmin)/freq\n",
    "    if table[elem]==xmax : freq-1\n",
    "    else : return int((table[elem]-xmin)/delta)\n",
    "    #return min(int((table[elem]-xmin)/delta),freq-1)'''\n",
    "\n",
    "def place(elem, table, freq, quantiles):\n",
    "    k = 0\n",
    "    while k<freq and table[elem]>=quantiles[k]:\n",
    "        k += 1\n",
    "    return k-1\n",
    "\n",
    "def placement(table, freq):\n",
    "    quantiles = np.array(table.quantile([k/freq for k in range(0, freq)]))\n",
    "    liste = []\n",
    "    for elem in table :\n",
    "        k=1\n",
    "        while k<freq and elem>=quantiles[k]:\n",
    "            k += 1\n",
    "        liste.append(k-1)\n",
    "    return np.array(liste)\n",
    "\n",
    "#Calcule la matrice de passage (fréquence de passage d'un groupe à l'autre)\n",
    "def matrice(table, freq):\n",
    "    trans = np.zeros((freq,freq))\n",
    "    n = table.size\n",
    "    places = placement(table, freq)\n",
    "    for i in range(0,n-1):\n",
    "        trans[places[i],places[i+1]] += 1\n",
    "    for i in range(0,freq):\n",
    "        sum_ligne = np.sum(trans[i])\n",
    "        trans[i] = trans[i]/sum_ligne\n",
    "    return trans\n",
    "\n",
    "\n",
    "\n",
    "#La matrice de transition est-elle bien stochastique ?\n",
    "'''test = matrice(table['1to5'],20)\n",
    "print(test)\n",
    "for i in range(0,test.shape[0]):\n",
    "    #print(sum(test[i]))\n",
    "    if(sum(test[i])!=1.0): print(sum(test[i]))\n",
    "'''\n",
    "\n",
    "colors = ['RED','GREEN','BLUE','BLACK','ORANGE','PINK','BROWN','YELLOW','CYAN']\n",
    "#fig, ax = plt.subplots()\n",
    "#ax.plot_date(table['Date'], table['1to5'],'-',color='BLACK')\n",
    "#ax.plot_date(table['Date'],20,'-',color='RED')\n",
    "#fig.autofmt_xdate()"
   ]
  },
  {
   "cell_type": "markdown",
   "metadata": {},
   "source": [
    "Les matrices de transitions ne sont pas stochastiques car certains intervalles de valeurs ne sont jamais visités : typiquement, les valeurs élevés atteintes durant le pic de 2008-2013. Les variations sont très importantes lors de cette période et les volatilités font des sauts importants d'une semaine à l'autre.\n",
    "\n",
    "Il faudra prendre cela en compte lorsque l'on conduira les tests. En effet, les tests doivent être effectués sur des matrices stochastiques. On supprimera donc les colonnes et lignes vides."
   ]
  },
  {
   "cell_type": "markdown",
   "metadata": {},
   "source": [
    "### Fonctions auxiliaires pour le calcul des statistiques de test"
   ]
  },
  {
   "cell_type": "code",
   "execution_count": 3,
   "metadata": {
    "collapsed": false
   },
   "outputs": [],
   "source": [
    "#Une fonction pour supprimer les colonnes et lignes qui ne contiennent que des zeros\n",
    "def zero(mat):\n",
    "    liste = []\n",
    "    for i in range(0,mat.shape[0]-1):\n",
    "        if(sum(mat[i])==0): liste.append(i)\n",
    "    mat = scipy.delete(mat,liste,0)\n",
    "    liste = []\n",
    "    for i in range(0,mat.shape[1]-1): \n",
    "        if(sum(mat[:,i])==0): liste.append(i)\n",
    "    mat = scipy.delete(mat,liste,1)\n",
    "    return mat"
   ]
  },
  {
   "cell_type": "code",
   "execution_count": 4,
   "metadata": {
    "collapsed": false
   },
   "outputs": [],
   "source": [
    "def A(table,i,freq,T):\n",
    "    a=0\n",
    "    delta = table.size/T\n",
    "    tmp=0\n",
    "    for t in range(0,T):\n",
    "        sous_table = table[int(t*delta): int((t+1)*delta)]\n",
    "        sous_table.index = range(sous_table.shape[0])\n",
    "        #tmp =+ n(sous_table,i,freq)\n",
    "        if n(sous_table,i,freq)!=0 : a+=1\n",
    "    return a\n",
    "\n",
    "def B(MT,i):\n",
    "    B = []\n",
    "    for j in range(0,MT.shape[1]):\n",
    "        if MT[i,j]!=0 : B.append(j)\n",
    "    return B\n",
    "\n",
    "#elements de table appartenant à la i-ème classe\n",
    "def n(sous_table,i,freq):\n",
    "    tot = 0\n",
    "    quantiles = np.array(sous_table.quantile([k/freq for k in range(0, freq)]))\n",
    "    for elem in range(0,sous_table.size) :\n",
    "        if place(elem,sous_table,freq,quantiles)==i : tot += 1\n",
    "    return tot\n",
    "\n",
    "def d(table,i,T,freq):\n",
    "    delta = table.size/freq\n",
    "    di = []\n",
    "    for t in range(0,T):\n",
    "        sous_table = table[int(t*delta): int((t+1)*delta)]\n",
    "        sous_table.index = range(sous_table.shape[0])\n",
    "        if n(sous_table,i,T)>0 : di.append(t)\n",
    "    return di\n",
    "\n",
    "def stat(table, MT, sous_table, sous_MT, T):\n",
    "    dg_lbt = 0\n",
    "    tmp = 0\n",
    "    for i in range(0,MT.shape[0]):\n",
    "        #print(\"i : \",i)\n",
    "        ni = n(sous_table,i, T)\n",
    "        if ni>0 :\n",
    "            Bi = B(MT,i)\n",
    "            for j in Bi:\n",
    "                tmp += ni*(sous_MT[i,j]-MT[i,j])**2/MT[i,j]\n",
    "                #if MT[i,j]!=0 : stat += ni*(sous_MT[i,j]-MT[i,j])**2/MT[i,j]\n",
    "    return tmp"
   ]
  },
  {
   "cell_type": "code",
   "execution_count": 5,
   "metadata": {
    "collapsed": true
   },
   "outputs": [],
   "source": [
    "#Les matrices de transition de la table est-elle homogène ?\n",
    "def homog(table, freq=50, T=5):\n",
    "    for i,elem in enumerate(table):\n",
    "        if i>0:\n",
    "            Q,p = homog_temp(table[elem].values,freq,T)\n",
    "            m1 = homog_int(table[elem].values,freq,T)\n",
    "            m2 = homog_reg(table[elem].values,freq,T)\n",
    "            print(\"p-valeur : \",p, \" - résultat du test par intervalles : \",m1,\" - résultat du test par régions : \",m2)\n",
    "            rep = p>0.05 and m1>0.5 and m2>0.5\n",
    "            if rep : print(\"La série de valeur pour le swaption \",elem,\" est homogène\")\n",
    "            else : print(\"La série de valeur pour le swaption \",elem,\" n'est pas homogène\")\n",
    "    return 0"
   ]
  },
  {
   "cell_type": "markdown",
   "metadata": {},
   "source": [
    "## Les matrices de transition sont elles bien homogènes ?"
   ]
  },
  {
   "cell_type": "markdown",
   "metadata": {},
   "source": [
    "Pour que la matrice de transition calculée à partir des fréquences de transition ait un sens, il fait s'assurer qu'elle est bien homogène en temps. On va donc mener plusieurs test pour vérifier cette hypothèse lourde."
   ]
  },
  {
   "cell_type": "markdown",
   "metadata": {},
   "source": [
    "### Test d'homogénéité des intervalles par rapport à la matrice de transition globale"
   ]
  },
  {
   "cell_type": "markdown",
   "metadata": {},
   "source": [
    "On subdivise notre série de valeurs en un nombre $T$ d'intervalles. On vérifie que, si on calcule la matrice de transition sur chacun des intervalles, on retrouve bien la matrice de transition calculée sur toutes les valeurs de la série par un test du khi-2.\n",
    "\n",
    "\n",
    "Notre hypothèse nulle est donc : $H_0 = \\{\\forall t, \\le T, \\forall i,j, p_{i,j} (t) = p_{i,j}\\}$"
   ]
  },
  {
   "cell_type": "code",
   "execution_count": 6,
   "metadata": {
    "collapsed": false
   },
   "outputs": [],
   "source": [
    "def homog_temp(table, freq, T=5):\n",
    "    N = table.size\n",
    "    Q = 0\n",
    "    delta = N/T\n",
    "    MT = matrice(table, freq)\n",
    "    for t in range(0,T):\n",
    "        sous_table = table[int(t*delta): int((t+1)*delta)]\n",
    "        sous_table.index = range(sous_table.shape[0])\n",
    "        sous_MT = matrice(sous_table, freq)\n",
    "        Q += stat(table,MT,sous_table,sous_MT,T)\n",
    "    \n",
    "    dg_lib = 0\n",
    "    for i in range(0, MT.shape[0]):\n",
    "        ai = A(table,i,freq,T)\n",
    "        if ai>0 : dg_lib += (len(B(MT,i))-1)*(ai-1)\n",
    "    print(\"Degrés de liberté : \",dg_lib)\n",
    "    return Q, 1-stats.chi2.cdf(Q,dg_lib)"
   ]
  },
  {
   "cell_type": "markdown",
   "metadata": {},
   "source": [
    "### Test d'homogénéité par intervalle"
   ]
  },
  {
   "cell_type": "markdown",
   "metadata": {
    "collapsed": false
   },
   "source": [
    "On subdivise notre série de valeurs en un nombre $T$ d'intervalles. On va effectuer $T$ tests pour vérifier si chacune des $T$ matrices de transitions sont bien les mêmes que la matrice de transition globale.\n",
    "\n",
    "\n",
    "Notre hypothèse nulle est donc, pour chacun des intervalles $ 0\\le t <T$ : $H_0^t = \\{\\forall i,j, p_{i,j} (t) = p_{i,j}\\}$"
   ]
  },
  {
   "cell_type": "code",
   "execution_count": 7,
   "metadata": {
    "collapsed": false
   },
   "outputs": [],
   "source": [
    "def homog_int(table, freq, T=5):\n",
    "    N = table.size\n",
    "    Q = 0\n",
    "    delta = N/T\n",
    "    moy = 0\n",
    "    MT = matrice(table, freq)\n",
    "    for i in range(0,freq):\n",
    "        Q = 0\n",
    "        Di = d(table,i,T,freq)\n",
    "        Bi = B(MT,i)\n",
    "        for t in Di:\n",
    "            ni = n(table,i,T)\n",
    "            sous_table = table[int(t*delta): int((t+1)*delta)]\n",
    "            sous_table.index = range(sous_table.shape[0])\n",
    "            sous_MT = matrice(sous_table,freq)\n",
    "            for j in Bi:\n",
    "                Q += ni*(MT[i,j]-sous_MT[i,j])**2/MT[i,j]\n",
    "        dg_lib = (len(Di)-1)*(len(Bi)-1)\n",
    "        p = 1-stats.chi2.cdf(Q,dg_lib)\n",
    "\n",
    "        print(\"Q : \",Q, \" - dg de lbte : \",dg_lib)\n",
    "        print(\"p-valeur du test sur le \",t,\"-ième intervalle : \",p)\n",
    "        if p>0.05 : moy += 1\n",
    "    \n",
    "    print(moy,\" intervalles de temps sur \",T,\" sont homogènes\")    \n",
    "    return moy/T\n",
    "\n",
    "\n",
    "    ''' for i in range(0,T):\n",
    "        sous_table = table[int(t*delta): int((t+1)*delta)]\n",
    "        sous_table.index = range(sous_table.shape[0])\n",
    "        sous_MT = matrice(sous_table, freq)\n",
    "        Q = stat(table,MT,sous_table,sous_MT,freq)\n",
    "        dg_lib = (len(B(MT,i))-1)*n(table,i,freq)\n",
    "        #for i in range(0, MT.shape[0]-1):\n",
    "            #print(B(MT,i),A(table,i,freq,T))\n",
    "            #dg_lib += (len(B(MT,i))-1)*(A(table,i,freq,T)-1)\n",
    "        p = 1-stats.chi2.cdf(Q,dg_lib)'''"
   ]
  },
  {
   "cell_type": "markdown",
   "metadata": {},
   "source": [
    "### Test région contre région"
   ]
  },
  {
   "cell_type": "markdown",
   "metadata": {},
   "source": [
    "On subdivise toujours notre série de valeurs en un nombre $T$ d'intervalles. Pour finir, on vérifie si les matrices de transitions de deux périodes sont identiques.\n",
    "\n",
    "Notre hypothèse nulle est donc, pour chacun des intervalles $ 0\\le t,u <T$ : $H_0^{t,u} = \\{\\forall i,j, p_{i,j}^t (t) = p_{i,j}^u\\}$"
   ]
  },
  {
   "cell_type": "code",
   "execution_count": 8,
   "metadata": {
    "collapsed": false
   },
   "outputs": [
    {
     "ename": "SyntaxError",
     "evalue": "invalid syntax (<ipython-input-8-19b0758eb3bf>, line 16)",
     "output_type": "error",
     "traceback": [
      "\u001b[0;36m  File \u001b[0;32m\"<ipython-input-8-19b0758eb3bf>\"\u001b[0;36m, line \u001b[0;32m16\u001b[0m\n\u001b[0;31m    dg_lib =\u001b[0m\n\u001b[0m             ^\u001b[0m\n\u001b[0;31mSyntaxError\u001b[0m\u001b[0;31m:\u001b[0m invalid syntax\n"
     ]
    }
   ],
   "source": [
    "def homog_reg(table, freq, T=5):\n",
    "    N = table.size\n",
    "    Q = 0\n",
    "    delta = N/T\n",
    "    moy = 0\n",
    "    t,u = 0,0\n",
    "    for t in range(0,T):\n",
    "        for u in range(t+1,T):\n",
    "            sous_table1 = table[int(t*delta): int((t+1)*delta)]\n",
    "            sous_table2 = table[int(u*delta): int((u+1)*delta)]\n",
    "            sous_table1.index = range(int((t+1)*delta)-int(t*delta))\n",
    "            sous_table2.index = range(int((u+1)*delta)-int(u*delta))\n",
    "            sous_MT1 = matrice(sous_table1, freq)\n",
    "            sous_MT2 = matrice(sous_table2, freq)\n",
    "            Q = stat(sous_table1,sous_MT1,sous_table2,sous_MT2,T)\n",
    "            dg_lib = (len(Di)-1)*(len(Bi)-1)\n",
    "            MT = matrice(sous_table1, freq)\n",
    "            #for i in range(0, MT.shape[0]-1):\n",
    "                #dg_lib += max((len(B(MT,i))-1)*(A(table,i,freq,T)-1),0)\n",
    "            p = 1-stats.chi2.cdf(Q,dg_lib)\n",
    "            print(\"Q : \",Q,\" - dg lib : \",dg_lib)\n",
    "            print(\"p-valeur du test entre le \",t+1,\"-ième et le \",u+1,\"-ième intervalle : \",p)\n",
    "            if p>0.05 : moy += 1\n",
    "    \n",
    "    print(moy,\" paires d'intervalles de temps sur \",T,\" intervalles sont homogènes\")    \n",
    "    return 2*moy/(T*(T-1))"
   ]
  },
  {
   "cell_type": "markdown",
   "metadata": {
    "collapsed": true
   },
   "source": [
    "## Deux matrices de transition sont-elles égales ?"
   ]
  },
  {
   "cell_type": "markdown",
   "metadata": {},
   "source": [
    "Maintenant, on peut tester si deux matrices de transition sont égales. On appliquera la statistique de test précédement définie aux deux matrices.\n",
    "\n",
    "Notre hypothèse nulle est donc, si on note $(p_{i,j}^0)$ et $(p_{i,j}^1)$ les coefficents de chacune des deux matrices de transition : $H_0 = \\{\\forall i,j, p_{i,j}^0 = p_{i,j}^1\\}$"
   ]
  },
  {
   "cell_type": "markdown",
   "metadata": {},
   "source": [
    "# Tests sur toute la période 2001-2016"
   ]
  },
  {
   "cell_type": "markdown",
   "metadata": {},
   "source": [
    "## Homogénéité"
   ]
  },
  {
   "cell_type": "code",
   "execution_count": 10,
   "metadata": {
    "collapsed": false
   },
   "outputs": [
    {
     "name": "stdout",
     "output_type": "stream",
     "text": [
      "Degrés de liberté :  420\n"
     ]
    },
    {
     "data": {
      "text/plain": [
       "(992.65539335059418, 0.0)"
      ]
     },
     "execution_count": 10,
     "metadata": {},
     "output_type": "execute_result"
    }
   ],
   "source": [
    "homog_temp(table['10to5'],25)"
   ]
  },
  {
   "cell_type": "code",
   "execution_count": 13,
   "metadata": {
    "collapsed": false,
    "scrolled": true
   },
   "outputs": [
    {
     "name": "stdout",
     "output_type": "stream",
     "text": [
      "Q :  96.0068000638  - dg de lbte :  4\n",
      "p-valeur du test sur le  4 -ième intervalle :  0.0\n",
      "Q :  1349.88695652  - dg de lbte :  16\n",
      "p-valeur du test sur le  4 -ième intervalle :  0.0\n",
      "Q :  502.620039683  - dg de lbte :  12\n",
      "p-valeur du test sur le  4 -ième intervalle :  0.0\n",
      "Q :  243.60831608  - dg de lbte :  8\n",
      "p-valeur du test sur le  4 -ième intervalle :  0.0\n",
      "Q :  438.424789359  - dg de lbte :  16\n",
      "p-valeur du test sur le  4 -ième intervalle :  0.0\n",
      "Q :  0  - dg de lbte :  -4\n",
      "p-valeur du test sur le  4 -ième intervalle :  nan\n",
      "Q :  0  - dg de lbte :  -4\n",
      "p-valeur du test sur le  4 -ième intervalle :  nan\n",
      "Q :  0  - dg de lbte :  -3\n",
      "p-valeur du test sur le  4 -ième intervalle :  nan\n",
      "Q :  0  - dg de lbte :  -2\n",
      "p-valeur du test sur le  4 -ième intervalle :  nan\n",
      "Q :  0  - dg de lbte :  -4\n",
      "p-valeur du test sur le  4 -ième intervalle :  nan\n",
      "Q :  0  - dg de lbte :  -2\n",
      "p-valeur du test sur le  4 -ième intervalle :  nan\n",
      "Q :  0  - dg de lbte :  -4\n",
      "p-valeur du test sur le  4 -ième intervalle :  nan\n",
      "Q :  0  - dg de lbte :  -3\n",
      "p-valeur du test sur le  4 -ième intervalle :  nan\n",
      "Q :  0  - dg de lbte :  -2\n",
      "p-valeur du test sur le  4 -ième intervalle :  nan\n",
      "Q :  0  - dg de lbte :  -3\n",
      "p-valeur du test sur le  4 -ième intervalle :  nan\n",
      "Q :  0  - dg de lbte :  -3\n",
      "p-valeur du test sur le  4 -ième intervalle :  nan\n",
      "Q :  0  - dg de lbte :  -4\n",
      "p-valeur du test sur le  4 -ième intervalle :  nan\n",
      "Q :  0  - dg de lbte :  -3\n",
      "p-valeur du test sur le  4 -ième intervalle :  nan\n",
      "Q :  0  - dg de lbte :  -3\n",
      "p-valeur du test sur le  4 -ième intervalle :  nan\n",
      "Q :  0  - dg de lbte :  -1\n",
      "p-valeur du test sur le  4 -ième intervalle :  nan\n",
      "0  intervalles de temps sur  5  sont homogènes\n"
     ]
    },
    {
     "data": {
      "text/plain": [
       "0.0"
      ]
     },
     "execution_count": 13,
     "metadata": {},
     "output_type": "execute_result"
    }
   ],
   "source": [
    "homog_int(table['1to5'],20,T=5)"
   ]
  },
  {
   "cell_type": "code",
   "execution_count": 12,
   "metadata": {
    "collapsed": false
   },
   "outputs": [
    {
     "ename": "NameError",
     "evalue": "name 'homog_reg' is not defined",
     "output_type": "error",
     "traceback": [
      "\u001b[0;31m---------------------------------------------------------------------------\u001b[0m",
      "\u001b[0;31mNameError\u001b[0m                                 Traceback (most recent call last)",
      "\u001b[0;32m<ipython-input-12-3f7f7cf3c4d8>\u001b[0m in \u001b[0;36m<module>\u001b[0;34m()\u001b[0m\n\u001b[0;32m----> 1\u001b[0;31m \u001b[0mhomog_reg\u001b[0m\u001b[0;34m(\u001b[0m\u001b[0mtable\u001b[0m\u001b[0;34m[\u001b[0m\u001b[0;34m'1to5'\u001b[0m\u001b[0;34m]\u001b[0m\u001b[0;34m,\u001b[0m\u001b[0;36m20\u001b[0m\u001b[0;34m)\u001b[0m\u001b[0;34m\u001b[0m\u001b[0m\n\u001b[0m",
      "\u001b[0;31mNameError\u001b[0m: name 'homog_reg' is not defined"
     ]
    }
   ],
   "source": [
    "homog_reg(table['1to5'],20)"
   ]
  },
  {
   "cell_type": "markdown",
   "metadata": {},
   "source": [
    "Comme on pouvait s'y attendre, les matrices de transition sur la période 2001-2016 ne sont homogène dans le temps pour aucun des swaptions. Nous allons donc restreindre notre études à de plus petits intervalles."
   ]
  },
  {
   "cell_type": "markdown",
   "metadata": {},
   "source": [
    "# Test sur la période 2001-2008"
   ]
  },
  {
   "cell_type": "code",
   "execution_count": 14,
   "metadata": {
    "collapsed": false
   },
   "outputs": [],
   "source": [
    "tab1 = table[0:292]"
   ]
  },
  {
   "cell_type": "code",
   "execution_count": 15,
   "metadata": {
    "collapsed": false,
    "scrolled": false
   },
   "outputs": [
    {
     "ename": "NameError",
     "evalue": "name 'homog_reg' is not defined",
     "output_type": "error",
     "traceback": [
      "\u001b[0;31m---------------------------------------------------------------------------\u001b[0m",
      "\u001b[0;31mNameError\u001b[0m                                 Traceback (most recent call last)",
      "\u001b[0;32m<ipython-input-15-a4d902653474>\u001b[0m in \u001b[0;36m<module>\u001b[0;34m()\u001b[0m\n\u001b[0;32m----> 1\u001b[0;31m \u001b[0mhomog_reg\u001b[0m\u001b[0;34m(\u001b[0m\u001b[0mtab1\u001b[0m\u001b[0;34m[\u001b[0m\u001b[0;34m'1to5'\u001b[0m\u001b[0;34m]\u001b[0m\u001b[0;34m,\u001b[0m\u001b[0;36m10\u001b[0m\u001b[0;34m)\u001b[0m\u001b[0;34m\u001b[0m\u001b[0m\n\u001b[0m",
      "\u001b[0;31mNameError\u001b[0m: name 'homog_reg' is not defined"
     ]
    }
   ],
   "source": [
    "homog_reg(tab1['1to5'],10)"
   ]
  },
  {
   "cell_type": "code",
   "execution_count": 16,
   "metadata": {
    "collapsed": false,
    "scrolled": true
   },
   "outputs": [
    {
     "name": "stdout",
     "output_type": "stream",
     "text": [
      "Q :  752.388888889  - dg de lbte :  12\n",
      "p-valeur du test sur le  4 -ième intervalle :  0.0\n",
      "Q :  nan  - dg de lbte :  12\n",
      "p-valeur du test sur le  4 -ième intervalle :  nan\n",
      "Q :  366.85  - dg de lbte :  20\n",
      "p-valeur du test sur le  4 -ième intervalle :  0.0\n",
      "Q :  nan  - dg de lbte :  12\n",
      "p-valeur du test sur le  4 -ième intervalle :  nan\n",
      "Q :  280.625  - dg de lbte :  8\n",
      "p-valeur du test sur le  4 -ième intervalle :  0.0\n",
      "Q :  0  - dg de lbte :  -4\n",
      "p-valeur du test sur le  4 -ième intervalle :  nan\n",
      "Q :  0  - dg de lbte :  -2\n",
      "p-valeur du test sur le  4 -ième intervalle :  nan\n",
      "Q :  0  - dg de lbte :  -3\n",
      "p-valeur du test sur le  4 -ième intervalle :  nan\n",
      "Q :  0  - dg de lbte :  -4\n",
      "p-valeur du test sur le  4 -ième intervalle :  nan\n",
      "Q :  0  - dg de lbte :  -4\n",
      "p-valeur du test sur le  4 -ième intervalle :  nan\n",
      "Q :  0  - dg de lbte :  -3\n",
      "p-valeur du test sur le  4 -ième intervalle :  nan\n",
      "Q :  0  - dg de lbte :  -3\n",
      "p-valeur du test sur le  4 -ième intervalle :  nan\n",
      "Q :  0  - dg de lbte :  -5\n",
      "p-valeur du test sur le  4 -ième intervalle :  nan\n",
      "Q :  0  - dg de lbte :  -7\n",
      "p-valeur du test sur le  4 -ième intervalle :  nan\n",
      "Q :  0  - dg de lbte :  -4\n",
      "p-valeur du test sur le  4 -ième intervalle :  nan\n",
      "Q :  0  - dg de lbte :  -5\n",
      "p-valeur du test sur le  4 -ième intervalle :  nan\n",
      "Q :  0  - dg de lbte :  -5\n",
      "p-valeur du test sur le  4 -ième intervalle :  nan\n",
      "Q :  0  - dg de lbte :  -5\n",
      "p-valeur du test sur le  4 -ième intervalle :  nan\n",
      "Q :  0  - dg de lbte :  -4\n",
      "p-valeur du test sur le  4 -ième intervalle :  nan\n",
      "Q :  0  - dg de lbte :  -3\n",
      "p-valeur du test sur le  4 -ième intervalle :  nan\n",
      "0  intervalles de temps sur  5  sont homogènes\n"
     ]
    },
    {
     "data": {
      "text/plain": [
       "0.0"
      ]
     },
     "execution_count": 16,
     "metadata": {},
     "output_type": "execute_result"
    }
   ],
   "source": [
    "homog_int(tab1['1to5'],20)"
   ]
  },
  {
   "cell_type": "code",
   "execution_count": 17,
   "metadata": {
    "collapsed": false
   },
   "outputs": [
    {
     "name": "stdout",
     "output_type": "stream",
     "text": [
      "Degrés de liberté :  112\n"
     ]
    },
    {
     "data": {
      "text/plain": [
       "(274.7375787319217, 1.1102230246251565e-15)"
      ]
     },
     "execution_count": 17,
     "metadata": {},
     "output_type": "execute_result"
    }
   ],
   "source": [
    "homog_temp(tab1['1to5'],10,T=5)"
   ]
  },
  {
   "cell_type": "markdown",
   "metadata": {
    "collapsed": true
   },
   "source": [
    "## Test sur la période 2008-2014"
   ]
  },
  {
   "cell_type": "code",
   "execution_count": 18,
   "metadata": {
    "collapsed": false
   },
   "outputs": [],
   "source": [
    "tab2 = table[292:658]\n",
    "tab2.index = range(tab2.shape[0])"
   ]
  },
  {
   "cell_type": "code",
   "execution_count": 19,
   "metadata": {
    "collapsed": false,
    "scrolled": false
   },
   "outputs": [
    {
     "ename": "NameError",
     "evalue": "name 'homog_reg' is not defined",
     "output_type": "error",
     "traceback": [
      "\u001b[0;31m---------------------------------------------------------------------------\u001b[0m",
      "\u001b[0;31mNameError\u001b[0m                                 Traceback (most recent call last)",
      "\u001b[0;32m<ipython-input-19-7b33de40d34d>\u001b[0m in \u001b[0;36m<module>\u001b[0;34m()\u001b[0m\n\u001b[0;32m----> 1\u001b[0;31m \u001b[0mhomog_reg\u001b[0m\u001b[0;34m(\u001b[0m\u001b[0mtab2\u001b[0m\u001b[0;34m[\u001b[0m\u001b[0;34m'1to5'\u001b[0m\u001b[0;34m]\u001b[0m\u001b[0;34m,\u001b[0m\u001b[0;36m20\u001b[0m\u001b[0;34m)\u001b[0m\u001b[0;34m\u001b[0m\u001b[0m\n\u001b[0m",
      "\u001b[0;31mNameError\u001b[0m: name 'homog_reg' is not defined"
     ]
    }
   ],
   "source": [
    "homog_reg(tab2['1to5'],20)"
   ]
  },
  {
   "cell_type": "code",
   "execution_count": 20,
   "metadata": {
    "collapsed": false,
    "scrolled": true
   },
   "outputs": [
    {
     "name": "stdout",
     "output_type": "stream",
     "text": [
      "Q :  204.4  - dg de lbte :  4\n",
      "p-valeur du test sur le  4 -ième intervalle :  0.0\n",
      "Q :  542.068452381  - dg de lbte :  8\n",
      "p-valeur du test sur le  4 -ième intervalle :  0.0\n",
      "Q :  457.714506173  - dg de lbte :  8\n",
      "p-valeur du test sur le  4 -ième intervalle :  0.0\n",
      "Q :  219.957111111  - dg de lbte :  16\n",
      "p-valeur du test sur le  4 -ième intervalle :  0.0\n",
      "Q :  907.527777778  - dg de lbte :  16\n",
      "p-valeur du test sur le  4 -ième intervalle :  0.0\n",
      "Q :  0  - dg de lbte :  -4\n",
      "p-valeur du test sur le  4 -ième intervalle :  nan\n",
      "Q :  0  - dg de lbte :  -5\n",
      "p-valeur du test sur le  4 -ième intervalle :  nan\n",
      "Q :  0  - dg de lbte :  -5\n",
      "p-valeur du test sur le  4 -ième intervalle :  nan\n",
      "Q :  0  - dg de lbte :  -4\n",
      "p-valeur du test sur le  4 -ième intervalle :  nan\n",
      "Q :  0  - dg de lbte :  -3\n",
      "p-valeur du test sur le  4 -ième intervalle :  nan\n",
      "Q :  0  - dg de lbte :  -3\n",
      "p-valeur du test sur le  4 -ième intervalle :  nan\n",
      "Q :  0  - dg de lbte :  -3\n",
      "p-valeur du test sur le  4 -ième intervalle :  nan\n",
      "Q :  0  - dg de lbte :  -3\n",
      "p-valeur du test sur le  4 -ième intervalle :  nan\n",
      "Q :  0  - dg de lbte :  -4\n",
      "p-valeur du test sur le  4 -ième intervalle :  nan\n",
      "Q :  0  - dg de lbte :  -4\n",
      "p-valeur du test sur le  4 -ième intervalle :  nan\n",
      "Q :  0  - dg de lbte :  -6\n",
      "p-valeur du test sur le  4 -ième intervalle :  nan\n",
      "Q :  0  - dg de lbte :  -6\n",
      "p-valeur du test sur le  4 -ième intervalle :  nan\n",
      "Q :  0  - dg de lbte :  -6\n",
      "p-valeur du test sur le  4 -ième intervalle :  nan\n",
      "Q :  0  - dg de lbte :  -4\n",
      "p-valeur du test sur le  4 -ième intervalle :  nan\n",
      "Q :  0  - dg de lbte :  -3\n",
      "p-valeur du test sur le  4 -ième intervalle :  nan\n",
      "0  intervalles de temps sur  5  sont homogènes\n"
     ]
    },
    {
     "data": {
      "text/plain": [
       "0.0"
      ]
     },
     "execution_count": 20,
     "metadata": {},
     "output_type": "execute_result"
    }
   ],
   "source": [
    "homog_int(tab2['1to5'],20)"
   ]
  },
  {
   "cell_type": "code",
   "execution_count": 21,
   "metadata": {
    "collapsed": false
   },
   "outputs": [
    {
     "name": "stdout",
     "output_type": "stream",
     "text": [
      "Degrés de liberté :  96\n"
     ]
    },
    {
     "data": {
      "text/plain": [
       "(281.24660076254941, 0.0)"
      ]
     },
     "execution_count": 21,
     "metadata": {},
     "output_type": "execute_result"
    }
   ],
   "source": [
    "homog_temp(tab2['1to5'],10,T=5)"
   ]
  },
  {
   "cell_type": "markdown",
   "metadata": {
    "collapsed": true
   },
   "source": [
    "## Test sur la période 2014-2016"
   ]
  },
  {
   "cell_type": "code",
   "execution_count": 22,
   "metadata": {
    "collapsed": false
   },
   "outputs": [],
   "source": [
    "tab3 = table[658:]\n",
    "tab3.index = range(tab3.shape[0])"
   ]
  },
  {
   "cell_type": "code",
   "execution_count": 23,
   "metadata": {
    "collapsed": false,
    "scrolled": true
   },
   "outputs": [
    {
     "name": "stdout",
     "output_type": "stream",
     "text": [
      "Q :  161.5  - dg de lbte :  8\n",
      "p-valeur du test sur le  4 -ième intervalle :  0.0\n",
      "Q :  144.0  - dg de lbte :  8\n",
      "p-valeur du test sur le  4 -ième intervalle :  0.0\n",
      "Q :  0  - dg de lbte :  -3\n",
      "p-valeur du test sur le  4 -ième intervalle :  nan\n",
      "Q :  nan  - dg de lbte :  8\n",
      "p-valeur du test sur le  4 -ième intervalle :  nan\n",
      "Q :  nan  - dg de lbte :  8\n",
      "p-valeur du test sur le  4 -ième intervalle :  nan\n",
      "Q :  0  - dg de lbte :  -2\n",
      "p-valeur du test sur le  4 -ième intervalle :  nan\n",
      "Q :  0  - dg de lbte :  -3\n",
      "p-valeur du test sur le  4 -ième intervalle :  nan\n",
      "Q :  0  - dg de lbte :  -3\n",
      "p-valeur du test sur le  4 -ième intervalle :  nan\n",
      "Q :  0  - dg de lbte :  -3\n",
      "p-valeur du test sur le  4 -ième intervalle :  nan\n",
      "Q :  0  - dg de lbte :  -2\n",
      "p-valeur du test sur le  4 -ième intervalle :  nan\n",
      "Q :  0  - dg de lbte :  -3\n",
      "p-valeur du test sur le  4 -ième intervalle :  nan\n",
      "Q :  0  - dg de lbte :  -3\n",
      "p-valeur du test sur le  4 -ième intervalle :  nan\n",
      "Q :  0  - dg de lbte :  -2\n",
      "p-valeur du test sur le  4 -ième intervalle :  nan\n",
      "Q :  0  - dg de lbte :  -2\n",
      "p-valeur du test sur le  4 -ième intervalle :  nan\n",
      "Q :  0  - dg de lbte :  -3\n",
      "p-valeur du test sur le  4 -ième intervalle :  nan\n",
      "Q :  0  - dg de lbte :  -3\n",
      "p-valeur du test sur le  4 -ième intervalle :  nan\n",
      "Q :  0  - dg de lbte :  -2\n",
      "p-valeur du test sur le  4 -ième intervalle :  nan\n",
      "Q :  0  - dg de lbte :  -3\n",
      "p-valeur du test sur le  4 -ième intervalle :  nan\n",
      "Q :  0  - dg de lbte :  -2\n",
      "p-valeur du test sur le  4 -ième intervalle :  nan\n",
      "Q :  0  - dg de lbte :  0\n",
      "p-valeur du test sur le  4 -ième intervalle :  nan\n",
      "0  intervalles de temps sur  5  sont homogènes\n"
     ]
    },
    {
     "data": {
      "text/plain": [
       "0.0"
      ]
     },
     "execution_count": 23,
     "metadata": {},
     "output_type": "execute_result"
    }
   ],
   "source": [
    "homog_int(tab3['1to5'],20)"
   ]
  },
  {
   "cell_type": "markdown",
   "metadata": {
    "collapsed": true
   },
   "source": [
    "# Output"
   ]
  },
  {
   "cell_type": "code",
   "execution_count": 29,
   "metadata": {
    "collapsed": false,
    "scrolled": true
   },
   "outputs": [],
   "source": [
    "#print(table)\n",
    "table['Date'] = pd.to_datetime(table['Date'],dayfirst=True)\n",
    "dates = table['Date'][table['Date'].dt.year==2011]\n",
    "\n",
    "#resultat= np.zeros((51,9))\n",
    "swaptions = output_2.columns[2:]"
   ]
  },
  {
   "cell_type": "code",
   "execution_count": 30,
   "metadata": {
    "collapsed": false
   },
   "outputs": [],
   "source": [
    "#Calcule la moyenne des matrices de transition sur les 1000 itérations\n",
    "\n",
    "def mat_output(output,elem,freq):\n",
    "    matrice_freq = np.zeros((freq,freq))\n",
    "    for i in range(1,1000):\n",
    "        sous_table = output[output.Trial.values==i][elem]\n",
    "        sous_table.index = range(sous_table.shape[0])\n",
    "        matrice_freq += matrice(sous_table,freq)\n",
    "\n",
    "    return matrice_freq/1000"
   ]
  },
  {
   "cell_type": "code",
   "execution_count": 31,
   "metadata": {
    "collapsed": false
   },
   "outputs": [],
   "source": [
    "def egales(table_in, table_out, elem, freq=10):\n",
    "    MT1 = matrice(table_in[elem], freq)\n",
    "    MT2 = mat_output(table_out, elem, freq)\n",
    "    table_mean = table_out.groupby(table_out.Trial).mean()\n",
    "    table_mean.index = range(table_mean.shape[0])\n",
    "    Q = stat(table_in[elem],MT1,table_mean[elem],MT2,freq)\n",
    "    dg_lib = 0\n",
    "    for i in range(0, MT1.shape[0]-1):\n",
    "        dg_lib += (len(B(MT1,i))-1)\n",
    "    return Q, 1-stats.chi2.cdf(Q,dg_lib)\n"
   ]
  },
  {
   "cell_type": "code",
   "execution_count": 33,
   "metadata": {
    "collapsed": false
   },
   "outputs": [
    {
     "name": "stdout",
     "output_type": "stream",
     "text": [
      "1to5 (966.50229477241987, 0.0)\n",
      "1to10 (931.48942203418073, 0.0)\n",
      "1to20 (659.41870619241456, 0.0)\n",
      "5to5 (745.76113124878646, 0.0)\n",
      "5to10 (691.54168363510655, 0.0)\n",
      "5to20 (747.21741064506682, 0.0)\n",
      "10to5 (867.89978087652298, 0.0)\n",
      "10to10 (988.8019963303924, 0.0)\n",
      "10to20 (796.91305143779289, 0.0)\n"
     ]
    }
   ],
   "source": [
    "#Sur toute la durée\n",
    "\n",
    "for elem in table.columns[1:]:\n",
    "    print(elem,egales(table,output_2,elem))"
   ]
  },
  {
   "cell_type": "code",
   "execution_count": null,
   "metadata": {
    "collapsed": true
   },
   "outputs": [],
   "source": []
  }
 ],
 "metadata": {
  "kernelspec": {
   "display_name": "Python 3",
   "language": "python",
   "name": "python3"
  },
  "language_info": {
   "codemirror_mode": {
    "name": "ipython",
    "version": 3
   },
   "file_extension": ".py",
   "mimetype": "text/x-python",
   "name": "python",
   "nbconvert_exporter": "python",
   "pygments_lexer": "ipython3",
   "version": "3.4.4"
  }
 },
 "nbformat": 4,
 "nbformat_minor": 0
}
