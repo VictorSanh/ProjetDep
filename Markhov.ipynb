{
 "cells": [
  {
   "cell_type": "markdown",
   "metadata": {},
   "source": [
    "# Chaines de Markhov"
   ]
  },
  {
   "cell_type": "code",
   "execution_count": 35,
   "metadata": {
    "collapsed": false
   },
   "outputs": [
    {
     "name": "stdout",
     "output_type": "stream",
     "text": [
      "<class 'pandas.core.frame.DataFrame'>\n",
      "[[ 11.2     9.8     8.8     9.4     8.3     7.5     7.5     7.6     6.5  ]\n",
      " [ 16.15   13.95   12.15   12.7    11.7    10.8    10.7    10.4     9.85 ]\n",
      " [ 19.85   16.15   13.9    14.8    13.8    12.85   12.7    12.65   11.8  ]\n",
      " [ 28.6    24.7    22.55   19.3    18.625  18.8    16.     16.65   17.5  ]\n",
      " [ 47.95   35.25   29.85   29.6    26.85   25.85   22.95   23.875  23.   ]]\n",
      "0.0\n",
      "0.2\n",
      "0.4\n",
      "0.6\n",
      "0.8\n"
     ]
    }
   ],
   "source": [
    "%matplotlib inline\n",
    "import matplotlib.pyplot as plt\n",
    "import pandas as pd\n",
    "import scipy\n",
    "import numpy as np\n",
    "from scipy import stats\n",
    "import pysal\n",
    "\n",
    "\n",
    "table = pd.read_csv('Databases/swaphist.csv', delimiter = \";\")\n",
    "table['Date'] = pd.to_datetime(table['Date'],dayfirst=True)\n",
    "#table = scipy.delete(table,table.shape[0]-1,0)\n",
    "print(type(table))\n",
    "print(np.array(table.quantile([k/5 for k in range(0, 5)])))\n",
    "for k in range(0,5):\n",
    "    print(k/5)"
   ]
  },
  {
   "cell_type": "markdown",
   "metadata": {},
   "source": [
    "# Définition des fonctions"
   ]
  },
  {
   "cell_type": "markdown",
   "metadata": {},
   "source": [
    "### Calcul de la matrice de transition"
   ]
  },
  {
   "cell_type": "code",
   "execution_count": 62,
   "metadata": {
    "collapsed": false
   },
   "outputs": [
    {
     "name": "stdout",
     "output_type": "stream",
     "text": [
      "[[ 0.86486486  0.13513514  0.          0.          0.          0.          0.\n",
      "   0.          0.          0.          0.          0.          0.          0.\n",
      "   0.          0.          0.          0.          0.          0.        ]\n",
      " [ 0.13888889  0.63888889  0.16666667  0.02777778  0.02777778  0.          0.\n",
      "   0.          0.          0.          0.          0.          0.          0.\n",
      "   0.          0.          0.          0.          0.          0.        ]\n",
      " [ 0.          0.21052632  0.55263158  0.21052632  0.02631579  0.          0.\n",
      "   0.          0.          0.          0.          0.          0.          0.\n",
      "   0.          0.          0.          0.          0.          0.        ]\n",
      " [ 0.          0.          0.24324324  0.62162162  0.13513514  0.          0.\n",
      "   0.          0.          0.          0.          0.          0.          0.\n",
      "   0.          0.          0.          0.          0.          0.        ]\n",
      " [ 0.          0.          0.02777778  0.13888889  0.58333333  0.16666667\n",
      "   0.08333333  0.          0.          0.          0.          0.          0.\n",
      "   0.          0.          0.          0.          0.          0.          0.        ]\n",
      " [ 0.          0.          0.          0.          0.15789474  0.52631579\n",
      "   0.26315789  0.02631579  0.          0.02631579  0.          0.          0.\n",
      "   0.          0.          0.          0.          0.          0.          0.        ]\n",
      " [ 0.          0.          0.          0.          0.02857143  0.34285714\n",
      "   0.48571429  0.11428571  0.02857143  0.          0.          0.          0.\n",
      "   0.          0.          0.          0.          0.          0.          0.        ]\n",
      " [ 0.          0.          0.          0.          0.02631579  0.\n",
      "   0.13157895  0.57894737  0.26315789  0.          0.          0.          0.\n",
      "   0.          0.          0.          0.          0.          0.          0.        ]\n",
      " [ 0.          0.          0.          0.          0.          0.          0.\n",
      "   0.26315789  0.55263158  0.18421053  0.          0.          0.          0.\n",
      "   0.          0.          0.          0.          0.          0.        ]\n",
      " [ 0.          0.          0.          0.          0.          0.          0.\n",
      "   0.02777778  0.16666667  0.58333333  0.19444444  0.          0.\n",
      "   0.02777778  0.          0.          0.          0.          0.          0.        ]\n",
      " [ 0.          0.          0.          0.          0.          0.          0.\n",
      "   0.          0.          0.15384615  0.56410256  0.28205128  0.          0.\n",
      "   0.          0.          0.          0.          0.          0.        ]\n",
      " [ 0.          0.          0.          0.          0.          0.          0.\n",
      "   0.          0.          0.02857143  0.25714286  0.48571429  0.17142857\n",
      "   0.05714286  0.          0.          0.          0.          0.          0.        ]\n",
      " [ 0.          0.          0.          0.          0.          0.          0.\n",
      "   0.          0.          0.          0.02631579  0.18421053  0.65789474\n",
      "   0.13157895  0.          0.          0.          0.          0.          0.        ]\n",
      " [ 0.          0.          0.          0.          0.          0.          0.\n",
      "   0.          0.          0.          0.          0.          0.18918919\n",
      "   0.72972973  0.08108108  0.          0.          0.          0.          0.        ]\n",
      " [ 0.          0.          0.          0.          0.          0.          0.\n",
      "   0.          0.          0.          0.          0.          0.\n",
      "   0.05405405  0.59459459  0.21621622  0.13513514  0.          0.          0.        ]\n",
      " [ 0.          0.          0.          0.          0.          0.          0.\n",
      "   0.          0.          0.          0.          0.          0.          0.\n",
      "   0.18918919  0.51351351  0.24324324  0.05405405  0.          0.        ]\n",
      " [ 0.          0.          0.          0.          0.          0.          0.\n",
      "   0.          0.          0.          0.          0.          0.          0.\n",
      "   0.13513514  0.24324324  0.21621622  0.37837838  0.02702703  0.        ]\n",
      " [ 0.          0.          0.          0.          0.          0.          0.\n",
      "   0.          0.          0.          0.          0.          0.          0.\n",
      "   0.          0.02702703  0.37837838  0.48648649  0.10810811  0.        ]\n",
      " [ 0.          0.          0.          0.          0.          0.          0.\n",
      "   0.          0.          0.          0.          0.          0.          0.\n",
      "   0.          0.          0.02702703  0.08108108  0.72972973  0.16216216]\n",
      " [ 0.          0.          0.          0.          0.          0.          0.\n",
      "   0.          0.          0.          0.          0.          0.          0.\n",
      "   0.          0.          0.          0.          0.13513514  0.86486486]]\n",
      "1.0\n",
      "1.0\n",
      "1.0\n"
     ]
    }
   ],
   "source": [
    "#Calcule la place de l'élément dans un des n groupes\n",
    "'''def place(elem,table,freq):\n",
    "    xmin = min(table)\n",
    "    xmax = max(table)\n",
    "    delta = (xmax-xmin)/freq\n",
    "    if table[elem]==xmax : freq-1\n",
    "    else : return int((table[elem]-xmin)/delta)\n",
    "    #return min(int((table[elem]-xmin)/delta),freq-1)'''\n",
    "\n",
    "def place(elem, table, freq, quantiles):\n",
    "    k = 0\n",
    "    #print(\"elem : \",elem, \" - valeur : \",table[elem], \" - quantile : \", quantiles[k])\n",
    "    #print(\"elem : \",elem)\n",
    "    #print(table.size,table[elem])\n",
    "    #print(\"table : \",table[elem])\n",
    "    #print(\" - quant : \",quantiles[k])\n",
    "    while k<freq and table[elem]>=quantiles[k]:\n",
    "        k += 1\n",
    "    return k-1\n",
    "\n",
    "def placement(table, freq):\n",
    "    quantiles = np.array(table.quantile([k/freq for k in range(0, freq)]))\n",
    "    liste = []\n",
    "    for elem in table :\n",
    "        k=0\n",
    "        while k<freq and elem>=quantiles[k]:\n",
    "            k += 1\n",
    "        liste.append(k-1)\n",
    "    return np.array(liste)\n",
    "\n",
    "#Calcule la matrice de passage (fréquence de passage d'un groupe à l'autre)\n",
    "def matrice(table, freq):\n",
    "    #trans = np.zeros((freq,freq))\n",
    "    trans = np.zeros((freq,freq))\n",
    "    n = table.size\n",
    "    places = placement(table, freq)\n",
    "    #quantiles = np.array(table.quantile([k/freq for k in range(0, freq)]))\n",
    "    for i in range(0,n-1):\n",
    "        #trans[(place(i,table,freq, quantiles),place(i+1,table,freq, quantiles))] += 1\n",
    "        trans[places[i],places[i+1]] += 1\n",
    "    #for i in range(0,freq):\n",
    "    for i in range(0,freq):\n",
    "        sum_ligne = np.sum(trans[i])\n",
    "        #Certains intervalles ne sont jamais visités. \n",
    "        if sum_ligne == 0 : \n",
    "            trans[(i,i)] = 0\n",
    "        else :\n",
    "            #for j in range(0,freq):\n",
    "            for j in range(0,freq):\n",
    "                trans[(i,j)] = trans[(i,j)]/sum_ligne\n",
    "    return trans\n",
    "\n",
    "\n",
    "\n",
    "#La matrice de transition est-elle bien stochastique ?\n",
    "test = matrice(table['EUPG15'],20)\n",
    "print(test)\n",
    "for i in range(0,test.shape[0]):\n",
    "    #print(sum(test[i]))\n",
    "    if(sum(test[i])!=1.0): print(sum(test[i]))\n",
    "\n",
    "\n",
    "colors = ['RED','GREEN','BLUE','BLACK','ORANGE','PINK','BROWN','YELLOW','CYAN']\n",
    "#fig, ax = plt.subplots()\n",
    "#ax.plot_date(table['Date'], table['1to5'],'-',color='BLACK')\n",
    "#ax.plot_date(table['Date'],20,'-',color='RED')\n",
    "#fig.autofmt_xdate()"
   ]
  },
  {
   "cell_type": "markdown",
   "metadata": {},
   "source": [
    "Les matrices de transitions ne sont pas stochastiques car certains intervalles de valeurs ne sont jamais visités : typiquement, les valeurs élevés atteintes durant le pic de 2008-2013. Les variations sont très importantes lors de cette période et les volatilités font des sauts importants d'une semaine à l'autre.\n",
    "\n",
    "Il faudra prendre cela en compte lorsque l'on conduira les tests. En effet, les tests doivent être effectués sur des matrices stochastiques. On supprimera donc les colonnes et lignes vides."
   ]
  },
  {
   "cell_type": "markdown",
   "metadata": {},
   "source": [
    "### Fonctions auxiliaires pour le calcul des statistiques de test"
   ]
  },
  {
   "cell_type": "code",
   "execution_count": 41,
   "metadata": {
    "collapsed": false
   },
   "outputs": [],
   "source": [
    "#Une fonction pour supprimer les colonnes et lignes qui ne contiennent que des zeros\n",
    "def zero(mat):\n",
    "    liste = []\n",
    "    for i in range(0,mat.shape[0]-1):\n",
    "        if(sum(mat[i])==0): liste.append(i)\n",
    "    mat = scipy.delete(mat,liste,0)\n",
    "    liste = []\n",
    "    for i in range(0,mat.shape[1]-1): \n",
    "        if(sum(mat[:,i])==0): liste.append(i)\n",
    "    mat = scipy.delete(mat,liste,1)\n",
    "    return mat"
   ]
  },
  {
   "cell_type": "code",
   "execution_count": 42,
   "metadata": {
    "collapsed": false
   },
   "outputs": [],
   "source": [
    "def A(table,i,freq,T):\n",
    "    a=0\n",
    "    xmin = min(table)\n",
    "    xmax = max(table)\n",
    "    delta = (xmax-xmin)/T\n",
    "    tmp=0\n",
    "    for t in range(0,T):\n",
    "        sous_table = table[int(t*delta+xmin): int((t+1)*delta+xmin)]\n",
    "        sous_table.index = range(sous_table.shape[0])\n",
    "        #tmp =+ n(sous_table,i,freq)\n",
    "        if n(sous_table,i,freq)!=0 : a+=1\n",
    "    return a\n",
    "\n",
    "def B(MT,i):\n",
    "    B = []\n",
    "    for j in range(0,MT.shape[1]):\n",
    "        if MT[i,j]!=0 : B.append(j)\n",
    "    return B\n",
    "\n",
    "def n(sous_table,i,freq):\n",
    "    tot = 0\n",
    "    quantiles = np.array(sous_table.quantile([k/freq for k in range(0, freq)]))\n",
    "    for k in range(0,sous_table.size) :\n",
    "        if place(k,sous_table,freq,quantiles)==i : tot += 1\n",
    "    return tot\n",
    "\n",
    "def stat(table, MT, sous_table, sous_MT, freq):\n",
    "    dg_lbt = 0\n",
    "    stat = 0\n",
    "    for i in range(0,MT.shape[0]):\n",
    "        #print(\"i : \",i)\n",
    "        ni = n(sous_table,i, freq)\n",
    "        Bi = B(MT,i)\n",
    "        for j in Bi:\n",
    "            stat += ni*(sous_MT[i,j]-MT[i,j])**2/MT[i,j]\n",
    "            #if MT[i,j]!=0 : stat += ni*(sous_MT[i,j]-MT[i,j])**2/MT[i,j]\n",
    "    return stat"
   ]
  },
  {
   "cell_type": "code",
   "execution_count": 43,
   "metadata": {
    "collapsed": true
   },
   "outputs": [],
   "source": [
    "#Les matrices de transition de la table est-elle homogène ?\n",
    "def homog(table, freq=50, T=5):\n",
    "    for i,elem in enumerate(table):\n",
    "        if i>0:\n",
    "            Q,p = homog_temp(table[elem].values,freq,T)\n",
    "            m1 = homog_int(table[elem].values,freq,T)\n",
    "            m2 = homog_reg(table[elem].values,freq,T)\n",
    "            print(\"p-valeur : \",p, \" - résultat du test par intervalles : \",m1,\" - résultat du test par régions : \",m2)\n",
    "            rep = p>0.05 and m1>0.5 and m2>0.5\n",
    "            if rep : print(\"La série de valeur pour le swaption \",elem,\" est homogène\")\n",
    "            else : print(\"La série de valeur pour le swaption \",elem,\" n'est pas homogène\")\n",
    "    return 0"
   ]
  },
  {
   "cell_type": "markdown",
   "metadata": {},
   "source": [
    "## Les matrices de transition sont elles bien homogènes ?"
   ]
  },
  {
   "cell_type": "markdown",
   "metadata": {},
   "source": [
    "Pour que la matrice de transition calculée à partir des fréquences de transition ait un sens, il fait s'assurer qu'elle est bien homogène en temps. On va donc mener plusieurs test pour vérifier cette hypothèse lourde."
   ]
  },
  {
   "cell_type": "markdown",
   "metadata": {},
   "source": [
    "### Test d'homogénéité des intervalles par rapport à la matrice de transition globale"
   ]
  },
  {
   "cell_type": "markdown",
   "metadata": {},
   "source": [
    "On subdivise notre série de valeurs en un nombre $T$ d'intervalles. On vérifie que, si on calcule la matrice de transition sur chacun des intervalles, on retrouve bien la matrice de transition calculée sur toutes les valeurs de la série par un test du khi-2.\n",
    "\n",
    "\n",
    "Notre hypothèse nulle est donc : $H_0 = \\{\\forall t, \\le T, \\forall i,j, p_{i,j} (t) = p_{i,j}\\}$"
   ]
  },
  {
   "cell_type": "code",
   "execution_count": 44,
   "metadata": {
    "collapsed": false
   },
   "outputs": [],
   "source": [
    "def homog_temp(table, freq, T=5):\n",
    "    N = table.size\n",
    "    Q = 0\n",
    "    delta = N/T\n",
    "    MT = matrice(table, freq)\n",
    "    for t in range(0,T):\n",
    "        sous_table = table[int(t*delta): int((t+1)*delta)]\n",
    "        sous_table.index = range(sous_table.shape[0])\n",
    "        sous_MT = matrice(sous_table, freq)\n",
    "        Q += stat(table,MT,sous_table,sous_MT,freq)\n",
    "    \n",
    "    dg_lib = 0\n",
    "    MT = matrice(table, freq)\n",
    "    for i in range(0, MT.shape[0]-1):\n",
    "        if A(table,i,freq,T)>0 : dg_lib += (len(B(MT,i))-1)*(A(table,i,freq,T)-1)\n",
    "    print(\"Degrés de liberté : \",dg_lib)\n",
    "    return Q, 1-stats.chi2.cdf(Q,dg_lib)"
   ]
  },
  {
   "cell_type": "markdown",
   "metadata": {},
   "source": [
    "### Test d'homogénéité par intervalle"
   ]
  },
  {
   "cell_type": "markdown",
   "metadata": {
    "collapsed": false
   },
   "source": [
    "On subdivise notre série de valeurs en un nombre $T$ d'intervalles. On va effectuer $T$ tests pour vérifier si chacune des $T$ matrices de transitions sont bien les mêmes que la matrice de transition globale.\n",
    "\n",
    "\n",
    "Notre hypothèse nulle est donc, pour chacun des intervalles $ 0\\le t <T$ : $H_0^t = \\{\\forall i,j, p_{i,j} (t) = p_{i,j}\\}$"
   ]
  },
  {
   "cell_type": "code",
   "execution_count": 74,
   "metadata": {
    "collapsed": true
   },
   "outputs": [],
   "source": [
    "def homog_int(table, freq, T=5):\n",
    "    N = table.size\n",
    "    Q = 0\n",
    "    delta = N/T\n",
    "    moy = 0\n",
    "    MT = matrice(table, freq)\n",
    "    for t in range(0,T):\n",
    "        sous_table = table[int(t*delta): int((t+1)*delta)]\n",
    "        sous_table.index = range(sous_table.shape[0])\n",
    "        sous_MT = matrice(sous_table, freq)\n",
    "        Q = stat(table,MT,sous_table,sous_MT,freq)\n",
    "        dg_lib = 0\n",
    "        MT = matrice(table, freq)\n",
    "        for i in range(0, MT.shape[0]-1):\n",
    "            #print(B(MT,i),A(table,i,freq,T))\n",
    "            dg_lib += (len(B(MT,i))-1)*(A(table,i,freq,T)-1)\n",
    "        p = 1-stats.chi2.cdf(Q,dg_lib)\n",
    "        print(\"Q : \",Q, \" - dg de lbte : \",dg_lib)\n",
    "        print(\"p-valeur du test sur le \",t,\"-ième intervalle : \",p)\n",
    "        if p>0.05 : moy += 1\n",
    "    \n",
    "    print(moy,\" intervalles de temps sur \",T,\" sont homogènes\")    \n",
    "    return moy/T"
   ]
  },
  {
   "cell_type": "markdown",
   "metadata": {},
   "source": [
    "### Test région contre région"
   ]
  },
  {
   "cell_type": "markdown",
   "metadata": {},
   "source": [
    "On subdivise toujours notre série de valeurs en un nombre $T$ d'intervalles. Pour finir, on vérifie si les matrices de transitions de deux périodes sont identiques.\n",
    "\n",
    "Notre hypothèse nulle est donc, pour chacun des intervalles $ 0\\le t,u <T$ : $H_0^{t,u} = \\{\\forall i,j, p_{i,j}^t (t) = p_{i,j}^u\\}$"
   ]
  },
  {
   "cell_type": "code",
   "execution_count": 68,
   "metadata": {
    "collapsed": false
   },
   "outputs": [],
   "source": [
    "def homog_reg(table, freq, T=5):\n",
    "    N = table.size\n",
    "    Q = 0\n",
    "    delta = N/T\n",
    "    moy = 0\n",
    "    t,u = 0,0\n",
    "    for t in range(0,T):\n",
    "        for u in range(t+1,T):\n",
    "            sous_table1 = table[int(t*delta): int((t+1)*delta)]\n",
    "            sous_table2 = table[int(u*delta): int((u+1)*delta)]\n",
    "            sous_table1.index = range(int((t+1)*delta)-int(t*delta))\n",
    "            sous_table2.index = range(int((u+1)*delta)-int(u*delta))\n",
    "            sous_MT1 = matrice(sous_table1, freq)\n",
    "            sous_MT2 = matrice(sous_table2, freq)\n",
    "            Q = stat(sous_table1,sous_MT1,sous_table2,sous_MT2,freq)\n",
    "            dg_lib = 0\n",
    "            MT = matrice(sous_table1, freq)\n",
    "            for i in range(0, MT.shape[0]-1):\n",
    "                dg_lib += max((len(B(MT,i))-1)*(A(table,i,freq,T)-1),0)\n",
    "            p = 1-stats.chi2.cdf(Q,dg_lib)\n",
    "            print(\"Q : \",Q,\" - dg lib : \",dg_lib)\n",
    "            print(\"p-valeur du test entre le \",t+1,\"-ième et le \",u+1,\"-ième intervalle : \",p)\n",
    "            if p>0.05 : moy += 1\n",
    "    \n",
    "    print(moy,\" paires d'intervalles de temps sur \",T,\" intervalles sont homogènes\")    \n",
    "    return 2*moy/(T*(T-1))"
   ]
  },
  {
   "cell_type": "markdown",
   "metadata": {
    "collapsed": true
   },
   "source": [
    "## Deux matrices de transition sont-elles égales ?"
   ]
  },
  {
   "cell_type": "markdown",
   "metadata": {},
   "source": [
    "Maintenant, on peut tester si deux matrices de transition sont égales. On appliquera la statistique de test précédement définie aux deux matrices.\n",
    "\n",
    "Notre hypothèse nulle est donc, si on note $(p_{i,j}^0)$ et $(p_{i,j}^1)$ les coefficents de chacune des deux matrices de transition : $H_0 = \\{\\forall i,j, p_{i,j}^0 = p_{i,j}^1\\}$"
   ]
  },
  {
   "cell_type": "code",
   "execution_count": 77,
   "metadata": {
    "collapsed": false
   },
   "outputs": [],
   "source": [
    "def egales(table1, table2, freq=10):\n",
    "    MT1 = matrice(table1, freq)\n",
    "    MT2 = matrice(table2, freq)\n",
    "    Q = stat(table1,MT1,table2,MT2,freq)\n",
    "    \n",
    "    dg_lib = 0\n",
    "    for i in range(0, MT1.shape[0]-1):\n",
    "        dg_lib += (len(B(MT1,i))-1)\n",
    "    return Q, 1-stats.chi2.cdf(Q,dg_lib)\n"
   ]
  },
  {
   "cell_type": "markdown",
   "metadata": {},
   "source": [
    "# Tests sur toute la période 2001-2016"
   ]
  },
  {
   "cell_type": "markdown",
   "metadata": {},
   "source": [
    "## Homogénéité"
   ]
  },
  {
   "cell_type": "code",
   "execution_count": 64,
   "metadata": {
    "collapsed": false
   },
   "outputs": [
    {
     "name": "stdout",
     "output_type": "stream",
     "text": [
      "Degrés de liberté :  80\n"
     ]
    },
    {
     "data": {
      "text/plain": [
       "(762.55934408897508, 0.0)"
      ]
     },
     "execution_count": 64,
     "metadata": {},
     "output_type": "execute_result"
    }
   ],
   "source": [
    "homog_temp(table['EUPG15'],10)"
   ]
  },
  {
   "cell_type": "code",
   "execution_count": 65,
   "metadata": {
    "collapsed": false
   },
   "outputs": [
    {
     "name": "stdout",
     "output_type": "stream",
     "text": [
      "[0, 1, 2] 5\n",
      "[0, 1, 2] 5\n",
      "[1, 2, 3, 4] 5\n",
      "[2, 3, 4] 5\n",
      "[3, 4, 5, 6] 5\n",
      "[4, 5, 6] 5\n",
      "[5, 6, 7] 5\n",
      "[6, 7, 8] 5\n",
      "[7, 8, 9] 5\n",
      "Q :  137.336482394  - dg de lbte :  80\n",
      "p-valeur du test sur le  0 -ième intervalle :  7.07176108886e-05\n",
      "[0, 1, 2] 5\n",
      "[0, 1, 2] 5\n",
      "[1, 2, 3, 4] 5\n",
      "[2, 3, 4] 5\n",
      "[3, 4, 5, 6] 5\n",
      "[4, 5, 6] 5\n",
      "[5, 6, 7] 5\n",
      "[6, 7, 8] 5\n",
      "[7, 8, 9] 5\n",
      "Q :  73.5023802989  - dg de lbte :  80\n",
      "p-valeur du test sur le  1 -ième intervalle :  0.682673023804\n",
      "[0, 1, 2] 5\n",
      "[0, 1, 2] 5\n",
      "[1, 2, 3, 4] 5\n",
      "[2, 3, 4] 5\n",
      "[3, 4, 5, 6] 5\n",
      "[4, 5, 6] 5\n",
      "[5, 6, 7] 5\n",
      "[6, 7, 8] 5\n",
      "[7, 8, 9] 5\n",
      "Q :  179.403438622  - dg de lbte :  80\n",
      "p-valeur du test sur le  2 -ième intervalle :  1.36245947857e-09\n",
      "[0, 1, 2] 5\n",
      "[0, 1, 2] 5\n",
      "[1, 2, 3, 4] 5\n",
      "[2, 3, 4] 5\n",
      "[3, 4, 5, 6] 5\n",
      "[4, 5, 6] 5\n",
      "[5, 6, 7] 5\n",
      "[6, 7, 8] 5\n",
      "[7, 8, 9] 5\n",
      "Q :  211.212381929  - dg de lbte :  80\n",
      "p-valeur du test sur le  3 -ième intervalle :  8.84847750626e-14\n",
      "[0, 1, 2] 5\n",
      "[0, 1, 2] 5\n",
      "[1, 2, 3, 4] 5\n",
      "[2, 3, 4] 5\n",
      "[3, 4, 5, 6] 5\n",
      "[4, 5, 6] 5\n",
      "[5, 6, 7] 5\n",
      "[6, 7, 8] 5\n",
      "[7, 8, 9] 5\n",
      "Q :  161.104660845  - dg de lbte :  80\n",
      "p-valeur du test sur le  4 -ième intervalle :  2.10171838599e-07\n",
      "1  intervalles de temps sur  5  sont homogènes\n"
     ]
    },
    {
     "data": {
      "text/plain": [
       "0.2"
      ]
     },
     "execution_count": 65,
     "metadata": {},
     "output_type": "execute_result"
    }
   ],
   "source": [
    "homog_int(table['EUPG15'],10,T=5)"
   ]
  },
  {
   "cell_type": "code",
   "execution_count": 69,
   "metadata": {
    "collapsed": false
   },
   "outputs": [
    {
     "name": "stdout",
     "output_type": "stream",
     "text": [
      "Q :  41.4570281901  - dg lib :  96\n",
      "p-valeur du test entre le  1 -ième et le  2 -ième intervalle :  0.999999784421\n",
      "Q :  37.4914858653  - dg lib :  96\n",
      "p-valeur du test entre le  1 -ième et le  3 -ième intervalle :  0.999999988237\n",
      "Q :  41.5928597196  - dg lib :  96\n",
      "p-valeur du test entre le  1 -ième et le  4 -ième intervalle :  0.99999976379\n",
      "Q :  35.1490094826  - dg lib :  96\n",
      "p-valeur du test entre le  1 -ième et le  5 -ième intervalle :  0.999999998347\n",
      "Q :  69.4827882435  - dg lib :  92\n",
      "p-valeur du test entre le  2 -ième et le  3 -ième intervalle :  0.961515485846\n",
      "Q :  48.2663926682  - dg lib :  92\n",
      "p-valeur du test entre le  2 -ième et le  4 -ième intervalle :  0.999951829433\n",
      "Q :  80.7038435374  - dg lib :  92\n",
      "p-valeur du test entre le  2 -ième et le  5 -ième intervalle :  0.793841676308\n",
      "Q :  42.6491609977  - dg lib :  96\n",
      "p-valeur du test entre le  3 -ième et le  4 -ième intervalle :  0.999999527334\n",
      "Q :  71.1801831502  - dg lib :  96\n",
      "p-valeur du test entre le  3 -ième et le  5 -ième intervalle :  0.972874244498\n",
      "Q :  66.4123991881  - dg lib :  84\n",
      "p-valeur du test entre le  4 -ième et le  5 -ième intervalle :  0.921137473305\n",
      "10  paires d'intervalles de temps sur  5  intervalles sont homogènes\n"
     ]
    },
    {
     "data": {
      "text/plain": [
       "1.0"
      ]
     },
     "execution_count": 69,
     "metadata": {},
     "output_type": "execute_result"
    }
   ],
   "source": [
    "homog_reg(table['EUPG15'],10)"
   ]
  },
  {
   "cell_type": "markdown",
   "metadata": {},
   "source": [
    "Comme on pouvait s'y attendre, les matrices de transition sur la période 2001-2016 ne sont homogène dans le temps pour aucun des swaptions. Nous allons donc restreindre notre études à de plus petits intervalles."
   ]
  },
  {
   "cell_type": "markdown",
   "metadata": {},
   "source": [
    "# Test sur la période 2001-2008"
   ]
  },
  {
   "cell_type": "code",
   "execution_count": 51,
   "metadata": {
    "collapsed": false
   },
   "outputs": [],
   "source": [
    "tab1 = table[0:302]"
   ]
  },
  {
   "cell_type": "code",
   "execution_count": 70,
   "metadata": {
    "collapsed": false,
    "scrolled": false
   },
   "outputs": [
    {
     "name": "stdout",
     "output_type": "stream",
     "text": [
      "Q :  27.5  - dg lib :  14\n",
      "p-valeur du test entre le  1 -ième et le  2 -ième intervalle :  0.0165640564272\n",
      "Q :  28.6206349206  - dg lib :  14\n",
      "p-valeur du test entre le  1 -ième et le  3 -ième intervalle :  0.011756303291\n",
      "Q :  27.5888095238  - dg lib :  14\n",
      "p-valeur du test entre le  1 -ième et le  4 -ième intervalle :  0.016124579416\n",
      "Q :  25.3080357143  - dg lib :  14\n",
      "p-valeur du test entre le  1 -ième et le  5 -ième intervalle :  0.0316454063589\n",
      "Q :  32.9728835979  - dg lib :  10\n",
      "p-valeur du test entre le  2 -ième et le  3 -ième intervalle :  0.000275258597266\n",
      "Q :  29.6792063492  - dg lib :  10\n",
      "p-valeur du test entre le  2 -ième et le  4 -ième intervalle :  0.000966463426443\n",
      "Q :  24.9538690476  - dg lib :  10\n",
      "p-valeur du test entre le  2 -ième et le  5 -ième intervalle :  0.00543363462543\n",
      "Q :  37.6271428571  - dg lib :  14\n",
      "p-valeur du test entre le  3 -ième et le  4 -ième intervalle :  0.000592443188751\n",
      "Q :  38.8333333333  - dg lib :  14\n",
      "p-valeur du test entre le  3 -ième et le  5 -ième intervalle :  0.000386991428585\n",
      "Q :  23.0148809524  - dg lib :  8\n",
      "p-valeur du test entre le  4 -ième et le  5 -ième intervalle :  0.00334519332127\n",
      "0  paires d'intervalles de temps sur  5  intervalles sont homogènes\n"
     ]
    },
    {
     "data": {
      "text/plain": [
       "0.0"
      ]
     },
     "execution_count": 70,
     "metadata": {},
     "output_type": "execute_result"
    }
   ],
   "source": [
    "homog_reg(tab1['EUPG15'],10)"
   ]
  },
  {
   "cell_type": "code",
   "execution_count": 71,
   "metadata": {
    "collapsed": false
   },
   "outputs": [
    {
     "name": "stdout",
     "output_type": "stream",
     "text": [
      "[0, 1, 2, 3] 5\n",
      "[0, 1, 2, 3] 0\n",
      "[0, 1, 2, 3, 4, 8] 0\n",
      "[1, 2, 3, 4, 8] 0\n",
      "[3, 4, 5] 0\n",
      "[4, 5, 6, 9] 0\n",
      "[5, 6, 7] 0\n",
      "[5, 6, 7, 8, 9] 0\n",
      "[5, 6, 7, 8, 9] 0\n",
      "[7, 8, 9, 10, 12] 0\n",
      "[9, 10, 11, 12] 3\n",
      "[10, 11, 12, 13, 16] 0\n",
      "[9, 10, 11, 12, 13, 14, 17] 0\n",
      "[12, 13, 14, 15, 16] 0\n",
      "[10, 13, 14, 15, 16, 18] 0\n",
      "[12, 13, 14, 15, 16, 17, 18] 0\n",
      "[13, 14, 15, 16, 17, 18] 0\n",
      "[14, 15, 16, 17, 19] 0\n",
      "[14, 16, 17, 18, 19] 0\n",
      "Q :  68.2411904762  - dg de lbte :  -51\n",
      "p-valeur du test sur le  0 -ième intervalle :  nan\n",
      "[0, 1, 2, 3] 5\n",
      "[0, 1, 2, 3] 0\n",
      "[0, 1, 2, 3, 4, 8] 0\n",
      "[1, 2, 3, 4, 8] 0\n",
      "[3, 4, 5] 0\n",
      "[4, 5, 6, 9] 0\n",
      "[5, 6, 7] 0\n",
      "[5, 6, 7, 8, 9] 0\n",
      "[5, 6, 7, 8, 9] 0\n",
      "[7, 8, 9, 10, 12] 0\n",
      "[9, 10, 11, 12] 3\n",
      "[10, 11, 12, 13, 16] 0\n",
      "[9, 10, 11, 12, 13, 14, 17] 0\n",
      "[12, 13, 14, 15, 16] 0\n",
      "[10, 13, 14, 15, 16, 18] 0\n",
      "[12, 13, 14, 15, 16, 17, 18] 0\n",
      "[13, 14, 15, 16, 17, 18] 0\n",
      "[14, 15, 16, 17, 19] 0\n",
      "[14, 16, 17, 18, 19] 0\n",
      "Q :  75.4691798942  - dg de lbte :  -51\n",
      "p-valeur du test sur le  1 -ième intervalle :  nan\n",
      "[0, 1, 2, 3] 5\n",
      "[0, 1, 2, 3] 0\n",
      "[0, 1, 2, 3, 4, 8] 0\n",
      "[1, 2, 3, 4, 8] 0\n",
      "[3, 4, 5] 0\n",
      "[4, 5, 6, 9] 0\n",
      "[5, 6, 7] 0\n",
      "[5, 6, 7, 8, 9] 0\n",
      "[5, 6, 7, 8, 9] 0\n",
      "[7, 8, 9, 10, 12] 0\n",
      "[9, 10, 11, 12] 3\n",
      "[10, 11, 12, 13, 16] 0\n",
      "[9, 10, 11, 12, 13, 14, 17] 0\n",
      "[12, 13, 14, 15, 16] 0\n",
      "[10, 13, 14, 15, 16, 18] 0\n",
      "[12, 13, 14, 15, 16, 17, 18] 0\n",
      "[13, 14, 15, 16, 17, 18] 0\n",
      "[14, 15, 16, 17, 19] 0\n",
      "[14, 16, 17, 18, 19] 0\n",
      "Q :  79.8238095238  - dg de lbte :  -51\n",
      "p-valeur du test sur le  2 -ième intervalle :  nan\n",
      "[0, 1, 2, 3] 5\n",
      "[0, 1, 2, 3] 0\n",
      "[0, 1, 2, 3, 4, 8] 0\n",
      "[1, 2, 3, 4, 8] 0\n",
      "[3, 4, 5] 0\n",
      "[4, 5, 6, 9] 0\n",
      "[5, 6, 7] 0\n",
      "[5, 6, 7, 8, 9] 0\n",
      "[5, 6, 7, 8, 9] 0\n",
      "[7, 8, 9, 10, 12] 0\n",
      "[9, 10, 11, 12] 3\n",
      "[10, 11, 12, 13, 16] 0\n",
      "[9, 10, 11, 12, 13, 14, 17] 0\n",
      "[12, 13, 14, 15, 16] 0\n",
      "[10, 13, 14, 15, 16, 18] 0\n",
      "[12, 13, 14, 15, 16, 17, 18] 0\n",
      "[13, 14, 15, 16, 17, 18] 0\n",
      "[14, 15, 16, 17, 19] 0\n",
      "[14, 16, 17, 18, 19] 0\n",
      "Q :  93.1696428571  - dg de lbte :  -51\n",
      "p-valeur du test sur le  3 -ième intervalle :  nan\n",
      "[0, 1, 2, 3] 5\n",
      "[0, 1, 2, 3] 0\n",
      "[0, 1, 2, 3, 4, 8] 0\n",
      "[1, 2, 3, 4, 8] 0\n",
      "[3, 4, 5] 0\n",
      "[4, 5, 6, 9] 0\n",
      "[5, 6, 7] 0\n",
      "[5, 6, 7, 8, 9] 0\n",
      "[5, 6, 7, 8, 9] 0\n",
      "[7, 8, 9, 10, 12] 0\n",
      "[9, 10, 11, 12] 3\n",
      "[10, 11, 12, 13, 16] 0\n",
      "[9, 10, 11, 12, 13, 14, 17] 0\n",
      "[12, 13, 14, 15, 16] 0\n",
      "[10, 13, 14, 15, 16, 18] 0\n",
      "[12, 13, 14, 15, 16, 17, 18] 0\n",
      "[13, 14, 15, 16, 17, 18] 0\n",
      "[14, 15, 16, 17, 19] 0\n",
      "[14, 16, 17, 18, 19] 0\n",
      "Q :  103.657142857  - dg de lbte :  -51\n",
      "p-valeur du test sur le  4 -ième intervalle :  nan\n",
      "0  intervalles de temps sur  5  sont homogènes\n"
     ]
    },
    {
     "data": {
      "text/plain": [
       "0.0"
      ]
     },
     "execution_count": 71,
     "metadata": {},
     "output_type": "execute_result"
    }
   ],
   "source": [
    "homog_int(tab1['EUPG15'],20)"
   ]
  },
  {
   "cell_type": "code",
   "execution_count": 55,
   "metadata": {
    "collapsed": false
   },
   "outputs": [
    {
     "name": "stdout",
     "output_type": "stream",
     "text": [
      "Degrés de liberté :  8\n"
     ]
    },
    {
     "data": {
      "text/plain": [
       "(80.117248692091849, 4.6296300126869028e-14)"
      ]
     },
     "execution_count": 55,
     "metadata": {},
     "output_type": "execute_result"
    }
   ],
   "source": [
    "homog_temp(tab1['EUPG15'],10,T=5)"
   ]
  },
  {
   "cell_type": "markdown",
   "metadata": {
    "collapsed": true
   },
   "source": [
    "## Test sur la période 2008-2014"
   ]
  },
  {
   "cell_type": "code",
   "execution_count": 17,
   "metadata": {
    "collapsed": true
   },
   "outputs": [],
   "source": [
    "tab2 = table[302:615]\n",
    "tab2.index = range(tab2.shape[0])"
   ]
  },
  {
   "cell_type": "code",
   "execution_count": 56,
   "metadata": {
    "collapsed": false
   },
   "outputs": [
    {
     "name": "stdout",
     "output_type": "stream",
     "text": [
      "p-valeur du test entre le  1 -ième et le  2 -ième intervalle :  0.999474512733\n",
      "p-valeur du test entre le  1 -ième et le  3 -ième intervalle :  0.999993430696\n",
      "p-valeur du test entre le  1 -ième et le  4 -ième intervalle :  0.999990146217\n",
      "p-valeur du test entre le  1 -ième et le  5 -ième intervalle :  0.950438000462\n",
      "p-valeur du test entre le  2 -ième et le  3 -ième intervalle :  0.999925493271\n",
      "p-valeur du test entre le  2 -ième et le  4 -ième intervalle :  0.999826464865\n",
      "p-valeur du test entre le  2 -ième et le  5 -ième intervalle :  0.99973386904\n",
      "p-valeur du test entre le  3 -ième et le  4 -ième intervalle :  0.999298285833\n",
      "p-valeur du test entre le  3 -ième et le  5 -ième intervalle :  0.874418999691\n",
      "p-valeur du test entre le  4 -ième et le  5 -ième intervalle :  0.575029154141\n",
      "10  paires d'intervalles de temps sur  5  intervalles sont homogènes\n"
     ]
    },
    {
     "data": {
      "text/plain": [
       "1.0"
      ]
     },
     "execution_count": 56,
     "metadata": {},
     "output_type": "execute_result"
    }
   ],
   "source": [
    "homog_reg(tab2['EUPG15'],20)"
   ]
  },
  {
   "cell_type": "code",
   "execution_count": 20,
   "metadata": {
    "collapsed": false
   },
   "outputs": [],
   "source": [
    "import pysal\n",
    "q5 = pysal.Quantiles(table['EUPG15']).yb"
   ]
  },
  {
   "cell_type": "code",
   "execution_count": 78,
   "metadata": {
    "collapsed": false
   },
   "outputs": [
    {
     "data": {
      "text/plain": [
       "(82.787312201168447, 1.4181538510182889e-07)"
      ]
     },
     "execution_count": 78,
     "metadata": {},
     "output_type": "execute_result"
    }
   ],
   "source": [
    "egales(tab1['EUPG15'],tab1['EUPG110'])"
   ]
  },
  {
   "cell_type": "code",
   "execution_count": 79,
   "metadata": {
    "collapsed": false
   },
   "outputs": [
    {
     "data": {
      "text/plain": [
       "(128.09824627058561, 4.2188474935755949e-15)"
      ]
     },
     "execution_count": 79,
     "metadata": {},
     "output_type": "execute_result"
    }
   ],
   "source": [
    "egales(tab1['EUPG15'],tab1['EUPG1020'])"
   ]
  },
  {
   "cell_type": "code",
   "execution_count": 80,
   "metadata": {
    "collapsed": false
   },
   "outputs": [
    {
     "data": {
      "text/plain": [
       "(76.000065374172422, 7.3049121787072124e-06)"
      ]
     },
     "execution_count": 80,
     "metadata": {},
     "output_type": "execute_result"
    }
   ],
   "source": [
    "egales(tab1['EUPG55'],tab1['EUPG110'])"
   ]
  },
  {
   "cell_type": "code",
   "execution_count": null,
   "metadata": {
    "collapsed": true
   },
   "outputs": [],
   "source": []
  }
 ],
 "metadata": {
  "kernelspec": {
   "display_name": "Python 3",
   "language": "python",
   "name": "python3"
  },
  "language_info": {
   "codemirror_mode": {
    "name": "ipython",
    "version": 3
   },
   "file_extension": ".py",
   "mimetype": "text/x-python",
   "name": "python",
   "nbconvert_exporter": "python",
   "pygments_lexer": "ipython3",
   "version": "3.4.4"
  }
 },
 "nbformat": 4,
 "nbformat_minor": 0
}
