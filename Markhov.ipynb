{
 "cells": [
  {
   "cell_type": "markdown",
   "metadata": {},
   "source": [
    "# Chaines de Markhov"
   ]
  },
  {
   "cell_type": "code",
   "execution_count": 51,
   "metadata": {
    "collapsed": false
   },
   "outputs": [],
   "source": [
    "%matplotlib inline\n",
    "import matplotlib.pyplot as plt\n",
    "import pandas as pd\n",
    "import scipy\n",
    "import numpy as np\n",
    "from scipy import stats\n",
    "\n",
    "\n",
    "table = pd.read_csv('Databases/swaphist.csv', delimiter = \";\")"
   ]
  },
  {
   "cell_type": "markdown",
   "metadata": {},
   "source": [
    "# Définition des fonctions"
   ]
  },
  {
   "cell_type": "markdown",
   "metadata": {},
   "source": [
    "### Calcul de la matrice de transition"
   ]
  },
  {
   "cell_type": "code",
   "execution_count": 50,
   "metadata": {
    "collapsed": false
   },
   "outputs": [
    {
     "name": "stdout",
     "output_type": "stream",
     "text": [
      "0.0\n",
      "0.0\n",
      "0.0\n",
      "0.0\n"
     ]
    }
   ],
   "source": [
    "#Calcule la place de l'élément dans un des n groupes\n",
    "def place(elem,table,freq):\n",
    "    xmin = min(table)\n",
    "    xmax = max(table)\n",
    "    delta = (xmax-xmin)/freq\n",
    "    return min(int((table[elem]-xmin)/delta),freq-1)\n",
    "\n",
    "#Calcule la matrice de passage (fréquence de passage d'un groupe à l'autre)\n",
    "def matrice(table, freq):\n",
    "    trans = np.zeros((freq,freq))\n",
    "    n = table.size\n",
    "    for i in range(0,n-1):\n",
    "        trans[(place(i,table,freq),place(i+1,table,freq))] = trans[(place(i,table,freq),place(i+1,table,freq))] + 1\n",
    "    for i in range(0,freq):\n",
    "        sum_ligne = np.sum(trans[i])\n",
    "        #Certains intervalles ne sont jamais visités. Dans ce cas on décide qu'il y a une probabilité 1 d'y rester \n",
    "        if sum_ligne == 0 : \n",
    "            trans[(i,i)] = 0\n",
    "        else :\n",
    "            for j in range(0,freq):\n",
    "                trans[(i,j)] = trans[(i,j)]/sum_ligne\n",
    "    return trans\n",
    "\n",
    "#La matrice de transition est-elle bien stochastique ?\n",
    "test = matrice(var['1to5'].values,20)\n",
    "for i in range(0,test.shape[0]):\n",
    "    #print(sum(test[i]))\n",
    "    if(sum(test[i])!=1.0): print(sum(test[i]))"
   ]
  },
  {
   "cell_type": "markdown",
   "metadata": {},
   "source": [
    "Les matrices de transitions ne sont pas stochastiques car certains intervalles de valeurs ne sont jamais visités : typiquement, les valeurs élevés atteintes durant le pic de 2008-2013. Les variations sont très importantes lors de cette période et les volatilités font des sauts importants d'une semaine à l'autre.\n",
    "\n",
    "Il faudra prendre cela en compte lorsque l'on conduira les tests. En effet, les tests doivent être effectués sur des matrices stochastiques. On supprimera donc les colonnes et lignes vides."
   ]
  },
  {
   "cell_type": "markdown",
   "metadata": {},
   "source": [
    "### Fonctions auxiliaires pour le calcul des statistiques de test"
   ]
  },
  {
   "cell_type": "code",
   "execution_count": 52,
   "metadata": {
    "collapsed": false
   },
   "outputs": [],
   "source": [
    "#Une fonction pour supprimer les colonnes et lignes qui ne contiennent que des zeros\n",
    "def zero(mat):\n",
    "    liste = []\n",
    "    for i in range(0,mat.shape[0]-1):\n",
    "        if(sum(mat[i])==0): liste.append(i)\n",
    "    mat = scipy.delete(mat,liste,0)\n",
    "    liste = []\n",
    "    for i in range(0,mat.shape[1]-1): \n",
    "        if(sum(mat[:,i])==0): liste.append(i)\n",
    "    mat = scipy.delete(mat,liste,1)\n",
    "    return mat"
   ]
  },
  {
   "cell_type": "code",
   "execution_count": 19,
   "metadata": {
    "collapsed": true
   },
   "outputs": [],
   "source": [
    "def A(table,i,freq,T):\n",
    "    a=0\n",
    "    xmin = min(table)\n",
    "    xmax = max(table)\n",
    "    delta = (xmax-xmin)/T\n",
    "    tmp=0\n",
    "    for t in range(0,T-1):\n",
    "        sous_table = table[int(t*delta+xmin): int((t+1)*delta+xmin)]\n",
    "        tmp =+ n(sous_table,i,freq)\n",
    "        if n(sous_table,i,freq)!=0 : a+=1\n",
    "    #print(tmp,n(table,table,i,freq))\n",
    "    return a\n",
    "\n",
    "def B(MT,i):\n",
    "    B = []\n",
    "    for j in range(0,MT.shape[1]-1):\n",
    "        if MT[i,j]!=0 : B.append(j)\n",
    "    return B\n",
    "\n",
    "def n(sous_table,i,freq):\n",
    "    tot = 0\n",
    "    for elem in sous_table :\n",
    "        if place(elem,sous_table,freq)==i : tot += 1\n",
    "    return tot\n",
    "\n",
    "def stat(table, sous_table, freq):\n",
    "    dg_lbt = 0\n",
    "    MT = matrice(table, freq)\n",
    "    stat = 0\n",
    "    sous_MT = matrice(sous_table, freq)\n",
    "    for i in range(0,MT.shape[0]-1):\n",
    "        ni = n(sous_table,i, freq)\n",
    "        Bi = B(MT,i)\n",
    "        for j in Bi:\n",
    "            if MT[i,j]!=0 : stat += ni*(sous_MT[i,j]-MT[i,j])**2/MT[i,j]\n",
    "    return stat"
   ]
  },
  {
   "cell_type": "code",
   "execution_count": 66,
   "metadata": {
    "collapsed": true
   },
   "outputs": [],
   "source": [
    "#La matrice de transition de la table est-elle homogène ?\n",
    "def homog(table, freq=50, T=5):\n",
    "    for i,elem in enumerate(table):\n",
    "        if i>0:\n",
    "            Q,p = homog_temp(table[elem].values,freq,T)\n",
    "            m1 = homog_int(table[elem].values,freq,T)\n",
    "            m2 = homog_reg(table[elem].values,freq,T)\n",
    "            print(\"p-valeur : \",p, \" - résultat du test par intervalles : \",m1,\" - résultat su test par régions : \",m2)\n",
    "            rep = p>0.05 and m1>0.5 and m2>0.5\n",
    "            if rep : print(\"La série de valeur pour le swaption \",elem,\" est homogène\")\n",
    "            else : print(\"La série de valeur pour le swaption \",elem,\" n'est pas homogène\")\n",
    "    return 0"
   ]
  },
  {
   "cell_type": "markdown",
   "metadata": {},
   "source": [
    "## Les matrices de transition sont elles bien homogènes ?"
   ]
  },
  {
   "cell_type": "markdown",
   "metadata": {},
   "source": [
    "Pour que la matrice de transition calculée à partir des fréquences de transition ait un sens, il fait s'assurer qu'elle est bien homogène en temps. On va donc mener plusieurs test pour vérifier cette hypothèse lourde."
   ]
  },
  {
   "cell_type": "markdown",
   "metadata": {},
   "source": [
    "### Test d'homogénéité des intervalles par rapport à la matrice de transition globale"
   ]
  },
  {
   "cell_type": "markdown",
   "metadata": {},
   "source": [
    "On subdivise notre série de valeurs en un nombre $T$ d'intervalles. On vérifie que, si on calcule la matrice de transition sur chacun des intervalles, on retrouve bien la matrice de transition calculée sur toutes les valeurs de la série par un test du khi-2.\n",
    "\n",
    "\n",
    "Notre hypothèse nulle est donc : $H_0 = \\{\\forall t, \\le T, \\forall i,j, p_{i,j} (t) = p_{i,j}\\}$"
   ]
  },
  {
   "cell_type": "code",
   "execution_count": 29,
   "metadata": {
    "collapsed": false
   },
   "outputs": [],
   "source": [
    "def homog_temp(table, freq, T=5):\n",
    "    N = table.size\n",
    "    Q = 0\n",
    "    xmin = min(table)\n",
    "    xmax = max(table)\n",
    "    delta = (xmax-xmin)/T\n",
    "    for t in range(0,T):\n",
    "        sous_table = table[int(t*delta+xmin): int((t+1)*delta+xmin)]\n",
    "        Q += stat(table,sous_table,freq)\n",
    "    \n",
    "    dg_lib = 0\n",
    "    MT = matrice(table, freq)\n",
    "    for i in range(0, MT.shape[0]-1):\n",
    "        dg_lib += max((len(B(MT,i))-1)*(A(table,i,freq,T)-1),0)\n",
    "    return Q, 1-stats.chi2.cdf(Q,dg_lib)"
   ]
  },
  {
   "cell_type": "code",
   "execution_count": 47,
   "metadata": {
    "collapsed": false
   },
   "outputs": [
    {
     "name": "stderr",
     "output_type": "stream",
     "text": [
      "/Users/aurianeblarre/miniconda3/lib/python3.4/site-packages/ipykernel/__main__.py:6: DeprecationWarning: using a non-integer number instead of an integer will result in an error in the future\n"
     ]
    },
    {
     "data": {
      "text/plain": [
       "(200.3324876314162, 0.0)"
      ]
     },
     "execution_count": 47,
     "metadata": {},
     "output_type": "execute_result"
    }
   ],
   "source": [
    "homog_temp(var['1to5'].values,50)"
   ]
  },
  {
   "cell_type": "markdown",
   "metadata": {},
   "source": [
    "### Test d'homogénéité par intervalle"
   ]
  },
  {
   "cell_type": "markdown",
   "metadata": {
    "collapsed": false
   },
   "source": [
    "On subdivise notre série de valeurs en un nombre $T$ d'intervalles. On va effectuer $T$ tests pour vérifier si chacune des $T$ matrices de transitions sont bien les mêmes que la matrice de transition globale.\n",
    "\n",
    "\n",
    "Notre hypothèse nulle est donc, pour chacun des intervalles $ 0\\le t <T$ : $H_0^t = \\{\\forall i,j, p_{i,j} (t) = p_{i,j}\\}$"
   ]
  },
  {
   "cell_type": "code",
   "execution_count": 69,
   "metadata": {
    "collapsed": true
   },
   "outputs": [],
   "source": [
    "def homog_int(table, freq, T=5):\n",
    "    N = table.size\n",
    "    Q = 0\n",
    "    xmin = min(table)\n",
    "    xmax = max(table)\n",
    "    delta = (xmax-xmin)/T\n",
    "    moy = 0\n",
    "    for t in range(0,T):\n",
    "        sous_table = table[int(t*delta+xmin): int((t+1)*delta+xmin)]\n",
    "        Q = stat(table,sous_table,freq)\n",
    "        dg_lib = 0\n",
    "        MT = matrice(table, freq)\n",
    "        for i in range(0, MT.shape[0]-1):\n",
    "            dg_lib += max((len(B(MT,i))-1)*(A(table,i,freq,T)-1),0)\n",
    "            p = 1-stats.chi2.cdf(Q,dg_lib)\n",
    "        #print(\"p-valeur du test sur le \",t,\"-ième intervalle : \",p)\n",
    "        if p>0.05 : moy += 1\n",
    "    \n",
    "    #print(moy,\" intervalles de temps sur \",T,\" sont homogènes\")    \n",
    "    return moy/T"
   ]
  },
  {
   "cell_type": "code",
   "execution_count": 48,
   "metadata": {
    "collapsed": false
   },
   "outputs": [
    {
     "name": "stderr",
     "output_type": "stream",
     "text": [
      "/Users/aurianeblarre/miniconda3/lib/python3.4/site-packages/ipykernel/__main__.py:6: DeprecationWarning: using a non-integer number instead of an integer will result in an error in the future\n"
     ]
    },
    {
     "name": "stdout",
     "output_type": "stream",
     "text": [
      "p-valeur du test sur le  0 -ième intervalle :  6.40796304907e-11\n",
      "p-valeur du test sur le  1 -ième intervalle :  5.27122789862e-12\n",
      "p-valeur du test sur le  2 -ième intervalle :  4.51504628129e-08\n",
      "p-valeur du test sur le  3 -ième intervalle :  8.84269886599e-05\n",
      "p-valeur du test sur le  4 -ième intervalle :  2.33598695942e-11\n",
      "0  intervalles de temps sur  5  sont homogènes\n"
     ]
    },
    {
     "data": {
      "text/plain": [
       "0"
      ]
     },
     "execution_count": 48,
     "metadata": {},
     "output_type": "execute_result"
    }
   ],
   "source": [
    "homog_int(var['1to5'].values,50)"
   ]
  },
  {
   "cell_type": "markdown",
   "metadata": {},
   "source": [
    "### Test région contre région"
   ]
  },
  {
   "cell_type": "markdown",
   "metadata": {},
   "source": [
    "On subdivise toujours notre série de valeurs en un nombre $T$ d'intervalles. Pour finir, on vérifie si les matrices de transitions de deux périodes sont identiques.\n",
    "\n",
    "Notre hypothèse nulle est donc, pour chacun des intervalles $ 0\\le t,u <T$ : $H_0^{t,u} = \\{\\forall i,j, p_{i,j}^t (t) = p_{i,j}^u\\}$"
   ]
  },
  {
   "cell_type": "code",
   "execution_count": 68,
   "metadata": {
    "collapsed": false
   },
   "outputs": [],
   "source": [
    "def homog_reg(table, freq, T=5):\n",
    "    N = table.size\n",
    "    Q = 0\n",
    "    xmin = min(table)\n",
    "    xmax = max(table)\n",
    "    delta = (xmax-xmin)/T\n",
    "    moy = 0\n",
    "    t,u = 0,0\n",
    "    for t in range(0,T):\n",
    "        for u in range(t+1,T):\n",
    "            sous_table1 = table[int(t*delta+xmin): int((t+1)*delta+xmin)]\n",
    "            sous_table2 = table[int(u*delta+xmin): int((u+1)*delta+xmin)]\n",
    "            Q = stat(sous_table1,sous_table2,freq)\n",
    "            dg_lib = 0\n",
    "            MT = matrice(sous_table1, freq)\n",
    "            for i in range(0, MT.shape[0]-1):\n",
    "                dg_lib += max((len(B(MT,i))-1)*(A(table,i,freq,T)-1),0)\n",
    "                p = 1-stats.chi2.cdf(Q,dg_lib)\n",
    "            #print(\"p-valeur du test entre le \",t+1,\"-ième et le \",u+1,\"-ième intervalle : \",p)\n",
    "            if p>0.05 : moy += 1\n",
    "    \n",
    "    #print(moy,\" paires d'intervalles de temps sur \",T,\" intervalles sont homogènes\")    \n",
    "    return 2*moy/(T*(T-1))"
   ]
  },
  {
   "cell_type": "code",
   "execution_count": 57,
   "metadata": {
    "collapsed": false
   },
   "outputs": [
    {
     "name": "stderr",
     "output_type": "stream",
     "text": [
      "/Users/aurianeblarre/miniconda3/lib/python3.4/site-packages/ipykernel/__main__.py:6: DeprecationWarning: using a non-integer number instead of an integer will result in an error in the future\n"
     ]
    },
    {
     "name": "stdout",
     "output_type": "stream",
     "text": [
      "p-valeur du test entre le  1 -ième et le  2 -ième intervalle :  7.19088405284e-05\n",
      "p-valeur du test entre le  1 -ième et le  3 -ième intervalle :  2.55754570733e-06\n",
      "p-valeur du test entre le  1 -ième et le  4 -ième intervalle :  0.00839337729713\n",
      "p-valeur du test entre le  1 -ième et le  5 -ième intervalle :  0.166808706085\n",
      "p-valeur du test entre le  2 -ième et le  3 -ième intervalle :  0.000293985482538\n",
      "p-valeur du test entre le  2 -ième et le  4 -ième intervalle :  6.85229179909e-06\n",
      "p-valeur du test entre le  2 -ième et le  5 -ième intervalle :  0.999930498263\n",
      "p-valeur du test entre le  3 -ième et le  4 -ième intervalle :  0.0064381477776\n",
      "p-valeur du test entre le  3 -ième et le  5 -ième intervalle :  0.0101785609128\n",
      "p-valeur du test entre le  4 -ième et le  5 -ième intervalle :  0.124349095748\n",
      "3  paires d'intervalles de temps sur  5  intervalles sont homogènes\n"
     ]
    },
    {
     "data": {
      "text/plain": [
       "0.3"
      ]
     },
     "execution_count": 57,
     "metadata": {},
     "output_type": "execute_result"
    }
   ],
   "source": [
    "homog_reg(var['1to5'].values,50)"
   ]
  },
  {
   "cell_type": "markdown",
   "metadata": {
    "collapsed": true
   },
   "source": [
    "## Deux matrices de transition sont-elles égales ?"
   ]
  },
  {
   "cell_type": "markdown",
   "metadata": {},
   "source": [
    "Maintenant, on peut tester si deux matrices de transition sont égales. On appliquera la statistique de test précédement définie aux deux matrices.\n",
    "\n",
    "Notre hypothèse nulle est donc, si on note $(p_{i,j}^0)$ et $(p_{i,j}^1)$ les coefficents de chacune des deux matrices de transition : $H_0 = \\{\\forall i,j, p_{i,j}^0 = p_{i,j}^1\\}$"
   ]
  },
  {
   "cell_type": "code",
   "execution_count": 31,
   "metadata": {
    "collapsed": false
   },
   "outputs": [],
   "source": [
    "def egales(table1, table2, freq=20):\n",
    "    Q = stat(table1,table2,freq)\n",
    "    \n",
    "    dg_lib = 0\n",
    "    MT = matrice(table1, freq)\n",
    "    for i in range(0, MT.shape[0]-1):\n",
    "        #print(len(B(MT,i)),A(table,i,freq,T))\n",
    "        dg_lib += (len(B(MT,i))-1)\n",
    "    return Q, 1-stats.chi2.cdf(Q,dg_lib)\n"
   ]
  },
  {
   "cell_type": "code",
   "execution_count": 15,
   "metadata": {
    "collapsed": false
   },
   "outputs": [
    {
     "name": "stderr",
     "output_type": "stream",
     "text": [
      "/Users/aurianeblarre/miniconda3/lib/python3.4/site-packages/ipykernel/__main__.py:6: DeprecationWarning: using a non-integer number instead of an integer will result in an error in the future\n"
     ]
    },
    {
     "name": "stdout",
     "output_type": "stream",
     "text": [
      "14\n",
      "(22.828486777395511, 0.063118428944444527)\n",
      "24\n",
      "(32.841886807409708, 0.10745383633510475)\n"
     ]
    }
   ],
   "source": [
    "print(egales(var['1to5'].values,var['1to10'].values))\n",
    "print(egales(var['10to10'].values,var['10to20'].values))"
   ]
  },
  {
   "cell_type": "markdown",
   "metadata": {},
   "source": [
    "# Tests sur toute la période 2001-2016"
   ]
  },
  {
   "cell_type": "markdown",
   "metadata": {},
   "source": [
    "## Homogénéité"
   ]
  },
  {
   "cell_type": "code",
   "execution_count": 70,
   "metadata": {
    "collapsed": false
   },
   "outputs": [
    {
     "name": "stderr",
     "output_type": "stream",
     "text": [
      "/Users/aurianeblarre/miniconda3/lib/python3.4/site-packages/ipykernel/__main__.py:6: DeprecationWarning: using a non-integer number instead of an integer will result in an error in the future\n"
     ]
    },
    {
     "name": "stdout",
     "output_type": "stream",
     "text": [
      "p-valeur :  0.0  - résultat du test par intervalles :  0.4  - résultat su test par régions :  0.3\n",
      "La série de valeur pour le swaption  1to5  n'est pas homogène\n",
      "p-valeur :  0.0  - résultat du test par intervalles :  0.4  - résultat su test par régions :  1.0\n",
      "La série de valeur pour le swaption  1to10  n'est pas homogène\n",
      "p-valeur :  0.0  - résultat du test par intervalles :  0.8  - résultat su test par régions :  1.0\n",
      "La série de valeur pour le swaption  1to20  n'est pas homogène\n",
      "p-valeur :  3.48848283593e-09  - résultat du test par intervalles :  1.0  - résultat su test par régions :  1.0\n",
      "La série de valeur pour le swaption  5to5  n'est pas homogène\n",
      "p-valeur :  0.0  - résultat du test par intervalles :  0.8  - résultat su test par régions :  1.0\n",
      "La série de valeur pour le swaption  5to10  n'est pas homogène\n",
      "p-valeur :  0.00140298839367  - résultat du test par intervalles :  1.0  - résultat su test par régions :  1.0\n",
      "La série de valeur pour le swaption  5to20  n'est pas homogène\n",
      "p-valeur :  1.66355812459e-08  - résultat du test par intervalles :  1.0  - résultat su test par régions :  1.0\n",
      "La série de valeur pour le swaption  10to5  n'est pas homogène\n",
      "p-valeur :  2.31781260851e-12  - résultat du test par intervalles :  0.8  - résultat su test par régions :  1.0\n",
      "La série de valeur pour le swaption  10to10  n'est pas homogène\n",
      "p-valeur :  3.72313624375e-10  - résultat du test par intervalles :  0.6  - résultat su test par régions :  1.0\n",
      "La série de valeur pour le swaption  10to20  n'est pas homogène\n"
     ]
    },
    {
     "data": {
      "text/plain": [
       "0"
      ]
     },
     "execution_count": 70,
     "metadata": {},
     "output_type": "execute_result"
    }
   ],
   "source": [
    "homog(table)"
   ]
  },
  {
   "cell_type": "markdown",
   "metadata": {},
   "source": [
    "Comme on pouvait s'y attendre, les matrices de transition sur la période 2001-2016 ne sont homogène dans le temps pour aucun des swaptions. Nous allons donc restreindre notre études à de plus petits intervalles."
   ]
  },
  {
   "cell_type": "markdown",
   "metadata": {},
   "source": [
    "# Test sur la période 2001-2008"
   ]
  },
  {
   "cell_type": "code",
   "execution_count": null,
   "metadata": {
    "collapsed": true
   },
   "outputs": [],
   "source": []
  }
 ],
 "metadata": {
  "kernelspec": {
   "display_name": "Python 3",
   "language": "python",
   "name": "python3"
  },
  "language_info": {
   "codemirror_mode": {
    "name": "ipython",
    "version": 3
   },
   "file_extension": ".py",
   "mimetype": "text/x-python",
   "name": "python",
   "nbconvert_exporter": "python",
   "pygments_lexer": "ipython3",
   "version": "3.4.4"
  }
 },
 "nbformat": 4,
 "nbformat_minor": 0
}
